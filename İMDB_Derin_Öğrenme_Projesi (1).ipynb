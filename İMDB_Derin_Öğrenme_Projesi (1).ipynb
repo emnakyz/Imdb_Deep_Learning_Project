{
  "nbformat": 4,
  "nbformat_minor": 0,
  "metadata": {
    "colab": {
      "name": "İMDB_Derin_Öğrenme_Projesi.ipynb",
      "provenance": [],
      "collapsed_sections": []
    },
    "kernelspec": {
      "name": "python3",
      "display_name": "Python 3"
    },
    "language_info": {
      "name": "python"
    }
  },
  "cells": [
    {
      "cell_type": "markdown",
      "metadata": {
        "id": "bDvGQbSGmEa5"
      },
      "source": [
        "# **İMDB FİLM İNCELEMELERİ İLE DUYGU ANALİZİ PROJESİ**"
      ]
    },
    {
      "cell_type": "markdown",
      "metadata": {
        "id": "agEodJiBmWXL"
      },
      "source": [
        "\n",
        "\n",
        "1.  Muhammet Emin Akyüz-030718106\n",
        "2.  Veysel Hacı Hazar-030718108\n",
        "3.  Soner Karaevli-030716005\n",
        "4.  Yakup Yıldırım-030716034\n",
        "\n",
        "\n",
        "\n",
        "\n",
        "\n",
        "\n",
        "\n",
        "\n",
        "\n",
        "\n"
      ]
    },
    {
      "cell_type": "code",
      "metadata": {
        "id": "02v_Ys_jkvw-",
        "colab": {
          "base_uri": "https://localhost:8080/"
        },
        "outputId": "26c83d41-372b-46a5-982a-7489cb4918d8"
      },
      "source": [
        "from google.colab import drive\n",
        "drive.mount('/gdrive')\n",
        "%cd /gdrive\n"
      ],
      "execution_count": 1,
      "outputs": [
        {
          "output_type": "stream",
          "text": [
            "Mounted at /gdrive\n",
            "/gdrive\n"
          ],
          "name": "stdout"
        }
      ]
    },
    {
      "cell_type": "code",
      "metadata": {
        "id": "l1P8U0JKnihK",
        "colab": {
          "base_uri": "https://localhost:8080/"
        },
        "outputId": "c3fb0d7f-fd9c-4edf-f000-70979ce88472"
      },
      "source": [
        "!ls 'My Drive/COLABS/'"
      ],
      "execution_count": 2,
      "outputs": [
        {
          "output_type": "stream",
          "text": [
            "bank.csv\t    İMDB_Derin_Öğrenme_Projesi.ipynb  Test.ipynb\n",
            "Deneme_001.ipynb    IMDB_Veriseti_v1.csv\t      veri_seti_3.csv\n",
            "housepricedata.csv  IMDB_Veriseti_v2.csv\n"
          ],
          "name": "stdout"
        }
      ]
    },
    {
      "cell_type": "markdown",
      "metadata": {
        "id": "-fv9s8l0oP9L"
      },
      "source": [
        "**Kullanılacak Kütüphanelerimizi Ekleyelim**\n"
      ]
    },
    {
      "cell_type": "code",
      "metadata": {
        "id": "kbbi8L0VoWFo"
      },
      "source": [
        "#KÜTÜPHANE BÖLÜMÜ\n",
        "import matplotlib.pyplot as plt\n",
        "import seaborn as sns\n",
        "import tensorflow as tf\n",
        "from keras.datasets import imdb\n",
        "from keras.preprocessing.sequence import pad_sequences\n",
        "from tensorflow.python.keras.preprocessing.sequence import pad_sequences\n",
        "import numpy as np\n",
        "import pandas as pd\n",
        "from tensorflow.python.keras.preprocessing.text import Tokenizer\n",
        "from tensorflow.python.keras.models  import load_model\n",
        "from sklearn.model_selection import train_test_split\n",
        "from tensorflow.python.keras.models import Sequential\n",
        "from tensorflow.python.keras.layers import Dense, Embedding,LSTM,Dropout\n",
        "from keras.layers import Dropout\n",
        "from keras.optimizers import Adam\n",
        "from keras.layers.recurrent import GRU\n",
        "import plotly.express as px\n",
        "\n",
        "from sklearn.model_selection import train_test_split\n",
        "from sklearn.feature_extraction.text import CountVectorizer\n",
        "from sklearn.feature_extraction.text import TfidfTransformer\n",
        "from tensorflow.keras.models import Sequential\n",
        "from tensorflow.keras.layers import Dense,Activation,Dropout\n",
        "from tensorflow.keras.callbacks import EarlyStopping\n",
        "\n",
        "\n",
        "\n",
        "\n"
      ],
      "execution_count": 3,
      "outputs": []
    },
    {
      "cell_type": "markdown",
      "metadata": {
        "id": "L9LiNGTVuE9N"
      },
      "source": [
        "**Bu Kısımda İMDB Veri Setimizden İlk 15 Verimizin inceleme ve duygu sütunlarını getirdik.**"
      ]
    },
    {
      "cell_type": "code",
      "metadata": {
        "id": "BEtDJ45kqCQW",
        "colab": {
          "base_uri": "https://localhost:8080/",
          "height": 491
        },
        "outputId": "e41ca118-31ec-4812-e896-409bcb3d9cd7"
      },
      "source": [
        "#Veri Yükleme\n",
        "imdb_verisi = pd.read_csv('My Drive/COLABS/IMDB_Veriseti_v1.csv')\n",
        "imdb_verisi.head(15)"
      ],
      "execution_count": 4,
      "outputs": [
        {
          "output_type": "execute_result",
          "data": {
            "text/html": [
              "<div>\n",
              "<style scoped>\n",
              "    .dataframe tbody tr th:only-of-type {\n",
              "        vertical-align: middle;\n",
              "    }\n",
              "\n",
              "    .dataframe tbody tr th {\n",
              "        vertical-align: top;\n",
              "    }\n",
              "\n",
              "    .dataframe thead th {\n",
              "        text-align: right;\n",
              "    }\n",
              "</style>\n",
              "<table border=\"1\" class=\"dataframe\">\n",
              "  <thead>\n",
              "    <tr style=\"text-align: right;\">\n",
              "      <th></th>\n",
              "      <th>review</th>\n",
              "      <th>sentiment</th>\n",
              "    </tr>\n",
              "  </thead>\n",
              "  <tbody>\n",
              "    <tr>\n",
              "      <th>0</th>\n",
              "      <td>One of the other reviewers has mentioned that ...</td>\n",
              "      <td>positive</td>\n",
              "    </tr>\n",
              "    <tr>\n",
              "      <th>1</th>\n",
              "      <td>A wonderful little production. &lt;br /&gt;&lt;br /&gt;The...</td>\n",
              "      <td>positive</td>\n",
              "    </tr>\n",
              "    <tr>\n",
              "      <th>2</th>\n",
              "      <td>I thought this was a wonderful way to spend ti...</td>\n",
              "      <td>positive</td>\n",
              "    </tr>\n",
              "    <tr>\n",
              "      <th>3</th>\n",
              "      <td>Basically there's a family where a little boy ...</td>\n",
              "      <td>negative</td>\n",
              "    </tr>\n",
              "    <tr>\n",
              "      <th>4</th>\n",
              "      <td>Petter Mattei's \"Love in the Time of Money\" is...</td>\n",
              "      <td>positive</td>\n",
              "    </tr>\n",
              "    <tr>\n",
              "      <th>5</th>\n",
              "      <td>Probably my all-time favorite movie, a story o...</td>\n",
              "      <td>positive</td>\n",
              "    </tr>\n",
              "    <tr>\n",
              "      <th>6</th>\n",
              "      <td>I sure would like to see a resurrection of a u...</td>\n",
              "      <td>positive</td>\n",
              "    </tr>\n",
              "    <tr>\n",
              "      <th>7</th>\n",
              "      <td>This show was an amazing, fresh &amp; innovative i...</td>\n",
              "      <td>negative</td>\n",
              "    </tr>\n",
              "    <tr>\n",
              "      <th>8</th>\n",
              "      <td>Encouraged by the positive comments about this...</td>\n",
              "      <td>negative</td>\n",
              "    </tr>\n",
              "    <tr>\n",
              "      <th>9</th>\n",
              "      <td>If you like original gut wrenching laughter yo...</td>\n",
              "      <td>positive</td>\n",
              "    </tr>\n",
              "    <tr>\n",
              "      <th>10</th>\n",
              "      <td>Phil the Alien is one of those quirky films wh...</td>\n",
              "      <td>negative</td>\n",
              "    </tr>\n",
              "    <tr>\n",
              "      <th>11</th>\n",
              "      <td>I saw this movie when I was about 12 when it c...</td>\n",
              "      <td>negative</td>\n",
              "    </tr>\n",
              "    <tr>\n",
              "      <th>12</th>\n",
              "      <td>So im not a big fan of Boll's work but then ag...</td>\n",
              "      <td>negative</td>\n",
              "    </tr>\n",
              "    <tr>\n",
              "      <th>13</th>\n",
              "      <td>The cast played Shakespeare.&lt;br /&gt;&lt;br /&gt;Shakes...</td>\n",
              "      <td>negative</td>\n",
              "    </tr>\n",
              "    <tr>\n",
              "      <th>14</th>\n",
              "      <td>This a fantastic movie of three prisoners who ...</td>\n",
              "      <td>positive</td>\n",
              "    </tr>\n",
              "  </tbody>\n",
              "</table>\n",
              "</div>"
            ],
            "text/plain": [
              "                                               review sentiment\n",
              "0   One of the other reviewers has mentioned that ...  positive\n",
              "1   A wonderful little production. <br /><br />The...  positive\n",
              "2   I thought this was a wonderful way to spend ti...  positive\n",
              "3   Basically there's a family where a little boy ...  negative\n",
              "4   Petter Mattei's \"Love in the Time of Money\" is...  positive\n",
              "5   Probably my all-time favorite movie, a story o...  positive\n",
              "6   I sure would like to see a resurrection of a u...  positive\n",
              "7   This show was an amazing, fresh & innovative i...  negative\n",
              "8   Encouraged by the positive comments about this...  negative\n",
              "9   If you like original gut wrenching laughter yo...  positive\n",
              "10  Phil the Alien is one of those quirky films wh...  negative\n",
              "11  I saw this movie when I was about 12 when it c...  negative\n",
              "12  So im not a big fan of Boll's work but then ag...  negative\n",
              "13  The cast played Shakespeare.<br /><br />Shakes...  negative\n",
              "14  This a fantastic movie of three prisoners who ...  positive"
            ]
          },
          "metadata": {
            "tags": []
          },
          "execution_count": 4
        }
      ]
    },
    {
      "cell_type": "code",
      "metadata": {
        "id": "elDlWSeYSsW-",
        "colab": {
          "base_uri": "https://localhost:8080/",
          "height": 652
        },
        "outputId": "c8077be8-0801-45b5-fc08-7234647fdd74"
      },
      "source": [
        "#Veri Yükleme_2\n",
        "imdb_verisi_2 = pd.read_csv('My Drive/COLABS/IMDB_Veriseti_v2.csv',low_memory=False)\n",
        "imdb_verisi_2.head()"
      ],
      "execution_count": 5,
      "outputs": [
        {
          "output_type": "execute_result",
          "data": {
            "text/html": [
              "<div>\n",
              "<style scoped>\n",
              "    .dataframe tbody tr th:only-of-type {\n",
              "        vertical-align: middle;\n",
              "    }\n",
              "\n",
              "    .dataframe tbody tr th {\n",
              "        vertical-align: top;\n",
              "    }\n",
              "\n",
              "    .dataframe thead th {\n",
              "        text-align: right;\n",
              "    }\n",
              "</style>\n",
              "<table border=\"1\" class=\"dataframe\">\n",
              "  <thead>\n",
              "    <tr style=\"text-align: right;\">\n",
              "      <th></th>\n",
              "      <th>imdb_title_id</th>\n",
              "      <th>title</th>\n",
              "      <th>original_title</th>\n",
              "      <th>year</th>\n",
              "      <th>date_published</th>\n",
              "      <th>genre</th>\n",
              "      <th>duration</th>\n",
              "      <th>country</th>\n",
              "      <th>language</th>\n",
              "      <th>director</th>\n",
              "      <th>writer</th>\n",
              "      <th>production_company</th>\n",
              "      <th>actors</th>\n",
              "      <th>description</th>\n",
              "      <th>avg_vote</th>\n",
              "      <th>votes</th>\n",
              "      <th>budget</th>\n",
              "      <th>usa_gross_income</th>\n",
              "      <th>worlwide_gross_income</th>\n",
              "      <th>metascore</th>\n",
              "      <th>reviews_from_users</th>\n",
              "      <th>reviews_from_critics</th>\n",
              "    </tr>\n",
              "  </thead>\n",
              "  <tbody>\n",
              "    <tr>\n",
              "      <th>0</th>\n",
              "      <td>tt0000009</td>\n",
              "      <td>Miss Jerry</td>\n",
              "      <td>Miss Jerry</td>\n",
              "      <td>1894</td>\n",
              "      <td>1894-10-09</td>\n",
              "      <td>Romance</td>\n",
              "      <td>45</td>\n",
              "      <td>USA</td>\n",
              "      <td>None</td>\n",
              "      <td>Alexander Black</td>\n",
              "      <td>Alexander Black</td>\n",
              "      <td>Alexander Black Photoplays</td>\n",
              "      <td>Blanche Bayliss, William Courtenay, Chauncey D...</td>\n",
              "      <td>The adventures of a female reporter in the 1890s.</td>\n",
              "      <td>5.9</td>\n",
              "      <td>154</td>\n",
              "      <td>NaN</td>\n",
              "      <td>NaN</td>\n",
              "      <td>NaN</td>\n",
              "      <td>NaN</td>\n",
              "      <td>1.0</td>\n",
              "      <td>2.0</td>\n",
              "    </tr>\n",
              "    <tr>\n",
              "      <th>1</th>\n",
              "      <td>tt0000574</td>\n",
              "      <td>The Story of the Kelly Gang</td>\n",
              "      <td>The Story of the Kelly Gang</td>\n",
              "      <td>1906</td>\n",
              "      <td>1906-12-26</td>\n",
              "      <td>Biography, Crime, Drama</td>\n",
              "      <td>70</td>\n",
              "      <td>Australia</td>\n",
              "      <td>None</td>\n",
              "      <td>Charles Tait</td>\n",
              "      <td>Charles Tait</td>\n",
              "      <td>J. and N. Tait</td>\n",
              "      <td>Elizabeth Tait, John Tait, Norman Campbell, Be...</td>\n",
              "      <td>True story of notorious Australian outlaw Ned ...</td>\n",
              "      <td>6.1</td>\n",
              "      <td>589</td>\n",
              "      <td>$ 2250</td>\n",
              "      <td>NaN</td>\n",
              "      <td>NaN</td>\n",
              "      <td>NaN</td>\n",
              "      <td>7.0</td>\n",
              "      <td>7.0</td>\n",
              "    </tr>\n",
              "    <tr>\n",
              "      <th>2</th>\n",
              "      <td>tt0001892</td>\n",
              "      <td>Den sorte drøm</td>\n",
              "      <td>Den sorte drøm</td>\n",
              "      <td>1911</td>\n",
              "      <td>1911-08-19</td>\n",
              "      <td>Drama</td>\n",
              "      <td>53</td>\n",
              "      <td>Germany, Denmark</td>\n",
              "      <td>NaN</td>\n",
              "      <td>Urban Gad</td>\n",
              "      <td>Urban Gad, Gebhard Schätzler-Perasini</td>\n",
              "      <td>Fotorama</td>\n",
              "      <td>Asta Nielsen, Valdemar Psilander, Gunnar Helse...</td>\n",
              "      <td>Two men of high rank are both wooing the beaut...</td>\n",
              "      <td>5.8</td>\n",
              "      <td>188</td>\n",
              "      <td>NaN</td>\n",
              "      <td>NaN</td>\n",
              "      <td>NaN</td>\n",
              "      <td>NaN</td>\n",
              "      <td>5.0</td>\n",
              "      <td>2.0</td>\n",
              "    </tr>\n",
              "    <tr>\n",
              "      <th>3</th>\n",
              "      <td>tt0002101</td>\n",
              "      <td>Cleopatra</td>\n",
              "      <td>Cleopatra</td>\n",
              "      <td>1912</td>\n",
              "      <td>1912-11-13</td>\n",
              "      <td>Drama, History</td>\n",
              "      <td>100</td>\n",
              "      <td>USA</td>\n",
              "      <td>English</td>\n",
              "      <td>Charles L. Gaskill</td>\n",
              "      <td>Victorien Sardou</td>\n",
              "      <td>Helen Gardner Picture Players</td>\n",
              "      <td>Helen Gardner, Pearl Sindelar, Miss Fielding, ...</td>\n",
              "      <td>The fabled queen of Egypt's affair with Roman ...</td>\n",
              "      <td>5.2</td>\n",
              "      <td>446</td>\n",
              "      <td>$ 45000</td>\n",
              "      <td>NaN</td>\n",
              "      <td>NaN</td>\n",
              "      <td>NaN</td>\n",
              "      <td>25.0</td>\n",
              "      <td>3.0</td>\n",
              "    </tr>\n",
              "    <tr>\n",
              "      <th>4</th>\n",
              "      <td>tt0002130</td>\n",
              "      <td>L'Inferno</td>\n",
              "      <td>L'Inferno</td>\n",
              "      <td>1911</td>\n",
              "      <td>1911-03-06</td>\n",
              "      <td>Adventure, Drama, Fantasy</td>\n",
              "      <td>68</td>\n",
              "      <td>Italy</td>\n",
              "      <td>Italian</td>\n",
              "      <td>Francesco Bertolini, Adolfo Padovan</td>\n",
              "      <td>Dante Alighieri</td>\n",
              "      <td>Milano Film</td>\n",
              "      <td>Salvatore Papa, Arturo Pirovano, Giuseppe de L...</td>\n",
              "      <td>Loosely adapted from Dante's Divine Comedy and...</td>\n",
              "      <td>7.0</td>\n",
              "      <td>2237</td>\n",
              "      <td>NaN</td>\n",
              "      <td>NaN</td>\n",
              "      <td>NaN</td>\n",
              "      <td>NaN</td>\n",
              "      <td>31.0</td>\n",
              "      <td>14.0</td>\n",
              "    </tr>\n",
              "  </tbody>\n",
              "</table>\n",
              "</div>"
            ],
            "text/plain": [
              "  imdb_title_id  ... reviews_from_critics\n",
              "0     tt0000009  ...                  2.0\n",
              "1     tt0000574  ...                  7.0\n",
              "2     tt0001892  ...                  2.0\n",
              "3     tt0002101  ...                  3.0\n",
              "4     tt0002130  ...                 14.0\n",
              "\n",
              "[5 rows x 22 columns]"
            ]
          },
          "metadata": {
            "tags": []
          },
          "execution_count": 5
        }
      ]
    },
    {
      "cell_type": "code",
      "metadata": {
        "id": "wdYQTH-8RD4y"
      },
      "source": [
        "\n"
      ],
      "execution_count": 5,
      "outputs": []
    },
    {
      "cell_type": "markdown",
      "metadata": {
        "id": "MQ5peVFOB-c3"
      },
      "source": [
        "**Aşağıda yazdığımız imdb_verisi.isna()  metodu ile NaN(Not a number) isimlendirilen verilerimizin ileride problem olmaması için bunları tespit ediyoruz.NaN değerlerinin olduğu satırlarda sonuç True ,olmayan sütunlarda ise False olarak dönüş yapıyor.**"
      ]
    },
    {
      "cell_type": "code",
      "metadata": {
        "id": "vSabMB1sDS5V",
        "colab": {
          "base_uri": "https://localhost:8080/",
          "height": 402
        },
        "outputId": "83b5f2ea-2dab-4dc7-bb92-b457a3e5b218"
      },
      "source": [
        "imdb_verisi.isna()"
      ],
      "execution_count": 6,
      "outputs": [
        {
          "output_type": "execute_result",
          "data": {
            "text/html": [
              "<div>\n",
              "<style scoped>\n",
              "    .dataframe tbody tr th:only-of-type {\n",
              "        vertical-align: middle;\n",
              "    }\n",
              "\n",
              "    .dataframe tbody tr th {\n",
              "        vertical-align: top;\n",
              "    }\n",
              "\n",
              "    .dataframe thead th {\n",
              "        text-align: right;\n",
              "    }\n",
              "</style>\n",
              "<table border=\"1\" class=\"dataframe\">\n",
              "  <thead>\n",
              "    <tr style=\"text-align: right;\">\n",
              "      <th></th>\n",
              "      <th>review</th>\n",
              "      <th>sentiment</th>\n",
              "    </tr>\n",
              "  </thead>\n",
              "  <tbody>\n",
              "    <tr>\n",
              "      <th>0</th>\n",
              "      <td>False</td>\n",
              "      <td>False</td>\n",
              "    </tr>\n",
              "    <tr>\n",
              "      <th>1</th>\n",
              "      <td>False</td>\n",
              "      <td>False</td>\n",
              "    </tr>\n",
              "    <tr>\n",
              "      <th>2</th>\n",
              "      <td>False</td>\n",
              "      <td>False</td>\n",
              "    </tr>\n",
              "    <tr>\n",
              "      <th>3</th>\n",
              "      <td>False</td>\n",
              "      <td>False</td>\n",
              "    </tr>\n",
              "    <tr>\n",
              "      <th>4</th>\n",
              "      <td>False</td>\n",
              "      <td>False</td>\n",
              "    </tr>\n",
              "    <tr>\n",
              "      <th>...</th>\n",
              "      <td>...</td>\n",
              "      <td>...</td>\n",
              "    </tr>\n",
              "    <tr>\n",
              "      <th>49995</th>\n",
              "      <td>False</td>\n",
              "      <td>False</td>\n",
              "    </tr>\n",
              "    <tr>\n",
              "      <th>49996</th>\n",
              "      <td>False</td>\n",
              "      <td>False</td>\n",
              "    </tr>\n",
              "    <tr>\n",
              "      <th>49997</th>\n",
              "      <td>False</td>\n",
              "      <td>False</td>\n",
              "    </tr>\n",
              "    <tr>\n",
              "      <th>49998</th>\n",
              "      <td>False</td>\n",
              "      <td>False</td>\n",
              "    </tr>\n",
              "    <tr>\n",
              "      <th>49999</th>\n",
              "      <td>False</td>\n",
              "      <td>False</td>\n",
              "    </tr>\n",
              "  </tbody>\n",
              "</table>\n",
              "<p>50000 rows × 2 columns</p>\n",
              "</div>"
            ],
            "text/plain": [
              "       review  sentiment\n",
              "0       False      False\n",
              "1       False      False\n",
              "2       False      False\n",
              "3       False      False\n",
              "4       False      False\n",
              "...       ...        ...\n",
              "49995   False      False\n",
              "49996   False      False\n",
              "49997   False      False\n",
              "49998   False      False\n",
              "49999   False      False\n",
              "\n",
              "[50000 rows x 2 columns]"
            ]
          },
          "metadata": {
            "tags": []
          },
          "execution_count": 6
        }
      ]
    },
    {
      "cell_type": "code",
      "metadata": {
        "id": "29fF9wfvUC1Y",
        "colab": {
          "base_uri": "https://localhost:8080/",
          "height": 422
        },
        "outputId": "add81e5c-bc2b-4832-9144-1fff82dcd01c"
      },
      "source": [
        "imdb_verisi_2.isna()"
      ],
      "execution_count": 7,
      "outputs": [
        {
          "output_type": "execute_result",
          "data": {
            "text/html": [
              "<div>\n",
              "<style scoped>\n",
              "    .dataframe tbody tr th:only-of-type {\n",
              "        vertical-align: middle;\n",
              "    }\n",
              "\n",
              "    .dataframe tbody tr th {\n",
              "        vertical-align: top;\n",
              "    }\n",
              "\n",
              "    .dataframe thead th {\n",
              "        text-align: right;\n",
              "    }\n",
              "</style>\n",
              "<table border=\"1\" class=\"dataframe\">\n",
              "  <thead>\n",
              "    <tr style=\"text-align: right;\">\n",
              "      <th></th>\n",
              "      <th>imdb_title_id</th>\n",
              "      <th>title</th>\n",
              "      <th>original_title</th>\n",
              "      <th>year</th>\n",
              "      <th>date_published</th>\n",
              "      <th>genre</th>\n",
              "      <th>duration</th>\n",
              "      <th>country</th>\n",
              "      <th>language</th>\n",
              "      <th>director</th>\n",
              "      <th>writer</th>\n",
              "      <th>production_company</th>\n",
              "      <th>actors</th>\n",
              "      <th>description</th>\n",
              "      <th>avg_vote</th>\n",
              "      <th>votes</th>\n",
              "      <th>budget</th>\n",
              "      <th>usa_gross_income</th>\n",
              "      <th>worlwide_gross_income</th>\n",
              "      <th>metascore</th>\n",
              "      <th>reviews_from_users</th>\n",
              "      <th>reviews_from_critics</th>\n",
              "    </tr>\n",
              "  </thead>\n",
              "  <tbody>\n",
              "    <tr>\n",
              "      <th>0</th>\n",
              "      <td>False</td>\n",
              "      <td>False</td>\n",
              "      <td>False</td>\n",
              "      <td>False</td>\n",
              "      <td>False</td>\n",
              "      <td>False</td>\n",
              "      <td>False</td>\n",
              "      <td>False</td>\n",
              "      <td>False</td>\n",
              "      <td>False</td>\n",
              "      <td>False</td>\n",
              "      <td>False</td>\n",
              "      <td>False</td>\n",
              "      <td>False</td>\n",
              "      <td>False</td>\n",
              "      <td>False</td>\n",
              "      <td>True</td>\n",
              "      <td>True</td>\n",
              "      <td>True</td>\n",
              "      <td>True</td>\n",
              "      <td>False</td>\n",
              "      <td>False</td>\n",
              "    </tr>\n",
              "    <tr>\n",
              "      <th>1</th>\n",
              "      <td>False</td>\n",
              "      <td>False</td>\n",
              "      <td>False</td>\n",
              "      <td>False</td>\n",
              "      <td>False</td>\n",
              "      <td>False</td>\n",
              "      <td>False</td>\n",
              "      <td>False</td>\n",
              "      <td>False</td>\n",
              "      <td>False</td>\n",
              "      <td>False</td>\n",
              "      <td>False</td>\n",
              "      <td>False</td>\n",
              "      <td>False</td>\n",
              "      <td>False</td>\n",
              "      <td>False</td>\n",
              "      <td>False</td>\n",
              "      <td>True</td>\n",
              "      <td>True</td>\n",
              "      <td>True</td>\n",
              "      <td>False</td>\n",
              "      <td>False</td>\n",
              "    </tr>\n",
              "    <tr>\n",
              "      <th>2</th>\n",
              "      <td>False</td>\n",
              "      <td>False</td>\n",
              "      <td>False</td>\n",
              "      <td>False</td>\n",
              "      <td>False</td>\n",
              "      <td>False</td>\n",
              "      <td>False</td>\n",
              "      <td>False</td>\n",
              "      <td>True</td>\n",
              "      <td>False</td>\n",
              "      <td>False</td>\n",
              "      <td>False</td>\n",
              "      <td>False</td>\n",
              "      <td>False</td>\n",
              "      <td>False</td>\n",
              "      <td>False</td>\n",
              "      <td>True</td>\n",
              "      <td>True</td>\n",
              "      <td>True</td>\n",
              "      <td>True</td>\n",
              "      <td>False</td>\n",
              "      <td>False</td>\n",
              "    </tr>\n",
              "    <tr>\n",
              "      <th>3</th>\n",
              "      <td>False</td>\n",
              "      <td>False</td>\n",
              "      <td>False</td>\n",
              "      <td>False</td>\n",
              "      <td>False</td>\n",
              "      <td>False</td>\n",
              "      <td>False</td>\n",
              "      <td>False</td>\n",
              "      <td>False</td>\n",
              "      <td>False</td>\n",
              "      <td>False</td>\n",
              "      <td>False</td>\n",
              "      <td>False</td>\n",
              "      <td>False</td>\n",
              "      <td>False</td>\n",
              "      <td>False</td>\n",
              "      <td>False</td>\n",
              "      <td>True</td>\n",
              "      <td>True</td>\n",
              "      <td>True</td>\n",
              "      <td>False</td>\n",
              "      <td>False</td>\n",
              "    </tr>\n",
              "    <tr>\n",
              "      <th>4</th>\n",
              "      <td>False</td>\n",
              "      <td>False</td>\n",
              "      <td>False</td>\n",
              "      <td>False</td>\n",
              "      <td>False</td>\n",
              "      <td>False</td>\n",
              "      <td>False</td>\n",
              "      <td>False</td>\n",
              "      <td>False</td>\n",
              "      <td>False</td>\n",
              "      <td>False</td>\n",
              "      <td>False</td>\n",
              "      <td>False</td>\n",
              "      <td>False</td>\n",
              "      <td>False</td>\n",
              "      <td>False</td>\n",
              "      <td>True</td>\n",
              "      <td>True</td>\n",
              "      <td>True</td>\n",
              "      <td>True</td>\n",
              "      <td>False</td>\n",
              "      <td>False</td>\n",
              "    </tr>\n",
              "    <tr>\n",
              "      <th>...</th>\n",
              "      <td>...</td>\n",
              "      <td>...</td>\n",
              "      <td>...</td>\n",
              "      <td>...</td>\n",
              "      <td>...</td>\n",
              "      <td>...</td>\n",
              "      <td>...</td>\n",
              "      <td>...</td>\n",
              "      <td>...</td>\n",
              "      <td>...</td>\n",
              "      <td>...</td>\n",
              "      <td>...</td>\n",
              "      <td>...</td>\n",
              "      <td>...</td>\n",
              "      <td>...</td>\n",
              "      <td>...</td>\n",
              "      <td>...</td>\n",
              "      <td>...</td>\n",
              "      <td>...</td>\n",
              "      <td>...</td>\n",
              "      <td>...</td>\n",
              "      <td>...</td>\n",
              "    </tr>\n",
              "    <tr>\n",
              "      <th>85850</th>\n",
              "      <td>False</td>\n",
              "      <td>False</td>\n",
              "      <td>False</td>\n",
              "      <td>False</td>\n",
              "      <td>False</td>\n",
              "      <td>False</td>\n",
              "      <td>False</td>\n",
              "      <td>False</td>\n",
              "      <td>False</td>\n",
              "      <td>False</td>\n",
              "      <td>False</td>\n",
              "      <td>False</td>\n",
              "      <td>False</td>\n",
              "      <td>False</td>\n",
              "      <td>False</td>\n",
              "      <td>False</td>\n",
              "      <td>True</td>\n",
              "      <td>True</td>\n",
              "      <td>False</td>\n",
              "      <td>True</td>\n",
              "      <td>True</td>\n",
              "      <td>False</td>\n",
              "    </tr>\n",
              "    <tr>\n",
              "      <th>85851</th>\n",
              "      <td>False</td>\n",
              "      <td>False</td>\n",
              "      <td>False</td>\n",
              "      <td>False</td>\n",
              "      <td>False</td>\n",
              "      <td>False</td>\n",
              "      <td>False</td>\n",
              "      <td>False</td>\n",
              "      <td>False</td>\n",
              "      <td>False</td>\n",
              "      <td>False</td>\n",
              "      <td>False</td>\n",
              "      <td>False</td>\n",
              "      <td>False</td>\n",
              "      <td>False</td>\n",
              "      <td>False</td>\n",
              "      <td>True</td>\n",
              "      <td>True</td>\n",
              "      <td>False</td>\n",
              "      <td>True</td>\n",
              "      <td>False</td>\n",
              "      <td>False</td>\n",
              "    </tr>\n",
              "    <tr>\n",
              "      <th>85852</th>\n",
              "      <td>False</td>\n",
              "      <td>False</td>\n",
              "      <td>False</td>\n",
              "      <td>False</td>\n",
              "      <td>False</td>\n",
              "      <td>False</td>\n",
              "      <td>False</td>\n",
              "      <td>False</td>\n",
              "      <td>False</td>\n",
              "      <td>False</td>\n",
              "      <td>False</td>\n",
              "      <td>False</td>\n",
              "      <td>False</td>\n",
              "      <td>True</td>\n",
              "      <td>False</td>\n",
              "      <td>False</td>\n",
              "      <td>True</td>\n",
              "      <td>True</td>\n",
              "      <td>True</td>\n",
              "      <td>True</td>\n",
              "      <td>True</td>\n",
              "      <td>True</td>\n",
              "    </tr>\n",
              "    <tr>\n",
              "      <th>85853</th>\n",
              "      <td>False</td>\n",
              "      <td>False</td>\n",
              "      <td>False</td>\n",
              "      <td>False</td>\n",
              "      <td>False</td>\n",
              "      <td>False</td>\n",
              "      <td>False</td>\n",
              "      <td>False</td>\n",
              "      <td>False</td>\n",
              "      <td>False</td>\n",
              "      <td>False</td>\n",
              "      <td>False</td>\n",
              "      <td>False</td>\n",
              "      <td>True</td>\n",
              "      <td>False</td>\n",
              "      <td>False</td>\n",
              "      <td>True</td>\n",
              "      <td>True</td>\n",
              "      <td>False</td>\n",
              "      <td>True</td>\n",
              "      <td>True</td>\n",
              "      <td>True</td>\n",
              "    </tr>\n",
              "    <tr>\n",
              "      <th>85854</th>\n",
              "      <td>False</td>\n",
              "      <td>False</td>\n",
              "      <td>False</td>\n",
              "      <td>False</td>\n",
              "      <td>False</td>\n",
              "      <td>False</td>\n",
              "      <td>False</td>\n",
              "      <td>False</td>\n",
              "      <td>False</td>\n",
              "      <td>False</td>\n",
              "      <td>False</td>\n",
              "      <td>False</td>\n",
              "      <td>False</td>\n",
              "      <td>False</td>\n",
              "      <td>False</td>\n",
              "      <td>False</td>\n",
              "      <td>True</td>\n",
              "      <td>True</td>\n",
              "      <td>False</td>\n",
              "      <td>True</td>\n",
              "      <td>True</td>\n",
              "      <td>False</td>\n",
              "    </tr>\n",
              "  </tbody>\n",
              "</table>\n",
              "<p>85855 rows × 22 columns</p>\n",
              "</div>"
            ],
            "text/plain": [
              "       imdb_title_id  title  ...  reviews_from_users  reviews_from_critics\n",
              "0              False  False  ...               False                 False\n",
              "1              False  False  ...               False                 False\n",
              "2              False  False  ...               False                 False\n",
              "3              False  False  ...               False                 False\n",
              "4              False  False  ...               False                 False\n",
              "...              ...    ...  ...                 ...                   ...\n",
              "85850          False  False  ...                True                 False\n",
              "85851          False  False  ...               False                 False\n",
              "85852          False  False  ...                True                  True\n",
              "85853          False  False  ...                True                  True\n",
              "85854          False  False  ...                True                 False\n",
              "\n",
              "[85855 rows x 22 columns]"
            ]
          },
          "metadata": {
            "tags": []
          },
          "execution_count": 7
        }
      ]
    },
    {
      "cell_type": "markdown",
      "metadata": {
        "id": "tgQcfFLxuxpk"
      },
      "source": [
        "**Print  ile 50000 satırdan ve 2 sütundan oluştuğu öğrenildi.**"
      ]
    },
    {
      "cell_type": "code",
      "metadata": {
        "id": "2DpP_IUUuflz",
        "colab": {
          "base_uri": "https://localhost:8080/"
        },
        "outputId": "edaac764-fef8-4750-ac3d-3619b7fce590"
      },
      "source": [
        "print(imdb_verisi.shape)"
      ],
      "execution_count": 8,
      "outputs": [
        {
          "output_type": "stream",
          "text": [
            "(50000, 2)\n"
          ],
          "name": "stdout"
        }
      ]
    },
    {
      "cell_type": "markdown",
      "metadata": {
        "id": "JjPX0SfzdN9n"
      },
      "source": [
        "**Print  ile 85855 satırdan ve 22 sütundan oluştuğu öğrenildi.**"
      ]
    },
    {
      "cell_type": "code",
      "metadata": {
        "id": "BRuL4YYJcD9u",
        "colab": {
          "base_uri": "https://localhost:8080/"
        },
        "outputId": "454893ac-5f93-4437-a24a-1fe131861b3e"
      },
      "source": [
        "print(imdb_verisi_2.shape)"
      ],
      "execution_count": 9,
      "outputs": [
        {
          "output_type": "stream",
          "text": [
            "(85855, 22)\n"
          ],
          "name": "stdout"
        }
      ]
    },
    {
      "cell_type": "markdown",
      "metadata": {
        "id": "b8reFM-svM1M"
      },
      "source": [
        "**Duygu sayılarına value_counts() metodu ile bu kısımda bakalım.**"
      ]
    },
    {
      "cell_type": "code",
      "metadata": {
        "id": "F-BFzThevZXv",
        "colab": {
          "base_uri": "https://localhost:8080/"
        },
        "outputId": "496b66d6-af88-49e9-8a19-61f4efd99a40"
      },
      "source": [
        "imdb_verisi['sentiment'].value_counts()"
      ],
      "execution_count": 10,
      "outputs": [
        {
          "output_type": "execute_result",
          "data": {
            "text/plain": [
              "positive    25000\n",
              "negative    25000\n",
              "Name: sentiment, dtype: int64"
            ]
          },
          "metadata": {
            "tags": []
          },
          "execution_count": 10
        }
      ]
    },
    {
      "cell_type": "markdown",
      "metadata": {
        "id": "imvAB9wwcuOE"
      },
      "source": [
        "**Ülke sayılarına value_counts() metodu ile bu kısımda baktık.**"
      ]
    },
    {
      "cell_type": "code",
      "metadata": {
        "id": "wXsOhHRTcJ-t",
        "colab": {
          "base_uri": "https://localhost:8080/"
        },
        "outputId": "638ffc7a-258c-4417-b302-e1453bca8d6b"
      },
      "source": [
        "imdb_verisi_2['country'].value_counts()"
      ],
      "execution_count": 11,
      "outputs": [
        {
          "output_type": "execute_result",
          "data": {
            "text/plain": [
              "USA                                                28511\n",
              "India                                               6065\n",
              "UK                                                  4111\n",
              "Japan                                               3077\n",
              "France                                              3055\n",
              "                                                   ...  \n",
              "Canada, Germany, France, USA                           1\n",
              "USA, Germany, Hungary, Poland, Bulgaria, Canada        1\n",
              "Germany, UK, Georgia, France                           1\n",
              "Ecuador, Mexico                                        1\n",
              "Italy, France, West Germany, Monaco                    1\n",
              "Name: country, Length: 4907, dtype: int64"
            ]
          },
          "metadata": {
            "tags": []
          },
          "execution_count": 11
        }
      ]
    },
    {
      "cell_type": "markdown",
      "metadata": {
        "id": "P29GIjUAc1TS"
      },
      "source": [
        "**Kullanılan dil sayılarına value_counts() metodu ile bu kısımda baktık.**\n",
        "\n",
        "\n",
        "\n"
      ]
    },
    {
      "cell_type": "code",
      "metadata": {
        "id": "wtBC-7_Lcafw",
        "colab": {
          "base_uri": "https://localhost:8080/"
        },
        "outputId": "df8bcc7b-5821-4cda-ba7f-e5c37fc99b07"
      },
      "source": [
        "imdb_verisi_2['language'].value_counts()"
      ],
      "execution_count": 12,
      "outputs": [
        {
          "output_type": "execute_result",
          "data": {
            "text/plain": [
              "English                                                                      35939\n",
              "French                                                                        3903\n",
              "Spanish                                                                       2831\n",
              "Japanese                                                                      2826\n",
              "Italian                                                                       2731\n",
              "                                                                             ...  \n",
              "Mandarin, Chinese, Hokkien, English                                              1\n",
              "Turkish, Azerbaijani, Russian, English, Spanish, Japanese, French, Arabic        1\n",
              "Italian, Occitan, French                                                         1\n",
              "English, Romany, Romanian, Ukrainian                                             1\n",
              "Finnish, German, Russian, Spanish                                                1\n",
              "Name: language, Length: 4377, dtype: int64"
            ]
          },
          "metadata": {
            "tags": []
          },
          "execution_count": 12
        }
      ]
    },
    {
      "cell_type": "markdown",
      "metadata": {
        "id": "NdGYsxxhc8I7"
      },
      "source": [
        "**Yazarların sayılarına value_counts() metodu ile bu kısımda baktık.**"
      ]
    },
    {
      "cell_type": "code",
      "metadata": {
        "id": "_kaVJgW0cd0q",
        "colab": {
          "base_uri": "https://localhost:8080/"
        },
        "outputId": "b47d27ef-43a5-4db8-90e4-fc25ee6498a6"
      },
      "source": [
        "imdb_verisi_2['writer'].value_counts()"
      ],
      "execution_count": 13,
      "outputs": [
        {
          "output_type": "execute_result",
          "data": {
            "text/plain": [
              "Jing Wong                                84\n",
              "Kuang Ni                                 45\n",
              "Woody Allen                              40\n",
              "Erdogan Tünas                            35\n",
              "Leonardo Benvenuti, Piero De Bernardi    34\n",
              "                                         ..\n",
              "David DeCoteau, Rolfe Kanefsky            1\n",
              "José Luis Garci, María Lejárraga          1\n",
              "Rory Kindersley, Drew Sherring-Hill       1\n",
              "Greg Iles, Greg Iles                      1\n",
              "Jirí Blazek, Jirí Menzel                  1\n",
              "Name: writer, Length: 66859, dtype: int64"
            ]
          },
          "metadata": {
            "tags": []
          },
          "execution_count": 13
        }
      ]
    },
    {
      "cell_type": "markdown",
      "metadata": {
        "id": "eGOpxt8RDoMp"
      },
      "source": [
        "**imdb_verisi.describe() ile istatistiksel sonuçların hesaplanmasını sağlıyor.**"
      ]
    },
    {
      "cell_type": "code",
      "metadata": {
        "id": "dX9m6ul9xPZQ",
        "colab": {
          "base_uri": "https://localhost:8080/",
          "height": 166
        },
        "outputId": "2131f59f-c9e2-454a-9a65-12918a3fafaf"
      },
      "source": [
        "imdb_verisi.describe()"
      ],
      "execution_count": 14,
      "outputs": [
        {
          "output_type": "execute_result",
          "data": {
            "text/html": [
              "<div>\n",
              "<style scoped>\n",
              "    .dataframe tbody tr th:only-of-type {\n",
              "        vertical-align: middle;\n",
              "    }\n",
              "\n",
              "    .dataframe tbody tr th {\n",
              "        vertical-align: top;\n",
              "    }\n",
              "\n",
              "    .dataframe thead th {\n",
              "        text-align: right;\n",
              "    }\n",
              "</style>\n",
              "<table border=\"1\" class=\"dataframe\">\n",
              "  <thead>\n",
              "    <tr style=\"text-align: right;\">\n",
              "      <th></th>\n",
              "      <th>review</th>\n",
              "      <th>sentiment</th>\n",
              "    </tr>\n",
              "  </thead>\n",
              "  <tbody>\n",
              "    <tr>\n",
              "      <th>count</th>\n",
              "      <td>50000</td>\n",
              "      <td>50000</td>\n",
              "    </tr>\n",
              "    <tr>\n",
              "      <th>unique</th>\n",
              "      <td>49582</td>\n",
              "      <td>2</td>\n",
              "    </tr>\n",
              "    <tr>\n",
              "      <th>top</th>\n",
              "      <td>Loved today's show!!! It was a variety and not...</td>\n",
              "      <td>positive</td>\n",
              "    </tr>\n",
              "    <tr>\n",
              "      <th>freq</th>\n",
              "      <td>5</td>\n",
              "      <td>25000</td>\n",
              "    </tr>\n",
              "  </tbody>\n",
              "</table>\n",
              "</div>"
            ],
            "text/plain": [
              "                                                   review sentiment\n",
              "count                                               50000     50000\n",
              "unique                                              49582         2\n",
              "top     Loved today's show!!! It was a variety and not...  positive\n",
              "freq                                                    5     25000"
            ]
          },
          "metadata": {
            "tags": []
          },
          "execution_count": 14
        }
      ]
    },
    {
      "cell_type": "markdown",
      "metadata": {
        "id": "l5VqSASjdIOw"
      },
      "source": [
        "**imdb_verisi_2.describe() ile istatistiksel sonuçların hesaplanmasını sağlıyor.**"
      ]
    },
    {
      "cell_type": "code",
      "metadata": {
        "id": "hM63ZNb_dDT4",
        "colab": {
          "base_uri": "https://localhost:8080/",
          "height": 284
        },
        "outputId": "1477da0f-f9aa-4035-826a-c17b01bf89da"
      },
      "source": [
        "imdb_verisi_2.describe()"
      ],
      "execution_count": 15,
      "outputs": [
        {
          "output_type": "execute_result",
          "data": {
            "text/html": [
              "<div>\n",
              "<style scoped>\n",
              "    .dataframe tbody tr th:only-of-type {\n",
              "        vertical-align: middle;\n",
              "    }\n",
              "\n",
              "    .dataframe tbody tr th {\n",
              "        vertical-align: top;\n",
              "    }\n",
              "\n",
              "    .dataframe thead th {\n",
              "        text-align: right;\n",
              "    }\n",
              "</style>\n",
              "<table border=\"1\" class=\"dataframe\">\n",
              "  <thead>\n",
              "    <tr style=\"text-align: right;\">\n",
              "      <th></th>\n",
              "      <th>duration</th>\n",
              "      <th>avg_vote</th>\n",
              "      <th>votes</th>\n",
              "      <th>metascore</th>\n",
              "      <th>reviews_from_users</th>\n",
              "      <th>reviews_from_critics</th>\n",
              "    </tr>\n",
              "  </thead>\n",
              "  <tbody>\n",
              "    <tr>\n",
              "      <th>count</th>\n",
              "      <td>85855.000000</td>\n",
              "      <td>85855.000000</td>\n",
              "      <td>8.585500e+04</td>\n",
              "      <td>13305.000000</td>\n",
              "      <td>78258.000000</td>\n",
              "      <td>74058.000000</td>\n",
              "    </tr>\n",
              "    <tr>\n",
              "      <th>mean</th>\n",
              "      <td>100.351418</td>\n",
              "      <td>5.898656</td>\n",
              "      <td>9.493490e+03</td>\n",
              "      <td>55.896881</td>\n",
              "      <td>46.040826</td>\n",
              "      <td>27.479989</td>\n",
              "    </tr>\n",
              "    <tr>\n",
              "      <th>std</th>\n",
              "      <td>22.553848</td>\n",
              "      <td>1.234987</td>\n",
              "      <td>5.357436e+04</td>\n",
              "      <td>17.784874</td>\n",
              "      <td>178.511411</td>\n",
              "      <td>58.339158</td>\n",
              "    </tr>\n",
              "    <tr>\n",
              "      <th>min</th>\n",
              "      <td>41.000000</td>\n",
              "      <td>1.000000</td>\n",
              "      <td>9.900000e+01</td>\n",
              "      <td>1.000000</td>\n",
              "      <td>1.000000</td>\n",
              "      <td>1.000000</td>\n",
              "    </tr>\n",
              "    <tr>\n",
              "      <th>25%</th>\n",
              "      <td>88.000000</td>\n",
              "      <td>5.200000</td>\n",
              "      <td>2.050000e+02</td>\n",
              "      <td>43.000000</td>\n",
              "      <td>4.000000</td>\n",
              "      <td>3.000000</td>\n",
              "    </tr>\n",
              "    <tr>\n",
              "      <th>50%</th>\n",
              "      <td>96.000000</td>\n",
              "      <td>6.100000</td>\n",
              "      <td>4.840000e+02</td>\n",
              "      <td>57.000000</td>\n",
              "      <td>9.000000</td>\n",
              "      <td>8.000000</td>\n",
              "    </tr>\n",
              "    <tr>\n",
              "      <th>75%</th>\n",
              "      <td>108.000000</td>\n",
              "      <td>6.800000</td>\n",
              "      <td>1.766500e+03</td>\n",
              "      <td>69.000000</td>\n",
              "      <td>27.000000</td>\n",
              "      <td>23.000000</td>\n",
              "    </tr>\n",
              "    <tr>\n",
              "      <th>max</th>\n",
              "      <td>808.000000</td>\n",
              "      <td>9.900000</td>\n",
              "      <td>2.278845e+06</td>\n",
              "      <td>100.000000</td>\n",
              "      <td>10472.000000</td>\n",
              "      <td>999.000000</td>\n",
              "    </tr>\n",
              "  </tbody>\n",
              "</table>\n",
              "</div>"
            ],
            "text/plain": [
              "           duration      avg_vote  ...  reviews_from_users  reviews_from_critics\n",
              "count  85855.000000  85855.000000  ...        78258.000000          74058.000000\n",
              "mean     100.351418      5.898656  ...           46.040826             27.479989\n",
              "std       22.553848      1.234987  ...          178.511411             58.339158\n",
              "min       41.000000      1.000000  ...            1.000000              1.000000\n",
              "25%       88.000000      5.200000  ...            4.000000              3.000000\n",
              "50%       96.000000      6.100000  ...            9.000000              8.000000\n",
              "75%      108.000000      6.800000  ...           27.000000             23.000000\n",
              "max      808.000000      9.900000  ...        10472.000000            999.000000\n",
              "\n",
              "[8 rows x 6 columns]"
            ]
          },
          "metadata": {
            "tags": []
          },
          "execution_count": 15
        }
      ]
    },
    {
      "cell_type": "markdown",
      "metadata": {
        "id": "zS5gDXOR2b3-"
      },
      "source": [
        "**Veri setimizin birçok bilgisine bununla ulaşılır.**"
      ]
    },
    {
      "cell_type": "code",
      "metadata": {
        "id": "C7opO888xYiS",
        "colab": {
          "base_uri": "https://localhost:8080/"
        },
        "outputId": "6dc3002b-03ea-4ede-e915-c48c76639b0d"
      },
      "source": [
        "imdb_verisi.info()"
      ],
      "execution_count": 16,
      "outputs": [
        {
          "output_type": "stream",
          "text": [
            "<class 'pandas.core.frame.DataFrame'>\n",
            "RangeIndex: 50000 entries, 0 to 49999\n",
            "Data columns (total 2 columns):\n",
            " #   Column     Non-Null Count  Dtype \n",
            "---  ------     --------------  ----- \n",
            " 0   review     50000 non-null  object\n",
            " 1   sentiment  50000 non-null  object\n",
            "dtypes: object(2)\n",
            "memory usage: 781.4+ KB\n"
          ],
          "name": "stdout"
        }
      ]
    },
    {
      "cell_type": "markdown",
      "metadata": {
        "id": "ox9TUR0cS82m"
      },
      "source": [
        "**Sütun verilerinin bilgisini verir.**"
      ]
    },
    {
      "cell_type": "code",
      "metadata": {
        "id": "jdEuFazInNsh",
        "colab": {
          "base_uri": "https://localhost:8080/"
        },
        "outputId": "6f676d3e-99b2-42c4-c8a1-c0f30a98a237"
      },
      "source": [
        "imdb_verisi.columns"
      ],
      "execution_count": 17,
      "outputs": [
        {
          "output_type": "execute_result",
          "data": {
            "text/plain": [
              "Index(['review', 'sentiment'], dtype='object')"
            ]
          },
          "metadata": {
            "tags": []
          },
          "execution_count": 17
        }
      ]
    },
    {
      "cell_type": "markdown",
      "metadata": {
        "id": "iA4HmY7QV8A2"
      },
      "source": [
        "**Sentiment Sütununu Grafik olarak gösterdik.Verilen positive ve negatif değerler birbirine eşit olduğu görülüyor.**\n",
        "\n",
        "\n"
      ]
    },
    {
      "cell_type": "code",
      "metadata": {
        "id": "LjmLhoMgSwfx",
        "colab": {
          "base_uri": "https://localhost:8080/",
          "height": 417
        },
        "outputId": "a9581696-5d5a-46bc-eb5d-44bf23c3af8c"
      },
      "source": [
        "sns.countplot(imdb_verisi[\"sentiment\"], palette = [\"blue\",\"orange\"])\n",
        "plt.show()\n",
        "print(imdb_verisi.sentiment.value_counts())"
      ],
      "execution_count": 18,
      "outputs": [
        {
          "output_type": "stream",
          "text": [
            "/usr/local/lib/python3.7/dist-packages/seaborn/_decorators.py:43: FutureWarning:\n",
            "\n",
            "Pass the following variable as a keyword arg: x. From version 0.12, the only valid positional argument will be `data`, and passing other arguments without an explicit keyword will result in an error or misinterpretation.\n",
            "\n"
          ],
          "name": "stderr"
        },
        {
          "output_type": "display_data",
          "data": {
            "image/png": "[encoded data removed]",
            "text/plain": [
              "<Figure size 432x288 with 1 Axes>"
            ]
          },
          "metadata": {
            "tags": [],
            "needs_background": "light"
          }
        },
        {
          "output_type": "stream",
          "text": [
            "positive    25000\n",
            "negative    25000\n",
            "Name: sentiment, dtype: int64\n"
          ],
          "name": "stdout"
        }
      ]
    },
    {
      "cell_type": "code",
      "metadata": {
        "id": "BT0LvvFuaiP1"
      },
      "source": [
        ""
      ],
      "execution_count": 18,
      "outputs": []
    },
    {
      "cell_type": "markdown",
      "metadata": {
        "id": "gnp7BDbDdZfk"
      },
      "source": [
        "**IMDB 2. veri setimizin votes ve avg_note kısımlarını matplot kütüphanesi ile şekillendirdik.**"
      ]
    },
    {
      "cell_type": "code",
      "metadata": {
        "id": "fLM9eVYDQxps",
        "colab": {
          "base_uri": "https://localhost:8080/",
          "height": 313
        },
        "outputId": "b5b7a320-0c2e-4815-e7d8-6ac65c745121"
      },
      "source": [
        "\n",
        "fig, vyes = plt.subplots()\n",
        "vyes.scatter(imdb_verisi_2['avg_vote'], imdb_verisi_2['votes'])\n",
        "vyes.set_title('IMDB Dataset')\n",
        "vyes.set_xlabel('avg_vote')\n",
        "vyes.set_ylabel('votes')"
      ],
      "execution_count": 19,
      "outputs": [
        {
          "output_type": "execute_result",
          "data": {
            "text/plain": [
              "Text(0, 0.5, 'votes')"
            ]
          },
          "metadata": {
            "tags": []
          },
          "execution_count": 19
        },
        {
          "output_type": "display_data",
          "data": {
            "image/png": "[encoded data removed]",
            "text/plain": [
              "<Figure size 432x288 with 1 Axes>"
            ]
          },
          "metadata": {
            "tags": [],
            "needs_background": "light"
          }
        }
      ]
    },
    {
      "cell_type": "markdown",
      "metadata": {
        "id": "5J8jZH-ZduQ9"
      },
      "source": [
        "**IMDB 2. veri setimizin duration sütun kısmını matplot kütüphanesi ile çektik**"
      ]
    },
    {
      "cell_type": "markdown",
      "metadata": {
        "id": "U_lHyBZ6ZnEJ"
      },
      "source": [
        "**Sentimentlerimizdeki positiflere 1 değeri ve negatiflere 0 değerini veriyoruz**"
      ]
    },
    {
      "cell_type": "code",
      "metadata": {
        "id": "xmvjeGR1ZhG7"
      },
      "source": [
        "imdb_verisi.sentiment = [ 1 if each == \"positive\" else 0 for each in imdb_verisi.sentiment ]"
      ],
      "execution_count": 20,
      "outputs": []
    },
    {
      "cell_type": "code",
      "metadata": {
        "id": "3LpFhRqlZTGq",
        "colab": {
          "base_uri": "https://localhost:8080/"
        },
        "outputId": "3a0bf7d3-5525-4804-d784-97f9e6d989fa"
      },
      "source": [
        "sentiment = imdb_verisi['sentiment'].values\n",
        "sentiment"
      ],
      "execution_count": 21,
      "outputs": [
        {
          "output_type": "execute_result",
          "data": {
            "text/plain": [
              "array([1, 1, 1, ..., 0, 0, 0])"
            ]
          },
          "metadata": {
            "tags": []
          },
          "execution_count": 21
        }
      ]
    },
    {
      "cell_type": "code",
      "metadata": {
        "id": "rJkQ3PKzg0yA"
      },
      "source": [
        "imdb_verisi = imdb_verisi['review']"
      ],
      "execution_count": 22,
      "outputs": []
    },
    {
      "cell_type": "code",
      "metadata": {
        "id": "1WSFOaN4Swm8"
      },
      "source": [
        "from sklearn.model_selection import train_test_split\n",
        "X_train, X_test, Y_train, Y_test = train_test_split(imdb_verisi,sentiment,test_size=0.25,random_state=48)\n"
      ],
      "execution_count": 23,
      "outputs": []
    },
    {
      "cell_type": "markdown",
      "metadata": {
        "id": "m7B8i14GbxwB"
      },
      "source": [
        "**İngilizce'de en çok kullanılan 18000 kelimeden oluşan bir sözlük oluşturuyoruz.**"
      ]
    },
    {
      "cell_type": "code",
      "metadata": {
        "id": "lkleP3TRbqvr"
      },
      "source": [
        "from tensorflow.python.keras.preprocessing.text import Tokenizer\n",
        "tokenci=Tokenizer(num_words=18000)\n",
        "tokenci.fit_on_texts(imdb_verisi)\n"
      ],
      "execution_count": 24,
      "outputs": []
    },
    {
      "cell_type": "markdown",
      "metadata": {
        "id": "NnQ2c2KBcXev"
      },
      "source": [
        "**Farklı uzunluklarda olan yorumlarımız RNN modelini eğitemez.Bu sebepten dolayıda cümleleri eşit boyutta yapmamız gerekiyor.**"
      ]
    },
    {
      "cell_type": "code",
      "metadata": {
        "id": "FERftkd9cLJz"
      },
      "source": [
        "X_train_Tokens = tokenci.texts_to_sequences(X_train)\n",
        "X_test_Tokens = tokenci.texts_to_sequences(X_test)\n",
        "\n"
      ],
      "execution_count": 25,
      "outputs": []
    },
    {
      "cell_type": "markdown",
      "metadata": {
        "id": "z953-jrMz_rK"
      },
      "source": [
        "**Cümlelerimizdeki her bir kelimenin,yukarıda tanımladığımız ve oluşturduğumuz 18000 kelimeden oluşan sözlüğün herhangi bir indeksle değişiyoruz.**"
      ]
    },
    {
      "cell_type": "code",
      "metadata": {
        "id": "1IsZjlKFc_pm"
      },
      "source": [
        "#Verilerimizdeki her cümlemizin kelime sayımını alıp bir liste oluşturuyoruz. \n",
        "token_1 = [len(tokens) for tokens in X_train_Tokens + X_test_Tokens]\n",
        "token_1 = np.array(token_1)"
      ],
      "execution_count": 26,
      "outputs": []
    },
    {
      "cell_type": "code",
      "metadata": {
        "id": "lzYdA5dzdhN_",
        "colab": {
          "base_uri": "https://localhost:8080/"
        },
        "outputId": "bd97425e-cda8-41a3-e389-84babc975454"
      },
      "source": [
        "#Token sayıları belirlenirken, ortalama etrafındaki değişiklikler dikkate alınarak sayılar belirlenniyor.\n",
        "token_2 = np.mean(token_1) + 2 * np.std(token_1)\n",
        "token_2 = int(token_2)\n",
        "token_2"
      ],
      "execution_count": 27,
      "outputs": [
        {
          "output_type": "execute_result",
          "data": {
            "text/plain": [
              "561"
            ]
          },
          "metadata": {
            "tags": []
          },
          "execution_count": 27
        }
      ]
    },
    {
      "cell_type": "markdown",
      "metadata": {
        "id": "CTRTPuRd8Y96"
      },
      "source": [
        "**token_2= Bu değerimiz verilerimizdeki cümlemizin dağılımını ve eğer varsada zıt uzunluklara sahip cümleleri ortalamaya indirmemize sağlayabileyecektir.**"
      ]
    },
    {
      "cell_type": "code",
      "metadata": {
        "id": "FekZ_ZxsgGPn",
        "colab": {
          "base_uri": "https://localhost:8080/"
        },
        "outputId": "a380974f-03c2-427a-bd6b-a3c40c475910"
      },
      "source": [
        "#Belirlediğimiz bu sayının verilerde yüzde kaçına ait olduğu bakılır.\n",
        "np.sum(token_1 < token_2) / len(token_1)"
      ],
      "execution_count": 28,
      "outputs": [
        {
          "output_type": "execute_result",
          "data": {
            "text/plain": [
              "0.94546"
            ]
          },
          "metadata": {
            "tags": []
          },
          "execution_count": 28
        }
      ]
    },
    {
      "cell_type": "code",
      "metadata": {
        "id": "tNiLJ7Nugkey"
      },
      "source": [
        "#Verilimiz belirtilen belirteç sayısına göre belirlenir.\n",
        "X_train_Padd = pad_sequences(X_train_Tokens, maxlen=token_2)\n",
        "X_test_Padd = pad_sequences(X_test_Tokens, maxlen=token_2)\n",
        "\n"
      ],
      "execution_count": 29,
      "outputs": []
    },
    {
      "cell_type": "code",
      "metadata": {
        "id": "yQqQUT3wgefK",
        "colab": {
          "base_uri": "https://localhost:8080/"
        },
        "outputId": "d15e051c-118e-4072-fbd0-1aa8e88519a3"
      },
      "source": [
        "X_train_Padd.shape\n",
        "\n"
      ],
      "execution_count": 30,
      "outputs": [
        {
          "output_type": "execute_result",
          "data": {
            "text/plain": [
              "(37500, 561)"
            ]
          },
          "metadata": {
            "tags": []
          },
          "execution_count": 30
        }
      ]
    },
    {
      "cell_type": "markdown",
      "metadata": {
        "id": "QDEzgoJp9dUt"
      },
      "source": [
        "**Görüldüğü gibi şekli 561 e ayarladık**"
      ]
    },
    {
      "cell_type": "code",
      "metadata": {
        "id": "lOe3gOzxMXV2"
      },
      "source": [
        "idgrq= tokenci.word_index\n",
        "ters_h = dict(zip(idgrq.values(), idgrq.keys()))\n",
        "\n",
        "def ornek_cumle(tokens):\n",
        "    kelimeler = [ters_h[token] for token in tokens if token!=0]\n",
        "    yazı = ' '.join(kelimeler)\n",
        "    return yazı"
      ],
      "execution_count": 31,
      "outputs": []
    },
    {
      "cell_type": "code",
      "metadata": {
        "id": "sDOZYOCcNTMu",
        "colab": {
          "base_uri": "https://localhost:8080/"
        },
        "outputId": "2e0cb9bf-2c79-4331-c4e0-c1597b49aee9"
      },
      "source": [
        "print(ornek_cumle(X_train_Padd[8]))"
      ],
      "execution_count": 32,
      "outputs": [
        {
          "output_type": "stream",
          "text": [
            "susan seems to have had a decent career with a few top notch credits under her belt i'm certainly glad she back from this film which seems to have its admirers i'm not one of them br br i've seen better acting in high school plays than i did in the plot such as it is involved young susan who is ambitious to make it in the world of music and is willing to do just about anything to get there she even rejects the sincere advances of a young artist who is living out of his van off the east river played by brad br br young mr contributes the worst performance in the film in fact one of the worst acting jobs i've seen in a long time no wonder he's not gone anywhere br br i will say that eye for the camera is a good one in capturing the familiar east village locations where the film was mostly shot but her work with her live performers didn't measure up i'm not sure she had that much raw material to work with br br look fast and you'll see a very young christopher before law and order and sex in the city as a street hustler br br if you like punk rock you might sit through this for the soundtrack i'll stick to bing crosby\n"
          ],
          "name": "stdout"
        }
      ]
    },
    {
      "cell_type": "code",
      "metadata": {
        "id": "Ugublz3HNlST",
        "colab": {
          "base_uri": "https://localhost:8080/"
        },
        "outputId": "5637c08e-97bd-441c-c390-ee39acb2291c"
      },
      "source": [
        "print(X_train_Padd[8])"
      ],
      "execution_count": 33,
      "outputs": [
        {
          "output_type": "stream",
          "text": [
            "[    0     0     0     0     0     0     0     0     0     0     0     0\n",
            "     0     0     0     0     0     0     0     0     0     0     0     0\n",
            "     0     0     0     0     0     0     0     0     0     0     0     0\n",
            "     0     0     0     0     0     0     0     0     0     0     0     0\n",
            "     0     0     0     0     0     0     0     0     0     0     0     0\n",
            "     0     0     0     0     0     0     0     0     0     0     0     0\n",
            "     0     0     0     0     0     0     0     0     0     0     0     0\n",
            "     0     0     0     0     0     0     0     0     0     0     0     0\n",
            "     0     0     0     0     0     0     0     0     0     0     0     0\n",
            "     0     0     0     0     0     0     0     0     0     0     0     0\n",
            "     0     0     0     0     0     0     0     0     0     0     0     0\n",
            "     0     0     0     0     0     0     0     0     0     0     0     0\n",
            "     0     0     0     0     0     0     0     0     0     0     0     0\n",
            "     0     0     0     0     0     0     0     0     0     0     0     0\n",
            "     0     0     0     0     0     0     0     0     0     0     0     0\n",
            "     0     0     0     0     0     0     0     0     0     0     0     0\n",
            "     0     0     0     0     0     0     0     0     0     0     0     0\n",
            "     0     0     0     0     0     0     0     0     0     0     0     0\n",
            "     0     0     0     0     0     0     0     0     0     0     0     0\n",
            "     0     0     0     0     0     0     0     0     0     0     0     0\n",
            "     0     0     0     0     0     0     0     0     0     0     0     0\n",
            "     0     0     0     0     0     0     0     0     0     0     0     0\n",
            "     0     0     0     0     0     0     0     0     0     0     0     0\n",
            "     0     0     0     0     0     0     0     0     0     0     0     0\n",
            "     0     0     0     0     0     0     0     0     0     0     0     0\n",
            "     0     0     0     0     0     0     0     0     0     0     0     0\n",
            "     0     0     0     0     0     0     0     0     0     0     0     0\n",
            "     0     0     0     0     0     0     0     0  2815   184     5    25\n",
            "    66     3   540   628    16     3   171   342  2412   896   464    40\n",
            "  6031   145   424  1253    59   141    36    11    19    60   184     5\n",
            "    25    92 12605   145    21    27     4    93     7     7   198   107\n",
            "   126   113     8   299   368   297    71    10   115     8     1   111\n",
            "   138    14     9     6   571   186  2815    35     6  3370     5    94\n",
            "     9     8     1   181     4   207     2     6  1689     5    77    39\n",
            "    42   231     5    76    46    59    57  7135     1  4494  8117     4\n",
            "     3   186  1790    35     6   587    41     4    24  1079   122     1\n",
            "  2503  2037   253    31  3114     7     7   186   439  8196     1   246\n",
            "   241     8     1    19     8   192    27     4     1   246   113  2801\n",
            "   198   107     8     3   194    55    54   581   237    21   781  1721\n",
            "     7     7    10    80   131    12   759    15     1   355     6     3\n",
            "    49    27     8  4513     1  1077  2503  1994  1818   117     1    19\n",
            "    13   666   319    18    40   158    16    40   421  3248   154  4015\n",
            "    53   145    21   247    59    66    12    72  2850   833     5   158\n",
            "    16     7     7   163   714     2   474    63     3    52   186  1459\n",
            "   159  1135     2   642     2   376     8     1   538    14     3   920\n",
            "  9355     7     7    43    22    37  3541   782    22   233   847   140\n",
            "    11    15     1   738   657  1240     5  9645  7850]\n"
          ],
          "name": "stdout"
        }
      ]
    },
    {
      "cell_type": "markdown",
      "metadata": {
        "id": "s8cv91xaCpWj"
      },
      "source": [
        "**Birinci LSTM modelimiz ile derin öğrenme yaptık.**"
      ]
    },
    {
      "cell_type": "code",
      "metadata": {
        "id": "y3lXt61xxYi2",
        "colab": {
          "base_uri": "https://localhost:8080/"
        },
        "outputId": "b3c3a801-98f8-49ad-d674-31fa3d002be3"
      },
      "source": [
        "#LSTM modelimiz ile öğretelim.\n",
        "model = Sequential()\n",
        "model.add(Embedding(input_dim=18000,output_dim=60,input_length=token_2,name='embedding_layer1'))\n",
        "\n",
        "model.add(LSTM(units=14, return_sequences=True))\n",
        "model.add(Dropout(0.2))\n",
        "\n",
        "model.add(LSTM(units=7, return_sequences=True))\n",
        "model.add(Dropout(0.2))\n",
        "\n",
        "model.add(LSTM(units=3))\n",
        "model.add(Dropout(0.2))\n",
        "\n",
        "model.add(Dense(1, activation='sigmoid'))\n",
        "\n",
        "model.compile(loss='binary_crossentropy',optimizer=Adam(lr=1e-3),metrics=['accuracy'])"
      ],
      "execution_count": 34,
      "outputs": [
        {
          "output_type": "stream",
          "text": [
            "/usr/local/lib/python3.7/dist-packages/tensorflow/python/keras/optimizer_v2/optimizer_v2.py:375: UserWarning:\n",
            "\n",
            "The `lr` argument is deprecated, use `learning_rate` instead.\n",
            "\n"
          ],
          "name": "stderr"
        }
      ]
    },
    {
      "cell_type": "code",
      "metadata": {
        "colab": {
          "base_uri": "https://localhost:8080/"
        },
        "id": "DkYuH_rwCRhP",
        "outputId": "8773d7e8-3246-42ba-c28c-050263c40508"
      },
      "source": [
        "model.summary()"
      ],
      "execution_count": 35,
      "outputs": [
        {
          "output_type": "stream",
          "text": [
            "Model: \"sequential\"\n",
            "_________________________________________________________________\n",
            "Layer (type)                 Output Shape              Param #   \n",
            "=================================================================\n",
            "embedding_layer1 (Embedding) (None, 561, 60)           1080000   \n",
            "_________________________________________________________________\n",
            "lstm (LSTM)                  (None, 561, 14)           4200      \n",
            "_________________________________________________________________\n",
            "dropout (Dropout)            (None, 561, 14)           0         \n",
            "_________________________________________________________________\n",
            "lstm_1 (LSTM)                (None, 561, 7)            616       \n",
            "_________________________________________________________________\n",
            "dropout_1 (Dropout)          (None, 561, 7)            0         \n",
            "_________________________________________________________________\n",
            "lstm_2 (LSTM)                (None, 3)                 132       \n",
            "_________________________________________________________________\n",
            "dropout_2 (Dropout)          (None, 3)                 0         \n",
            "_________________________________________________________________\n",
            "dense (Dense)                (None, 1)                 4         \n",
            "=================================================================\n",
            "Total params: 1,084,952\n",
            "Trainable params: 1,084,952\n",
            "Non-trainable params: 0\n",
            "_________________________________________________________________\n"
          ],
          "name": "stdout"
        }
      ]
    },
    {
      "cell_type": "code",
      "metadata": {
        "colab": {
          "base_uri": "https://localhost:8080/"
        },
        "id": "BAGr_XyTCzCN",
        "outputId": "605282c3-f3dd-457a-92f8-7b5c367ad4b5"
      },
      "source": [
        "history_1 = model.fit(X_train_Padd,Y_train, validation_split=0.28, epochs=6, batch_size=1500, shuffle=True, verbose=1)"
      ],
      "execution_count": 36,
      "outputs": [
        {
          "output_type": "stream",
          "text": [
            "Epoch 1/6\n",
            "18/18 [==============================] - 116s 6s/step - loss: 0.6925 - accuracy: 0.5364 - val_loss: 0.6911 - val_accuracy: 0.6198\n",
            "Epoch 2/6\n",
            "18/18 [==============================] - 116s 7s/step - loss: 0.6846 - accuracy: 0.6126 - val_loss: 0.6699 - val_accuracy: 0.6600\n",
            "Epoch 3/6\n",
            "18/18 [==============================] - 108s 6s/step - loss: 0.6190 - accuracy: 0.7219 - val_loss: 0.5621 - val_accuracy: 0.8092\n",
            "Epoch 4/6\n",
            "18/18 [==============================] - 109s 6s/step - loss: 0.5725 - accuracy: 0.7823 - val_loss: 0.5460 - val_accuracy: 0.8059\n",
            "Epoch 5/6\n",
            "18/18 [==============================] - 108s 6s/step - loss: 0.5109 - accuracy: 0.8449 - val_loss: 0.5111 - val_accuracy: 0.8226\n",
            "Epoch 6/6\n",
            "18/18 [==============================] - 108s 6s/step - loss: 0.4621 - accuracy: 0.8763 - val_loss: 0.4729 - val_accuracy: 0.8381\n"
          ],
          "name": "stdout"
        }
      ]
    },
    {
      "cell_type": "code",
      "metadata": {
        "colab": {
          "base_uri": "https://localhost:8080/"
        },
        "id": "dsCNFI6GFtrO",
        "outputId": "7c24c871-bead-4340-e108-645aae1f5dcd"
      },
      "source": [
        "result_1 = model.evaluate(X_test_Padd,Y_test)"
      ],
      "execution_count": 37,
      "outputs": [
        {
          "output_type": "stream",
          "text": [
            "391/391 [==============================] - 66s 166ms/step - loss: 0.4755 - accuracy: 0.8333\n"
          ],
          "name": "stdout"
        }
      ]
    },
    {
      "cell_type": "markdown",
      "metadata": {
        "id": "veJq_GuEsihJ"
      },
      "source": [
        "**Result_1'de başarı oranımız yüzde 84 yakaladık.**"
      ]
    },
    {
      "cell_type": "code",
      "metadata": {
        "colab": {
          "base_uri": "https://localhost:8080/",
          "height": 295
        },
        "id": "jbyRBH4kGTuS",
        "outputId": "ab8f5080-564e-4860-8a0c-f799af6b500a"
      },
      "source": [
        "plt.figure()\n",
        "plt.plot(history_1.history[\"accuracy\"], label = \"Train Kısmı\" )\n",
        "plt.plot(history_1.history[\"val_accuracy\"], label= \"Test Kısmı\")\n",
        "plt.title(\"Model Accuracy\")\n",
        "plt.ylabel(\"Acc\")\n",
        "plt.xlabel(\"Epoch\")\n",
        "plt.legend()\n",
        "plt.show()"
      ],
      "execution_count": 38,
      "outputs": [
        {
          "output_type": "display_data",
          "data": {
            "image/png": "[encoded data removed]",
            "text/plain": [
              "<Figure size 432x288 with 1 Axes>"
            ]
          },
          "metadata": {
            "tags": [],
            "needs_background": "light"
          }
        }
      ]
    },
    {
      "cell_type": "code",
      "metadata": {
        "colab": {
          "base_uri": "https://localhost:8080/",
          "height": 295
        },
        "id": "qmkb02f-HLzU",
        "outputId": "0ed22a60-b161-4569-8891-db91fe200aba"
      },
      "source": [
        "plt.figure()\n",
        "plt.plot(history_1.history[\"loss\"], label= \"Train Kısmı \")\n",
        "plt.plot(history_1.history[\"val_loss\"], label= \"Test Kısmı\")\n",
        "plt.title(\"Model Loss\")\n",
        "plt.ylabel(\"Loss\")\n",
        "plt.xlabel(\"Epoch\")\n",
        "plt.legend()\n",
        "plt.show()"
      ],
      "execution_count": 39,
      "outputs": [
        {
          "output_type": "display_data",
          "data": {
            "image/png": "[encoded data removed]",
            "text/plain": [
              "<Figure size 432x288 with 1 Axes>"
            ]
          },
          "metadata": {
            "tags": [],
            "needs_background": "light"
          }
        }
      ]
    },
    {
      "cell_type": "markdown",
      "metadata": {
        "id": "xK8FsPwak17r"
      },
      "source": [
        "**İkinci LSTM modelimizi deniyoruz**"
      ]
    },
    {
      "cell_type": "code",
      "metadata": {
        "id": "h6GXw-UZILQ9"
      },
      "source": [
        "model_2=Sequential()\n",
        "\n",
        "model_2.add(Embedding(input_dim=20000, output_dim=129,input_length=token_2))\n",
        "model_2.add(LSTM(units=60, activation='tanh'))\n",
        "model_2.add(Dense(units=1, activation='sigmoid'))\n",
        "\n",
        "adam= tf.keras.optimizers.Adam(learning_rate=0.0001)\n",
        "\n",
        "model_2.compile(optimizer=adam, loss='binary_crossentropy', metrics=['accuracy'])"
      ],
      "execution_count": 40,
      "outputs": []
    },
    {
      "cell_type": "code",
      "metadata": {
        "colab": {
          "base_uri": "https://localhost:8080/"
        },
        "id": "-CNEl3JDkYt6",
        "outputId": "79c32f6b-0b29-42fb-c180-3a0015308b40"
      },
      "source": [
        "model_2.summary()"
      ],
      "execution_count": 41,
      "outputs": [
        {
          "output_type": "stream",
          "text": [
            "Model: \"sequential_1\"\n",
            "_________________________________________________________________\n",
            "Layer (type)                 Output Shape              Param #   \n",
            "=================================================================\n",
            "embedding (Embedding)        (None, 561, 129)          2580000   \n",
            "_________________________________________________________________\n",
            "lstm_3 (LSTM)                (None, 60)                45600     \n",
            "_________________________________________________________________\n",
            "dense_1 (Dense)              (None, 1)                 61        \n",
            "=================================================================\n",
            "Total params: 2,625,661\n",
            "Trainable params: 2,625,661\n",
            "Non-trainable params: 0\n",
            "_________________________________________________________________\n"
          ],
          "name": "stdout"
        }
      ]
    },
    {
      "cell_type": "code",
      "metadata": {
        "colab": {
          "base_uri": "https://localhost:8080/"
        },
        "id": "djTyCMR1O5ZE",
        "outputId": "adff0967-06c6-4e60-ac21-03dd17766753"
      },
      "source": [
        "history_2=model_2.fit(X_train_Padd, Y_train, epochs=5,validation_split=0.34, batch_size=128, shuffle=True, verbose=1)"
      ],
      "execution_count": 42,
      "outputs": [
        {
          "output_type": "stream",
          "text": [
            "Epoch 1/5\n",
            "194/194 [==============================] - 342s 2s/step - loss: 0.6787 - accuracy: 0.6175 - val_loss: 0.6105 - val_accuracy: 0.6902\n",
            "Epoch 2/5\n",
            "194/194 [==============================] - 341s 2s/step - loss: 0.4442 - accuracy: 0.8231 - val_loss: 0.3768 - val_accuracy: 0.8515\n",
            "Epoch 3/5\n",
            "194/194 [==============================] - 340s 2s/step - loss: 0.2981 - accuracy: 0.8960 - val_loss: 0.3140 - val_accuracy: 0.8801\n",
            "Epoch 4/5\n",
            "194/194 [==============================] - 336s 2s/step - loss: 0.2296 - accuracy: 0.9230 - val_loss: 0.3036 - val_accuracy: 0.8809\n",
            "Epoch 5/5\n",
            "194/194 [==============================] - 334s 2s/step - loss: 0.1839 - accuracy: 0.9406 - val_loss: 0.2815 - val_accuracy: 0.8885\n"
          ],
          "name": "stdout"
        }
      ]
    },
    {
      "cell_type": "code",
      "metadata": {
        "colab": {
          "base_uri": "https://localhost:8080/"
        },
        "id": "vhtkebnkqwio",
        "outputId": "7945500b-20d7-4d12-f3eb-6357ef4a10b5"
      },
      "source": [
        "result_2 = model_2.evaluate(X_test_Padd,Y_test)"
      ],
      "execution_count": 43,
      "outputs": [
        {
          "output_type": "stream",
          "text": [
            "391/391 [==============================] - 48s 123ms/step - loss: 0.2764 - accuracy: 0.8893\n"
          ],
          "name": "stdout"
        }
      ]
    },
    {
      "cell_type": "markdown",
      "metadata": {
        "id": "d-przd6gsZpS"
      },
      "source": [
        "**Result_2 sonucumuzda yüzde 89 başarı oranı yakaladık.**"
      ]
    },
    {
      "cell_type": "code",
      "metadata": {
        "colab": {
          "base_uri": "https://localhost:8080/",
          "height": 295
        },
        "id": "wwgWJY8ksNVz",
        "outputId": "2c2b6f4c-8a5b-461a-bb10-30f5d88ed805"
      },
      "source": [
        "plt.figure()\n",
        "plt.plot(history_2.history[\"accuracy\"], label = \"Train Kısmı\" )\n",
        "plt.plot(history_2.history[\"val_accuracy\"], label= \"Test Kısmı\")\n",
        "plt.title(\"Model Accuracy\")\n",
        "plt.ylabel(\"Acc\")\n",
        "plt.xlabel(\"Epoch\")\n",
        "plt.legend()\n",
        "plt.show()"
      ],
      "execution_count": 44,
      "outputs": [
        {
          "output_type": "display_data",
          "data": {
            "image/png": "[encoded data removed]",
            "text/plain": [
              "<Figure size 432x288 with 1 Axes>"
            ]
          },
          "metadata": {
            "tags": [],
            "needs_background": "light"
          }
        }
      ]
    },
    {
      "cell_type": "code",
      "metadata": {
        "colab": {
          "base_uri": "https://localhost:8080/",
          "height": 295
        },
        "id": "tF74123osQqU",
        "outputId": "0374c433-c1fc-4c71-ea72-16990d6021d5"
      },
      "source": [
        "plt.figure()\n",
        "plt.plot(history_2.history[\"loss\"], label= \"Train Kısmı \")\n",
        "plt.plot(history_2.history[\"val_loss\"], label= \"Test Kısmı\")\n",
        "plt.title(\"Model Loss\")\n",
        "plt.ylabel(\"Loss\")\n",
        "plt.xlabel(\"Epoch\")\n",
        "plt.legend()\n",
        "plt.show()"
      ],
      "execution_count": 45,
      "outputs": [
        {
          "output_type": "display_data",
          "data": {
            "image/png": "[encoded data removed]",
            "text/plain": [
              "<Figure size 432x288 with 1 Axes>"
            ]
          },
          "metadata": {
            "tags": [],
            "needs_background": "light"
          }
        }
      ]
    },
    {
      "cell_type": "markdown",
      "metadata": {
        "id": "0U-ZQQ03GA5K"
      },
      "source": [
        "**GRU katmanı ile deneme yaptık.**"
      ]
    },
    {
      "cell_type": "code",
      "metadata": {
        "id": "wtVyw6BjE63q"
      },
      "source": [
        "model_3=Sequential()\n",
        "\n",
        "model_3.add(Embedding(input_dim=20000, output_dim=129,input_length=token_2))\n",
        "model_3.add(GRU(units=60, activation='tanh'))\n",
        "model_3.add(Dense(units=1, activation='sigmoid'))\n",
        "\n",
        "adam= tf.keras.optimizers.Adam(learning_rate=0.0001)\n",
        "\n",
        "model_3.compile(optimizer=adam, loss='binary_crossentropy', metrics=['accuracy'])"
      ],
      "execution_count": 46,
      "outputs": []
    },
    {
      "cell_type": "code",
      "metadata": {
        "colab": {
          "base_uri": "https://localhost:8080/"
        },
        "id": "o1IjLumlFBq-",
        "outputId": "7c34052b-75d3-43b5-a6ae-059a2e338f30"
      },
      "source": [
        "model_3.summary()"
      ],
      "execution_count": 47,
      "outputs": [
        {
          "output_type": "stream",
          "text": [
            "Model: \"sequential_2\"\n",
            "_________________________________________________________________\n",
            "Layer (type)                 Output Shape              Param #   \n",
            "=================================================================\n",
            "embedding_1 (Embedding)      (None, 561, 129)          2580000   \n",
            "_________________________________________________________________\n",
            "module_wrapper (ModuleWrappe (None, 60)                34200     \n",
            "_________________________________________________________________\n",
            "dense_2 (Dense)              (None, 1)                 61        \n",
            "=================================================================\n",
            "Total params: 2,614,261\n",
            "Trainable params: 2,614,261\n",
            "Non-trainable params: 0\n",
            "_________________________________________________________________\n"
          ],
          "name": "stdout"
        }
      ]
    },
    {
      "cell_type": "code",
      "metadata": {
        "colab": {
          "base_uri": "https://localhost:8080/"
        },
        "id": "6agFZ_-xFYRZ",
        "outputId": "479e7c65-bfd0-4500-ab9c-73f71ec7d74a"
      },
      "source": [
        "history_3=model_3.fit(X_train_Padd, Y_train, epochs=5,validation_split=0.34, batch_size=128, shuffle=True, verbose=1)"
      ],
      "execution_count": 48,
      "outputs": [
        {
          "output_type": "stream",
          "text": [
            "Epoch 1/5\n",
            "194/194 [==============================] - 291s 1s/step - loss: 0.6869 - accuracy: 0.5928 - val_loss: 0.6723 - val_accuracy: 0.6541\n",
            "Epoch 2/5\n",
            "194/194 [==============================] - 289s 1s/step - loss: 0.4668 - accuracy: 0.7950 - val_loss: 0.3386 - val_accuracy: 0.8605\n",
            "Epoch 3/5\n",
            "194/194 [==============================] - 291s 1s/step - loss: 0.2553 - accuracy: 0.9017 - val_loss: 0.2905 - val_accuracy: 0.8786\n",
            "Epoch 4/5\n",
            "194/194 [==============================] - 291s 1s/step - loss: 0.1921 - accuracy: 0.9319 - val_loss: 0.2831 - val_accuracy: 0.8852\n",
            "Epoch 5/5\n",
            "194/194 [==============================] - 305s 2s/step - loss: 0.1508 - accuracy: 0.9510 - val_loss: 0.2888 - val_accuracy: 0.8845\n"
          ],
          "name": "stdout"
        }
      ]
    },
    {
      "cell_type": "code",
      "metadata": {
        "colab": {
          "base_uri": "https://localhost:8080/"
        },
        "id": "D2MQUOGsFrvT",
        "outputId": "579e9f7b-fc50-4ca3-c6cd-8809cb899faa"
      },
      "source": [
        "result_3 = model_3.evaluate(X_test_Padd,Y_test)"
      ],
      "execution_count": 49,
      "outputs": [
        {
          "output_type": "stream",
          "text": [
            "391/391 [==============================] - 40s 103ms/step - loss: 0.2844 - accuracy: 0.8848\n"
          ],
          "name": "stdout"
        }
      ]
    },
    {
      "cell_type": "markdown",
      "metadata": {
        "id": "QSPG722CMWIx"
      },
      "source": [
        "**Result_3 sonucumuzda yüzde 89 başarı oranı yakaladık.**"
      ]
    },
    {
      "cell_type": "code",
      "metadata": {
        "colab": {
          "base_uri": "https://localhost:8080/",
          "height": 295
        },
        "id": "wQGPFB6MG2hF",
        "outputId": "f3320703-ca6a-4b0e-83e3-249f3a5351d6"
      },
      "source": [
        "plt.figure()\n",
        "plt.plot(history_3.history[\"accuracy\"], label = \"Train Kısmı\" )\n",
        "plt.plot(history_3.history[\"val_accuracy\"], label= \"Test Kısmı\")\n",
        "plt.title(\"Model Accuracy\")\n",
        "plt.ylabel(\"Acc\")\n",
        "plt.xlabel(\"Epoch\")\n",
        "plt.legend()\n",
        "plt.show()"
      ],
      "execution_count": 50,
      "outputs": [
        {
          "output_type": "display_data",
          "data": {
            "image/png": "[encoded data removed]",
            "text/plain": [
              "<Figure size 432x288 with 1 Axes>"
            ]
          },
          "metadata": {
            "tags": [],
            "needs_background": "light"
          }
        }
      ]
    },
    {
      "cell_type": "code",
      "metadata": {
        "colab": {
          "base_uri": "https://localhost:8080/",
          "height": 295
        },
        "id": "BE4R1racG3GY",
        "outputId": "ed3a6ff0-3322-4ebb-e3f4-0d47facf39a6"
      },
      "source": [
        "plt.figure()\n",
        "plt.plot(history_3.history[\"loss\"], label= \"Train Kısmı \")\n",
        "plt.plot(history_3.history[\"val_loss\"], label= \"Test Kısmı\")\n",
        "plt.title(\"Model Loss\")\n",
        "plt.ylabel(\"Loss\")\n",
        "plt.xlabel(\"Epoch\")\n",
        "plt.legend()\n",
        "plt.show()"
      ],
      "execution_count": 51,
      "outputs": [
        {
          "output_type": "display_data",
          "data": {
            "image/png": "[encoded data removed]",
            "text/plain": [
              "<Figure size 432x288 with 1 Axes>"
            ]
          },
          "metadata": {
            "tags": [],
            "needs_background": "light"
          }
        }
      ]
    },
    {
      "cell_type": "markdown",
      "metadata": {
        "id": "H3dqCGt7U69S"
      },
      "source": [
        "**İkinci veri seti**"
      ]
    },
    {
      "cell_type": "code",
      "metadata": {
        "id": "aVc9R2a2syjH",
        "colab": {
          "base_uri": "https://localhost:8080/",
          "height": 408
        },
        "outputId": "784b529a-f95f-4a0e-9e1f-24fe61a59659"
      },
      "source": [
        "imdb_verisi_2 = pd.read_csv('My Drive/COLABS/IMDB_Veriseti_v2.csv',low_memory=False)\n",
        "imdb_verisi_2.head(3)"
      ],
      "execution_count": 52,
      "outputs": [
        {
          "output_type": "execute_result",
          "data": {
            "text/html": [
              "<div>\n",
              "<style scoped>\n",
              "    .dataframe tbody tr th:only-of-type {\n",
              "        vertical-align: middle;\n",
              "    }\n",
              "\n",
              "    .dataframe tbody tr th {\n",
              "        vertical-align: top;\n",
              "    }\n",
              "\n",
              "    .dataframe thead th {\n",
              "        text-align: right;\n",
              "    }\n",
              "</style>\n",
              "<table border=\"1\" class=\"dataframe\">\n",
              "  <thead>\n",
              "    <tr style=\"text-align: right;\">\n",
              "      <th></th>\n",
              "      <th>imdb_title_id</th>\n",
              "      <th>title</th>\n",
              "      <th>original_title</th>\n",
              "      <th>year</th>\n",
              "      <th>date_published</th>\n",
              "      <th>genre</th>\n",
              "      <th>duration</th>\n",
              "      <th>country</th>\n",
              "      <th>language</th>\n",
              "      <th>director</th>\n",
              "      <th>writer</th>\n",
              "      <th>production_company</th>\n",
              "      <th>actors</th>\n",
              "      <th>description</th>\n",
              "      <th>avg_vote</th>\n",
              "      <th>votes</th>\n",
              "      <th>budget</th>\n",
              "      <th>usa_gross_income</th>\n",
              "      <th>worlwide_gross_income</th>\n",
              "      <th>metascore</th>\n",
              "      <th>reviews_from_users</th>\n",
              "      <th>reviews_from_critics</th>\n",
              "    </tr>\n",
              "  </thead>\n",
              "  <tbody>\n",
              "    <tr>\n",
              "      <th>0</th>\n",
              "      <td>tt0000009</td>\n",
              "      <td>Miss Jerry</td>\n",
              "      <td>Miss Jerry</td>\n",
              "      <td>1894</td>\n",
              "      <td>1894-10-09</td>\n",
              "      <td>Romance</td>\n",
              "      <td>45</td>\n",
              "      <td>USA</td>\n",
              "      <td>None</td>\n",
              "      <td>Alexander Black</td>\n",
              "      <td>Alexander Black</td>\n",
              "      <td>Alexander Black Photoplays</td>\n",
              "      <td>Blanche Bayliss, William Courtenay, Chauncey D...</td>\n",
              "      <td>The adventures of a female reporter in the 1890s.</td>\n",
              "      <td>5.9</td>\n",
              "      <td>154</td>\n",
              "      <td>NaN</td>\n",
              "      <td>NaN</td>\n",
              "      <td>NaN</td>\n",
              "      <td>NaN</td>\n",
              "      <td>1.0</td>\n",
              "      <td>2.0</td>\n",
              "    </tr>\n",
              "    <tr>\n",
              "      <th>1</th>\n",
              "      <td>tt0000574</td>\n",
              "      <td>The Story of the Kelly Gang</td>\n",
              "      <td>The Story of the Kelly Gang</td>\n",
              "      <td>1906</td>\n",
              "      <td>1906-12-26</td>\n",
              "      <td>Biography, Crime, Drama</td>\n",
              "      <td>70</td>\n",
              "      <td>Australia</td>\n",
              "      <td>None</td>\n",
              "      <td>Charles Tait</td>\n",
              "      <td>Charles Tait</td>\n",
              "      <td>J. and N. Tait</td>\n",
              "      <td>Elizabeth Tait, John Tait, Norman Campbell, Be...</td>\n",
              "      <td>True story of notorious Australian outlaw Ned ...</td>\n",
              "      <td>6.1</td>\n",
              "      <td>589</td>\n",
              "      <td>$ 2250</td>\n",
              "      <td>NaN</td>\n",
              "      <td>NaN</td>\n",
              "      <td>NaN</td>\n",
              "      <td>7.0</td>\n",
              "      <td>7.0</td>\n",
              "    </tr>\n",
              "    <tr>\n",
              "      <th>2</th>\n",
              "      <td>tt0001892</td>\n",
              "      <td>Den sorte drøm</td>\n",
              "      <td>Den sorte drøm</td>\n",
              "      <td>1911</td>\n",
              "      <td>1911-08-19</td>\n",
              "      <td>Drama</td>\n",
              "      <td>53</td>\n",
              "      <td>Germany, Denmark</td>\n",
              "      <td>NaN</td>\n",
              "      <td>Urban Gad</td>\n",
              "      <td>Urban Gad, Gebhard Schätzler-Perasini</td>\n",
              "      <td>Fotorama</td>\n",
              "      <td>Asta Nielsen, Valdemar Psilander, Gunnar Helse...</td>\n",
              "      <td>Two men of high rank are both wooing the beaut...</td>\n",
              "      <td>5.8</td>\n",
              "      <td>188</td>\n",
              "      <td>NaN</td>\n",
              "      <td>NaN</td>\n",
              "      <td>NaN</td>\n",
              "      <td>NaN</td>\n",
              "      <td>5.0</td>\n",
              "      <td>2.0</td>\n",
              "    </tr>\n",
              "  </tbody>\n",
              "</table>\n",
              "</div>"
            ],
            "text/plain": [
              "  imdb_title_id  ... reviews_from_critics\n",
              "0     tt0000009  ...                  2.0\n",
              "1     tt0000574  ...                  7.0\n",
              "2     tt0001892  ...                  2.0\n",
              "\n",
              "[3 rows x 22 columns]"
            ]
          },
          "metadata": {
            "tags": []
          },
          "execution_count": 52
        }
      ]
    },
    {
      "cell_type": "markdown",
      "metadata": {
        "id": "JmoSWYUTqHSs"
      },
      "source": [
        "**Genre sütunu ile ikinci veri seti görselleştirdik.**"
      ]
    },
    {
      "cell_type": "code",
      "metadata": {
        "colab": {
          "base_uri": "https://localhost:8080/",
          "height": 542
        },
        "id": "D3w91_M6pnkv",
        "outputId": "1e3b64ca-0140-4f68-9cb5-5e878ed636ea"
      },
      "source": [
        "Visualization = px.pie(values=imdb_verisi_2['genre'].value_counts(), \n",
        "             names=imdb_verisi_2['genre'].value_counts().index,title='Genre sütununun içeriği')\n",
        "\n",
        "Visualization.show()"
      ],
      "execution_count": 53,
      "outputs": [
        {
          "output_type": "display_data",
          "data": {
            "text/html": [
              "<html>\n",
              "<head><meta charset=\"utf-8\" /></head>\n",
              "<body>\n",
              "    <div>\n",
              "            <script src=\"https://cdnjs.cloudflare.com/ajax/libs/mathjax/2.7.5/MathJax.js?config=TeX-AMS-MML_SVG\"></script><script type=\"text/javascript\">if (window.MathJax) {MathJax.Hub.Config({SVG: {font: \"STIX-Web\"}});}</script>\n",
              "                <script type=\"text/javascript\">window.PlotlyConfig = {MathJaxConfig: 'local'};</script>\n",
              "        <script src=\"https://cdn.plot.ly/plotly-latest.min.js\"></script>    \n",
              "            <div id=\"a897c892-c8af-4546-8179-b72681ea2e17\" class=\"plotly-graph-div\" style=\"height:525px; width:100%;\"></div>\n",
              "            <script type=\"text/javascript\">\n",
              "                \n",
              "                    window.PLOTLYENV=window.PLOTLYENV || {};\n",
              "                    \n",
              "                if (document.getElementById(\"a897c892-c8af-4546-8179-b72681ea2e17\")) {\n",
              "                    Plotly.newPlot(\n",
              "                        'a897c892-c8af-4546-8179-b72681ea2e17',\n",
              "                        [{\"domain\": {\"x\": [0.0, 1.0], \"y\": [0.0, 1.0]}, \"hoverlabel\": {\"namelength\": 0}, \"hovertemplate\": \"label=%{label}<br>value=%{value}\", \"labels\": [\"Drama\", \"Comedy\", \"Comedy, Drama\", \"Drama, Romance\", \"Comedy, Romance\", \"Comedy, Drama, Romance\", \"Horror\", \"Drama, Thriller\", \"Crime, Drama\", \"Action, Crime, Drama\", \"Thriller\", \"Horror, Thriller\", \"Crime, Drama, Thriller\", \"Action, Drama\", \"Drama, War\", \"Action\", \"Crime, Drama, Mystery\", \"Action, Adventure, Drama\", \"Action, Adventure, Comedy\", \"Comedy, Crime\", \"Western\", \"Comedy, Horror\", \"Action, Thriller\", \"Horror, Mystery, Thriller\", \"Comedy, Crime, Drama\", \"Action, Comedy, Crime\", \"Action, Crime, Thriller\", \"Biography, Drama\", \"Action, Comedy\", \"Crime, Drama, Film-Noir\", \"Drama, Family\", \"Romance\", \"Biography, Drama, History\", \"Action, Drama, Thriller\", \"Animation, Adventure, Comedy\", \"Comedy, Drama, Family\", \"Drama, Mystery, Thriller\", \"Drama, History\", \"Drama, Horror, Mystery\", \"Crime, Drama, Romance\", \"Horror, Sci-Fi\", \"Drama, Horror, Thriller\", \"Crime, Thriller\", \"Comedy, Musical\", \"Comedy, Musical, Romance\", \"Comedy, Family\", \"Action, Comedy, Drama\", \"Animation, Action, Adventure\", \"Mystery, Thriller\", \"Action, Drama, Romance\", \"Family\", \"Drama, Romance, War\", \"Comedy, Drama, Music\", \"Adventure, Drama\", \"Drama, Sport\", \"Comedy, Drama, Fantasy\", \"Drama, Music\", \"Drama, Mystery\", \"Sci-Fi\", \"Action, Adventure, Fantasy\", \"Action, Adventure, Sci-Fi\", \"Adventure\", \"Drama, History, War\", \"Drama, Horror\", \"Action, Adventure, Crime\", \"Comedy, Fantasy\", \"Adventure, Comedy, Drama\", \"Drama, Romance, Thriller\", \"Drama, Musical, Romance\", \"Horror, Sci-Fi, Thriller\", \"Action, Sci-Fi\", \"Adventure, Comedy, Family\", \"Action, Crime\", \"Drama, History, Romance\", \"Horror, Mystery\", \"Crime, Mystery, Thriller\", \"Action, Adventure\", \"Drama, Music, Romance\", \"Action, Drama, History\", \"Drama, Fantasy, Horror\", \"Biography, Crime, Drama\", \"Drama, Mystery, Romance\", \"Drama, Fantasy\", \"Animation, Adventure, Family\", \"Comedy, Drama, Musical\", \"Crime, Drama, Horror\", \"Comedy, Sci-Fi\", \"Adventure, Drama, Romance\", \"Adventure, Comedy\", \"Crime\", \"Biography, Drama, Romance\", \"Drama, Sci-Fi\", \"Action, Drama, War\", \"Comedy, Crime, Mystery\", \"Comedy, Family, Fantasy\", \"Biography, Drama, Music\", \"Comedy, Music\", \"Comedy, Fantasy, Romance\", \"Adventure, Family, Fantasy\", \"Action, Sci-Fi, Thriller\", \"Adventure, Family\", \"Biography, Comedy, Drama\", \"Action, Comedy, Horror\", \"Action, Horror, Sci-Fi\", \"Adventure, Comedy, Crime\", \"Comedy, Sport\", \"Comedy, Thriller\", \"Mystery\", \"Comedy, Fantasy, Horror\", \"Drama, Fantasy, Romance\", \"Adventure, Drama, Family\", \"Action, Adventure, Thriller\", \"Comedy, Horror, Sci-Fi\", \"Drama, Comedy\", \"Musical\", \"Drama, Western\", \"Adventure, Drama, History\", \"Comedy, Music, Romance\", \"Comedy, Drama, Mystery\", \"Action, Horror, Thriller\", \"Sci-Fi, Thriller\", \"Action, Comedy, Romance\", \"Action, Adventure, Romance\", \"Drama, Musical\", \"Comedy, Crime, Romance\", \"Animation\", \"Fantasy, Horror\", \"Animation, Comedy, Family\", \"Comedy, Crime, Thriller\", \"Crime, Horror, Thriller\", \"Comedy, Western\", \"Biography, Drama, Sport\", \"Action, Comedy, Fantasy\", \"Comedy, Drama, Thriller\", \"Comedy, Horror, Thriller\", \"Horror, Mystery, Sci-Fi\", \"Adventure, Crime, Drama\", \"Crime, Horror, Mystery\", \"Comedy, Mystery\", \"Drama, Fantasy, Mystery\", \"Drama, Horror, Sci-Fi\", \"Drama, Sci-Fi, Thriller\", \"Comedy, Drama, Sport\", \"Comedy, Family, Romance\", \"Drama, Mystery, Sci-Fi\", \"Comedy, Drama, War\", \"Action, Horror\", \"Adventure, Comedy, Fantasy\", \"Action, Biography, Drama\", \"Action, Drama, Sci-Fi\", \"Adventure, Fantasy\", \"Romance, Western\", \"Action, Drama, Horror\", \"Comedy, Drama, History\", \"Musical, Romance\", \"Drama, Romance, Sport\", \"Action, Adventure, Horror\", \"Fantasy\", \"Drama, Family, Romance\", \"Comedy, War\", \"Family, Fantasy\", \"Adventure, Comedy, Romance\", \"Comedy, Drama, Horror\", \"Adventure, Drama, Fantasy\", \"Action, Adventure, Family\", \"Action, Crime, Mystery\", \"Action, Drama, Sport\", \"Action, Drama, Mystery\", \"Adventure, Biography, Drama\", \"Adventure, Drama, Thriller\", \"Drama, Horror, Romance\", \"Animation, Family\", \"Fantasy, Horror, Thriller\", \"Crime, Mystery\", \"Animation, Adventure, Drama\", \"Biography, Drama, War\", \"Crime, Drama, History\", \"Action, Fantasy, Horror\", \"Action, Drama, Fantasy\", \"Fantasy, Horror, Mystery\", \"Romance, Thriller\", \"Action, Comedy, Thriller\", \"Animation, Comedy, Drama\", \"Action, Adventure, Western\", \"Action, Romance\", \"Comedy, Horror, Mystery\", \"Drama, Family, Fantasy\", \"Comedy, Romance, Sport\", \"Animation, Action, Drama\", \"War\", \"Romance, Drama\", \"Comedy, Crime, Horror\", \"Animation, Family, Fantasy\", \"Drama, History, Thriller\", \"Comedy, Crime, Family\", \"Biography\", \"Action, Adventure, History\", \"Action, Comedy, Sci-Fi\", \"Action, Crime, Horror\", \"Adventure, Sci-Fi\", \"Animation, Action, Comedy\", \"Drama, Thriller, War\", \"Drama, Romance, Sci-Fi\", \"Action, Drama, Western\", \"Crime, Horror\", \"Animation, Action, Sci-Fi\", \"Drama, Crime\", \"Animation, Comedy\", \"Adventure, Western\", \"Adventure, Romance\", \"Mystery, Sci-Fi, Thriller\", \"Crime, Drama, Music\", \"Drama, Romance, Western\", \"Comedy, Mystery, Thriller\", \"Action, Mystery, Thriller\", \"Romance, Comedy\", \"Comedy, Drama, Sci-Fi\", \"Thriller, Drama\", \"Adventure, Drama, War\", \"Action, Biography, Crime\", \"Action, War\", \"Action, Comedy, Family\", \"Animation, Drama, Family\", \"Comedy, Romance, Sci-Fi\", \"Action, Romance, Thriller\", \"Adventure, Horror\", \"Action, Fantasy\", \"Action, Horror, Mystery\", \"War, Drama\", \"Animation, Comedy, Fantasy\", \"Action, Adventure, Mystery\", \"Adventure, Drama, Western\", \"Drama, Family, Sport\", \"Action, Western\", \"Adventure, Comedy, Horror\", \"Comedy, History\", \"Animation, Adventure, Fantasy\", \"Mystery, Romance, Thriller\", \"Animation, Action, Fantasy\", \"Drama, Fantasy, Sci-Fi\", \"Adventure, Drama, Horror\", \"Drama, Film-Noir\", \"Comedy, Romance, Drama\", \"Action, Romance, Western\", \"Drama, Family, Musical\", \"Action, Crime, Sci-Fi\", \"Action, Adventure, Biography\", \"Biography, Drama, Family\", \"Comedy, Horror, Romance\", \"Family, Comedy\", \"Comedy, Family, Sport\", \"Drama, Film-Noir, Mystery\", \"Comedy, Family, Musical\", \"Drama, Fantasy, Thriller\", \"Action, Drama, Family\", \"History\", \"Adventure, Comedy, Sci-Fi\", \"Music\", \"Animation, Drama, Fantasy\", \"Fantasy, Horror, Sci-Fi\", \"Action, Crime, Romance\", \"Comedy, Romance, Thriller\", \"Drama, Comedy, Romance\", \"Fantasy, Romance\", \"Drama, Music, Musical\", \"Adventure, Horror, Sci-Fi\", \"Drama, Film-Noir, Thriller\", \"Action, Drama, Musical\", \"Biography, Comedy\", \"Comedy, Romance, War\", \"Biography, Drama, Musical\", \"Adventure, Drama, Mystery\", \"Action, Fantasy, Sci-Fi\", \"Crime, Romance, Thriller\", \"Action, Adventure, Music\", \"Crime, Film-Noir, Thriller\", \"Animation, Action, Crime\", \"Horror, Romance, Thriller\", \"Action, History\", \"Action, Adventure, War\", \"Adventure, Horror, Thriller\", \"Crime, Drama, Sport\", \"Crime, Drama, Fantasy\", \"Drama, History, Music\", \"Biography, Drama, Thriller\", \"Adventure, Family, Mystery\", \"Horror, Romance\", \"Adventure, History, Romance\", \"Comedy, Fantasy, Musical\", \"Action, Comedy, Music\", \"Crime, Mystery, Romance\", \"Drama, Film-Noir, Romance\", \"Drama, Action\", \"Comedy, Fantasy, Sci-Fi\", \"Adventure, Fantasy, Sci-Fi\", \"Comedy, Romance, Western\", \"Musical, Comedy\", \"Adventure, Fantasy, Horror\", \"Comedy, Mystery, Romance\", \"Adventure, Horror, Mystery\", \"Comedy, Horror, Musical\", \"Family, Drama\", \"Adventure, Family, Sci-Fi\", \"Biography, Comedy, Crime\", \"Comedy, Crime, Fantasy\", \"Animation, Fantasy\", \"Crime, Thriller, Drama\", \"Adventure, Drama, Sci-Fi\", \"Comedy, Family, Sci-Fi\", \"Crime, Film-Noir, Mystery\", \"Horror, Mystery, Romance\", \"Fantasy, Sci-Fi\", \"Musical, Drama\", \"Animation, Drama\", \"Comedy, Drama, Western\", \"Animation, Family, Musical\", \"Adventure, History\", \"Crime, Drama, Musical\", \"Comedy, Crime, Music\", \"Mystery, Sci-Fi\", \"Adventure, Thriller\", \"Adventure, Romance, Western\", \"Action, Fantasy, Thriller\", \"Animation, Biography, Drama\", \"Adventure, Comedy, History\", \"Adventure, Comedy, Musical\", \"Family, Fantasy, Musical\", \"Comedy, Crime, Musical\", \"Family, Sci-Fi\", \"Romance, Comedy, Drama\", \"Drama, History, Horror\", \"Crime, Horror, Sci-Fi\", \"Mystery, Romance\", \"Music, Romance\", \"Sci-Fi, Horror\", \"Drama, Music, Mystery\", \"Adventure, Comedy, Music\", \"Action, Drama, Music\", \"Action, Sport\", \"Animation, Sci-Fi\", \"Sport\", \"Thriller, Horror\", \"Drama, Family, History\", \"Animation, Adventure\", \"Drama, Family, Music\", \"Crime, Drama, Family\", \"Comedy, Fantasy, Music\", \"Romance, Sci-Fi\", \"Drama, Family, Western\", \"Adventure, Fantasy, Romance\", \"Comedy, Action\", \"Adventure, Comedy, War\", \"Animation, Drama, Romance\", \"Action, Thriller, War\", \"Family, Romance\", \"History, War\", \"Action, Crime, Fantasy\", \"Drama, History, Sport\", \"Action, Comedy, Mystery\", \"Drama, Romance, Comedy\", \"Adventure, Crime, Mystery\", \"Comedy, Music, Musical\", \"Crime, Drama, Western\", \"Drama, History, Western\", \"Action, Drama, Crime\", \"Biography, History\", \"Horror, Western\", \"Biography, Drama, Fantasy\", \"Drama, Thriller, Western\", \"Adventure, Comedy, Western\", \"Action, Comedy, Sport\", \"Adventure, Biography, Comedy\", \"Fantasy, Thriller\", \"Thriller, War\", \"Adventure, Family, Western\", \"Action, Comedy, Musical\", \"Film-Noir, Mystery\", \"Drama, Fantasy, Musical\", \"Drama, Mystery, War\", \"Family, Musical\", \"Comedy, Family, Music\", \"Biography, Comedy, Musical\", \"Family, Sport\", \"Drama, Adventure\", \"Drama, History, Musical\", \"Animation, Adventure, Sci-Fi\", \"Animation, Action\", \"Thriller, Crime, Drama\", \"Comedy, Musical, Western\", \"Crime, Drama, War\", \"Action, Comedy, Western\", \"Crime, Mystery, Sci-Fi\", \"Adventure, Crime, Thriller\", \"Adventure, Crime\", \"Adventure, Biography, History\", \"Comedy, Musical, Sci-Fi\", \"Adventure, Action\", \"Adventure, Romance, War\", \"Action, Mystery, Sci-Fi\", \"Adventure, Mystery, Thriller\", \"Drama, Fantasy, History\", \"Horror, Comedy\", \"Crime, Fantasy, Horror\", \"Horror, Romance, Sci-Fi\", \"Adventure, Comedy, Mystery\", \"Animation, Comedy, Sci-Fi\", \"Comedy, Drama, Crime\", \"Action, Mystery\", \"Drama, Fantasy, Music\", \"Drama, Music, War\", \"Family, Comedy, Drama\", \"Action, Mystery, Romance\", \"Comedy, Horror, Music\", \"Drama, Film-Noir, Sport\", \"Fantasy, Horror, Romance\", \"Adventure, History, War\", \"Drama, Family, Thriller\", \"Comedy, Sci-Fi, Thriller\", \"Western, Adventure\", \"Romance, Sci-Fi, Thriller\", \"Comedy, Musical, War\", \"Adventure, Mystery\", \"Action, Music, Western\", \"Action, Fantasy, Romance\", \"Animation, Comedy, Musical\", \"Fantasy, Mystery, Romance\", \"Crime, Romance\", \"Action, Comedy, War\", \"Musical, Comedy, Romance\", \"Action, Biography, History\", \"Adventure, War\", \"Crime, Drama, Sci-Fi\", \"Action, History, War\", \"Adventure, Comedy, Sport\", \"Animation, Comedy, Crime\", \"Adventure, Family, Romance\", \"Adventure, Drama, Music\", \"Action, Romance, Sci-Fi\", \"Mystery, Western\", \"Action, Drama, Adventure\", \"Musical, Drama, Romance\", \"Drama, Family, Sci-Fi\", \"Drama, History, Mystery\", \"Comedy, Crime, Sci-Fi\", \"Adventure, Sci-Fi, Thriller\", \"Family, Musical, Romance\", \"Adventure, Fantasy, Mystery\", \"Crime, Drama, Action\", \"Animation, Adventure, Crime\", \"Crime, Horror, Romance\", \"Comedy, History, Romance\", \"Fantasy, Comedy\", \"Drama, Family, Mystery\", \"Crime, Mystery, Drama\", \"Thriller, Western\", \"Action, Family\", \"Action, Biography, Comedy\", \"Comedy, Music, Western\", \"Horror, War\", \"Adventure, Comedy, Thriller\", \"Fantasy, Sci-Fi, Thriller\", \"Drama, Thriller, Crime\", \"Crime, Comedy\", \"Fantasy, Musical, Romance\", \"Horror, Musical\", \"Action, Romance, War\", \"Family, Adventure\", \"Drama, Action, Adventure\", \"Crime, Sci-Fi, Thriller\", \"Drama, Crime, Romance\", \"Drama, Comedy, Crime\", \"Adventure, Crime, Family\", \"Comedy, Musical, Sport\", \"Comedy, Family, Western\", \"Comedy, Family, Mystery\", \"Adventure, Family, Musical\", \"Drama, Family, War\", \"Biography, Drama, Western\", \"Thriller, Drama, Mystery\", \"Family, Fantasy, Romance\", \"Action, Music, Romance\", \"Action, Comedy, History\", \"Horror, Thriller, Mystery\", \"Animation, Drama, Horror\", \"Western, Comedy\", \"Biography, Crime, Thriller\", \"Biography, Comedy, Music\", \"Adventure, Family, Drama\", \"Family, Adventure, Fantasy\", \"Family, Comedy, Sci-Fi\", \"Animation, Comedy, Horror\", \"Comedy, Musical, Drama\", \"Musical, Romance, Drama\", \"Adventure, Crime, Romance\", \"Comedy, Music, Sport\", \"Comedy, Action, Crime\", \"Music, Drama\", \"Musical, Western\", \"Drama, Crime, Thriller\", \"Adventure, Drama, Sport\", \"Drama, Fantasy, War\", \"Drama, Horror, War\", \"Animation, Family, Adventure\", \"Animation, Action, Family\", \"Comedy, Crime, Sport\", \"Comedy, Fantasy, Mystery\", \"Fantasy, Mystery, Thriller\", \"Drama, Thriller, Horror\", \"Comedy, Mystery, Sci-Fi\", \"Animation, Action, Horror\", \"Biography, Music\", \"Biography, Drama, Horror\", \"Drama, Horror, Musical\", \"Musical, Drama, Comedy\", \"Crime, Action, Thriller\", \"Comedy, History, War\", \"Family, Mystery\", \"Mystery, Drama\", \"Music, Comedy\", \"Crime, Thriller, Action\", \"Adventure, War, Western\", \"Family, Fantasy, Horror\", \"Comedy, Action, Adventure\", \"Musical, Romance, Thriller\", \"Drama, War, Western\", \"History, Romance, Western\", \"Fantasy, Mystery\", \"Drama, Adventure, Action\", \"Action, Family, Sci-Fi\", \"Family, Western\", \"Biography, Drama, Mystery\", \"Drama, Musical, Thriller\", \"Drama, Sci-Fi, War\", \"Adventure, Crime, Fantasy\", \"Action, Drama, Comedy\", \"Horror, Drama\", \"Comedy, Family, Horror\", \"Drama, Action, Crime\", \"Crime, Western\", \"Action, Horror, Western\", \"Family, Adventure, Comedy\", \"History, Romance\", \"Biography, History, War\", \"Family, Fantasy, Music\", \"Biography, Musical\", \"Thriller, Crime\", \"Crime, Horror, Drama\", \"Biography, Western\", \"Adventure, Romance, Thriller\", \"Film-Noir, Thriller\", \"Horror, Thriller, Western\", \"Drama, Thriller, Action\", \"Drama, Sport, Thriller\", \"Comedy, Romance, Musical\", \"Crime, Thriller, Horror\", \"Action, Thriller, Drama\", \"Mystery, Thriller, Horror\", \"War, Western\", \"Adventure, Music, Romance\", \"Drama, Horror, Music\", \"History, Western\", \"Drama, Romance, Music\", \"Drama, Romance, Musical\", \"Drama, Crime, Mystery\", \"Comedy, Fantasy, Thriller\", \"Animation, Comedy, Romance\", \"Drama, Musical, Mystery\", \"Action, Romance, Sport\", \"Fantasy, Adventure\", \"Thriller, Mystery\", \"Horror, Thriller, War\", \"Adventure, Mystery, Sci-Fi\", \"Horror, Music\", \"Comedy, Musical, Mystery\", \"Adventure, Biography, Crime\", \"Adventure, Drama, Musical\", \"Action, Crime, Film-Noir\", \"Action, War, Western\", \"Crime, Music, Mystery\", \"Comedy, History, Musical\", \"Action, Crime, History\", \"Horror, Music, Thriller\", \"Animation, Crime, Drama\", \"Comedy, Family, Drama\", \"Animation, Biography\", \"Animation, Comedy, Music\", \"Fantasy, Drama\", \"Crime, History, Thriller\", \"Action, Fantasy, Adventure\", \"Animation, Drama, History\", \"Sci-Fi, Drama\", \"Family, Adventure, Animation\", \"Music, Western\", \"Family, Fantasy, Sci-Fi\", \"Drama, Horror, Western\", \"Mystery, Comedy\", \"Adventure, Horror, Romance\", \"Adventure, Crime, Horror\", \"Drama, Music, Thriller\", \"Adventure, Family, Comedy\", \"Biography, Comedy, Romance\", \"Thriller, Horror, Mystery\", \"Animation, Drama, Sci-Fi\", \"Family, Horror\", \"Western, Action\", \"Fantasy, Romance, Thriller\", \"Animation, Horror, Mystery\", \"Action, History, Thriller\", \"Animation, Drama, Thriller\", \"Crime, Film-Noir, Romance\", \"Animation, Horror\", \"Drama, Thriller, Romance\", \"Film-Noir, Horror, Mystery\", \"Comedy, Mystery, Crime\", \"Adventure, Action, Drama\", \"Crime, Family\", \"Drama, Action, Thriller\", \"Action, Comedy, Adventure\", \"Animation, Adventure, Horror\", \"Drama, Crime, Action\", \"Animation, Fantasy, Musical\", \"Animation, Adventure, Biography\", \"Drama, Film-Noir, Music\", \"Romance, War\", \"Adventure, Romance, Sci-Fi\", \"Romance, Thriller, War\", \"Adventure, Mystery, Romance\", \"Animation, Sci-Fi, Thriller\", \"Family, Action, Adventure\", \"Sci-Fi, Western\", \"History, Horror, Thriller\", \"Crime, Sci-Fi\", \"Thriller, Drama, Romance\", \"Horror, Thriller, Fantasy\", \"Action, History, Romance\", \"Drama, Thriller, Mystery\", \"Action, Horror, War\", \"Western, Drama\", \"Musical, Romance, Comedy\", \"Family, Animation\", \"Adventure, Fantasy, Thriller\", \"Family, Animation, Comedy\", \"Action, Sci-Fi, Sport\", \"History, Music, Romance\", \"Film-Noir, Mystery, Thriller\", \"Action, Crime, Comedy\", \"Adventure, Music, Sci-Fi\", \"Animation, Action, Sport\", \"Crime, Action, Drama\", \"Comedy, Romance, Crime\", \"Action, Thriller, Adventure\", \"Horror, Music, Sci-Fi\", \"Action, War, Drama\", \"Comedy, Crime, History\", \"Action, Musical, Romance\", \"Romance, Drama, War\", \"Comedy, Music, War\", \"Animation, Family, Comedy\", \"Drama, Action, Romance\", \"Comedy, War, Drama\", \"Drama, Family, Comedy\", \"Adventure, Biography, Romance\", \"Drama, War, Romance\", \"Musical, Adventure, Comedy\", \"Fantasy, Mystery, Sci-Fi\", \"Romance, Fantasy\", \"Family, Comedy, Fantasy\", \"Animation, Drama, War\", \"Adventure, Family, History\", \"Crime, Action, Comedy\", \"Biography, History, Romance\", \"Fantasy, Horror, Musical\", \"Family, Horror, Mystery\", \"Romance, Sport\", \"Action, Sport, Thriller\", \"Animation, Crime, Mystery\", \"Action, Animation, Sci-Fi\", \"Action, Sci-Fi, War\", \"Drama, Musical, War\", \"Adventure, Fantasy, History\", \"Biography, Romance\", \"Animation, Adventure, Romance\", \"Animation, Drama, Sport\", \"Music, Sci-Fi\", \"Fantasy, History, Horror\", \"Romance, War, Drama\", \"Romance, Comedy, Musical\", \"Musical, Mystery, Thriller\", \"History, Musical\", \"Comedy, Horror, Western\", \"Adventure, Action, Fantasy\", \"Comedy, Adventure, Drama\", \"Biography, Fantasy\", \"Adventure, Romance, Drama\", \"History, Thriller\", \"Comedy, Adventure, Romance\", \"Thriller, Comedy\", \"Thriller, Sci-Fi\", \"Adventure, Crime, Sci-Fi\", \"Animation, Action, Romance\", \"Thriller, Action\", \"Biography, Music, Romance\", \"Comedy, Adventure, Fantasy\", \"Romance, War, Western\", \"Comedy, Family, History\", \"Drama, Fantasy, Sport\", \"Adventure, Horror, Action\", \"Comedy, Horror, Sport\", \"Comedy, Thriller, Crime\", \"Crime, Musical\", \"Drama, Musical, Family\", \"Horror, Action\", \"Musical, Comedy, Drama\", \"Fantasy, Musical\", \"Comedy, Romance, Fantasy\", \"Animation, Fantasy, Horror\", \"Music, Comedy, Drama\", \"Family, Adventure, Sci-Fi\", \"Crime, Music, Thriller\", \"Romance, Thriller, Drama\", \"Adventure, Crime, Comedy\", \"Adventure, Action, Sci-Fi\", \"War, Drama, Action\", \"Drama, Thriller, Fantasy\", \"Crime, Comedy, Romance\", \"Biography, Thriller\", \"Family, Comedy, Romance\", \"Crime, Fantasy, Thriller\", \"Action, Animation, Comedy\", \"Horror, Fantasy\", \"Action, Crime, War\", \"Adventure, Biography, Western\", \"Family, Mystery, Thriller\", \"Drama, Comedy, Family\", \"Crime, Thriller, Comedy\", \"Western, Action, Drama\", \"Adventure, History, Western\", \"Drama, Comedy, Music\", \"War, Comedy\", \"Comedy, Family, Thriller\", \"Drama, Mystery, Western\", \"Action, Horror, Drama\", \"Adventure, Fantasy, Musical\", \"Mystery, Thriller, Drama\", \"Animation, History\", \"Drama, Music, Comedy\", \"Comedy, History, Music\", \"Animation, Family, Sci-Fi\", \"Drama, Adventure, Family\", \"Sci-Fi, Horror, Mystery\", \"Comedy, Sci-Fi, Horror\", \"Comedy, Fantasy, History\", \"Adventure, History, Mystery\", \"Animation, Drama, Mystery\", \"Family, Romance, Comedy\", \"Adventure, Thriller, Western\", \"Crime, Comedy, Drama\", \"Romance, Musical, Drama\", \"Comedy, Crime, Adventure\", \"Musical, Drama, Fantasy\", \"Adventure, Fantasy, Western\", \"Biography, Family, Sport\", \"Musical, Romance, Adventure\", \"Animation, Fantasy, History\", \"Drama, Sport, War\", \"Romance, Musical, Comedy\", \"Drama, Romance, Mystery\", \"Horror, Music, Mystery\", \"Comedy, Adventure\", \"Adventure, Animation\", \"Action, Crime, Musical\", \"Family, Adventure, Crime\", \"Drama, Romance, Adventure\", \"Family, Horror, Thriller\", \"History, Romance, War\", \"Sci-Fi, Comedy\", \"Animation, Sport\", \"Family, Comedy, Crime\", \"Adventure, Sci-Fi, Western\", \"Musical, Romance, Western\", \"Crime, Thriller, Western\", \"Animation, Romance\", \"Animation, Biography, Comedy\", \"Action, Fantasy, Western\", \"Adventure, Drama, Film-Noir\", \"Comedy, Thriller, Horror\", \"Adventure, Animation, Comedy\", \"Crime, Horror, Action\", \"Crime, Musical, Romance\", \"Horror, Comedy, Sci-Fi\", \"Comedy, Adventure, War\", \"Fantasy, Action, Adventure\", \"Drama, Romance, Family\", \"Crime, Romance, Comedy\", \"Romance, Drama, Comedy\", \"Animation, Musical\", \"Family, Fantasy, Western\", \"Action, Sci-Fi, Western\", \"Adventure, Thriller, Action\", \"Horror, Crime, Drama\", \"Film-Noir, Mystery, Romance\", \"Music, Romance, Western\", \"Drama, Musical, Comedy\", \"Drama, Adventure, Romance\", \"Comedy, Drama, Action\", \"Biography, History, Western\", \"Biography, Comedy, History\", \"Musical, Thriller\", \"Horror, Sci-Fi, Western\", \"Family, Music, Romance\", \"Comedy, Action, Drama\", \"Action, Romance, Comedy\", \"Comedy, Music, Sci-Fi\", \"Action, Horror, Sport\", \"Crime, Romance, Western\", \"Drama, Action, Comedy\", \"Sci-Fi, Fantasy\", \"Family, Drama, Romance\", \"Adventure, Animation, Fantasy\", \"Adventure, Drama, Crime\", \"Animation, Mystery, Sci-Fi\", \"Sci-Fi, Action\", \"Horror, Sport\", \"Comedy, Fantasy, Sport\", \"Action, Biography, Thriller\", \"Animation, Adventure, Musical\", \"Family, Crime\", \"Crime, Western, Drama\", \"Adventure, Fantasy, Family\", \"Biography, Crime, History\", \"Musical, Romance, War\", \"Biography, Romance, Western\", \"Animation, Sci-Fi, War\", \"Adventure, Crime, Film-Noir\", \"Action, Crime, Western\", \"Musical, Drama, Action\", \"Biography, War\", \"Animation, Romance, Sci-Fi\", \"Fantasy, Comedy, Romance\", \"Adventure, Animation, Family\", \"Horror, Action, Sci-Fi\", \"Action, Family, Fantasy\", \"Animation, Horror, Thriller\", \"Action, Music\", \"Thriller, Action, Crime\", \"Sci-Fi, Drama, Thriller\", \"Adventure, Comedy, Action\", \"Crime, Horror, Musical\", \"Music, Mystery, Thriller\", \"Comedy, Romance, Music\", \"Horror, Crime\", \"Comedy, Action, Thriller\", \"Drama, Music, Sci-Fi\", \"Family, Music\", \"Action, Horror, Romance\", \"Comedy, Crime, Western\", \"Music, Romance, War\", \"Comedy, Sci-Fi, Sport\", \"Biography, Horror\", \"Action, Drama, Film-Noir\", \"Animation, Adventure, Mystery\", \"Action, Thriller, Crime\", \"Mystery, Thriller, War\", \"Mystery, Romance, Sci-Fi\", \"Adventure, Sport\", \"Action, Family, Thriller\", \"Family, Fantasy, Mystery\", \"History, Thriller, War\", \"Animation, Fantasy, Music\", \"Music, Musical, Romance\", \"Fantasy, Horror, Comedy\", \"Action, Fantasy, Musical\", \"Drama, Music, Crime\", \"Thriller, Sci-Fi, Drama\", \"Comedy, Sport, Thriller\", \"Adventure, Film-Noir, Romance\", \"Musical, Adventure\", \"Mystery, Romance, Sport\", \"War, Comedy, Drama\", \"Adventure, Musical, Fantasy\", \"Comedy, Thriller, Action\", \"Fantasy, Music\", \"Crime, Fantasy, Mystery\", \"Drama, Comedy, Sci-Fi\", \"Drama, Action, Musical\", \"Biography, Drama, Film-Noir\", \"Sci-Fi, Comedy, Horror\", \"Adventure, Biography, Family\", \"Family, History, War\", \"Family, Romance, Sci-Fi\", \"Adventure, Film-Noir\", \"Animation, Fantasy, Romance\", \"Animation, Fantasy, Sci-Fi\", \"Action, Family, Romance\", \"Horror, Comedy, Music\", \"Drama, Western, War\", \"Mystery, Family\", \"Action, Biography\", \"Horror, Sport, Thriller\", \"Mystery, Sci-Fi, Crime\", \"Comedy, Sci-Fi, Romance\", \"Sci-Fi, Drama, Mystery\", \"Mystery, Horror, Sci-Fi\", \"Drama, Crime, Film-Noir\", \"Romance, Action, Drama\", \"Adventure, Crime, Western\", \"Romance, Action, Crime\", \"Animation, Adventure, Western\", \"Animation, Comedy, Action\", \"Comedy, Fantasy, Adventure\", \"Action, Animation\", \"Biography, History, Thriller\", \"Family, Music, Musical\", \"Crime, Horror, Music\", \"Crime, Drama, Comedy\", \"Adventure, Family, Action\", \"History, Horror\", \"Romance, War, Action\", \"Sci-Fi, Fantasy, Mystery\", \"Romance, Thriller, Crime\", \"Mystery, Film-Noir, Crime\", \"Drama, Mystery, Crime\", \"Drama, Mystery, Horror\", \"War, Action, Comedy\", \"Adventure, Musical\", \"Biography, History, Musical\", \"Drama, Action, Horror\", \"Family, Fantasy, History\", \"Fantasy, Western\", \"Family, Romance, Sport\", \"Drama, Sci-Fi, Sport\", \"Drama, Sport, Western\", \"Fantasy, Drama, Romance\", \"Drama, Romance, Horror\", \"Crime, Comedy, Fantasy\", \"Adventure, Western, War\", \"History, Drama\", \"Thriller, Musical, Mystery\", \"Romance, Comedy, Mystery\", \"Drama, Action, War\", \"Western, Adventure, Drama\", \"Adventure, Action, Crime\", \"Romance, Family, Comedy\", \"Film-Noir, Romance, Thriller\", \"Sci-Fi, Adventure, Drama\", \"Film-Noir, Horror\", \"Horror, Musical, Sci-Fi\", \"Fantasy, Music, Romance\", \"Animation, Music\", \"Mystery, Horror\", \"Adventure, Drama, Action\", \"Mystery, Musical, Romance\", \"Action, Reality-TV, Sport\", \"Action, Mystery, Drama\", \"Adventure, Horror, Fantasy\", \"Comedy, Family, War\", \"Horror, Drama, Romance\", \"Comedy, Western, Romance\", \"Sci-Fi, Action, Comedy\", \"Drama, Musical, Crime\", \"Drama, Fantasy, Comedy\", \"Action, Sci-Fi, Animation\", \"Sport, Thriller\", \"Biography, Crime, Film-Noir\", \"Action, Biography, Sci-Fi\", \"Adventure, Crime, History\", \"Adventure, Biography\", \"Musical, War\", \"Biography, Crime\", \"Comedy, Music, Mystery\", \"Romance, Thriller, Western\", \"Mystery, Romance, Western\", \"Family, Mystery, Sport\", \"Family, Fantasy, Adventure\", \"Family, Adventure, Drama\", \"Musical, Adventure, Drama\", \"Horror, Romance, Western\", \"Drama, Fantasy, Western\", \"Sci-Fi, Action, Thriller\", \"Animation, Biography, Crime\", \"Horror, Thriller, Music\", \"Action, Animation, Fantasy\", \"Crime, Film-Noir\", \"Music, Musical, Sci-Fi\", \"Action, Crime, Sport\", \"Drama, Action, Fantasy\", \"Music, War, Western\", \"Crime, Thriller, War\", \"Crime, Mystery, Western\", \"War, Drama, Romance\", \"Fantasy, Family, Musical\", \"Family, Drama, Western\", \"Mystery, Sci-Fi, Drama\", \"Mystery, Drama, Fantasy\", \"Adventure, Music, Western\", \"Horror, Sci-Fi, Mystery\", \"Crime, Sci-Fi, Comedy\", \"Crime, War\", \"Crime, Action\", \"Sci-Fi, War\", \"Musical, Action, Crime\", \"Adventure, Fantasy, War\", \"Crime, Thriller, Sci-Fi\", \"Biography, Family, History\", \"Musical, Fantasy\", \"Thriller, Crime, Action\", \"Crime, Mystery, Comedy\", \"Drama, Family, Action\", \"Musical, Music, Romance\", \"Action, History, Horror\", \"Action, Musical, Thriller\", \"Comedy, Mystery, Horror\", \"Action, Thriller, Western\", \"Action, Fantasy, History\", \"Adventure, Crime, Action\", \"Animation, Family, Sport\", \"Sci-Fi, Comedy, Music\", \"Fantasy, History, Romance\", \"Family, Fantasy, Sport\", \"Animation, Crime, Family\", \"Horror, Crime, Thriller\", \"Adventure, Action, Comedy\", \"Family, Comedy, Adventure\", \"Musical, Drama, Family\", \"Adventure, Animation, Drama\", \"Adventure, Sci-Fi, Fantasy\", \"Mystery, Fantasy, Horror\", \"Fantasy, Music, Musical\", \"Crime, Film-Noir, Sport\", \"Drama, Mystery, Action\", \"Family, War, Action\", \"Mystery, Fantasy, Romance\", \"Family, Horror, Comedy\", \"Comedy, Music, Drama\", \"Adventure, Sci-Fi, Drama\", \"Romance, Musical, Action\", \"Animation, Family, Romance\", \"Romance, Comedy, Action\", \"Sci-Fi, Animation, Action\", \"Comedy, Musical, Fantasy\", \"Mystery, Thriller, Western\", \"Animation, History, Horror\", \"Animation, Fantasy, Mystery\", \"Drama, Romance, Fantasy\", \"Family, Musical, Comedy\", \"Crime, War, Drama\", \"Thriller, Comedy, Romance\", \"Sci-Fi, Adventure, Action\", \"Biography, Sport\", \"Fantasy, Adventure, Family\", \"Comedy, War, Western\", \"Family, Adventure, Mystery\", \"Animation, Comedy, Mystery\", \"Musical, War, Romance\", \"Fantasy, Adventure, Action\", \"Action, Film-Noir, Mystery\", \"Fantasy, History, Mystery\", \"Biography, Family, Musical\", \"Animation, Horror, Sci-Fi\", \"Crime, Thriller, Mystery\", \"History, Romance, Thriller\", \"Thriller, Action, Adventure\", \"Adventure, Family, Sport\", \"Action, Mystery, Western\", \"Comedy, Western, Musical\", \"Fantasy, Musical, Sci-Fi\", \"Comedy, Sci-Fi, Musical\", \"Musical, Action, Drama\", \"Comedy, Musical, Family\", \"Mystery, Action, Thriller\", \"Musical, Horror\", \"Drama, History, Sci-Fi\", \"Fantasy, Mystery, Action\", \"Musical, Thriller, Mystery\", \"Family, War\", \"Comedy, Musical, Adventure\", \"Crime, History, Mystery\", \"Fantasy, Romance, Sci-Fi\", \"Adventure, Thriller, Drama\", \"Drama, Romance, Crime\", \"Drama, War, Thriller\", \"Crime, Music, Romance\", \"Fantasy, Mystery, Western\", \"Fantasy, Comedy, Musical\", \"Animation, War\", \"Horror, Mystery, Crime\", \"Music, Musical\", \"Drama, Fantasy, Family\", \"Fantasy, Musical, Family\", \"Fantasy, Musical, Mystery\", \"Crime, History\", \"Animation, Action, Music\", \"Documentary, Biography, Music\", \"Drama, Horror, Reality-TV\", \"Horror, Romance, Drama\", \"Adult, Crime, Horror\", \"Adventure, Fantasy, Drama\", \"Musical, Fantasy, Comedy\", \"Adventure, History, Sci-Fi\", \"Family, History\", \"Drama, Music, Sport\", \"Crime, Romance, Sci-Fi\", \"Drama, Comedy, War\", \"Musical, Family, Fantasy\", \"Sci-Fi, Horror, Thriller\", \"Drama, War, Action\", \"Romance, Horror\", \"Sci-Fi, Drama, Fantasy\", \"Action, Comedy, Animation\", \"Horror, Action, Adventure\", \"History, War, Western\", \"Music, Mystery, Romance\", \"Adventure, Mystery, Western\", \"Drama, Mystery, Sport\", \"Action, Crime, Music\", \"Musical, Comedy, Sci-Fi\", \"Action, Adventure, Musical\", \"Western, Adventure, Comedy\", \"History, Sci-Fi, Thriller\", \"Adventure, Comedy, Film-Noir\", \"Horror, Fantasy, Thriller\", \"Family, Animation, Musical\", \"Family, Fantasy, Comedy\", \"Drama, Horror, Fantasy\", \"Family, Thriller\", \"Action, Mystery, Crime\", \"Fantasy, Animation\", \"Musical, Drama, Horror\", \"Musical, Comedy, Family\", \"Family, Musical, Drama\", \"Horror, Comedy, Thriller\", \"Adventure, Musical, War\", \"Horror, Drama, Thriller\", \"Crime, Mystery, Horror\", \"Drama, Musical, Adventure\", \"Horror, Romance, War\", \"Family, Sci-Fi, Thriller\", \"History, Musical, Romance\", \"Animation, Family, Mystery\", \"Animation, Crime\", \"Drama, News, War\", \"Musical, Sci-Fi\", \"Action, Sci-Fi, Horror\", \"Mystery, Comedy, Drama\", \"Crime, Adventure, Comedy\", \"Comedy, Action, Sci-Fi\", \"Drama, Comedy, Action\", \"Drama, Musical, Western\", \"Sci-Fi, Crime, Thriller\", \"Adventure, Horror, War\", \"Family, Drama, Comedy\", \"Action, Thriller, Horror\", \"Sci-Fi, Action, Fantasy\", \"Horror, Drama, Mystery\", \"Sci-Fi, Adventure\", \"Animation, Action, Thriller\", \"Documentary\", \"Fantasy, Thriller, Action\", \"Drama, Adventure, Comedy\", \"Fantasy, War, Horror\", \"Adult, Comedy, Romance\", \"Comedy, Mystery, Drama\", \"Fantasy, Action, Comedy\", \"Animation, Fantasy, Adventure\", \"Comedy, Musical, Thriller\", \"Drama, Thriller, Sci-Fi\", \"Biography, Crime, Horror\", \"Drama, Comedy, Mystery\", \"Comedy, Thriller, Western\", \"Animation, Action, History\", \"Animation, Biography, History\", \"Comedy, History, Horror\", \"Family, Drama, Musical\", \"Thriller, Crime, Romance\", \"Music, Drama, Family\", \"Animation, Crime, Music\", \"Action, History, Mystery\", \"Adventure, Musical, Family\", \"Family, Sci-Fi, Adventure\", \"Mystery, Horror, Thriller\", \"Drama, Fantasy, Film-Noir\", \"Animation, Crime, Thriller\", \"Drama, War, Comedy\", \"Biography, Musical, Romance\", \"Adventure, Western, Romance\", \"Drama, Musical, Sport\", \"Romance, Drama, Adventure\", \"Action, Musical\", \"Horror, Comedy, Romance\", \"Drama, Sci-Fi, Horror\", \"Crime, Mystery, War\", \"Drama, Animation, Thriller\", \"Adventure, Family, Music\", \"Musical, Drama, Crime\", \"Fantasy, Horror, Western\", \"Thriller, Drama, Horror\", \"Adventure, Crime, Sport\", \"Thriller, Crime, Horror\", \"Adventure, Action, Mystery\", \"Comedy, Adventure, Family\", \"Comedy, Family, Adventure\", \"Adventure, Sci-Fi, Action\", \"Comedy, Western, Adventure\", \"Musical, Animation, Fantasy\", \"Mystery, Crime, Drama\", \"Animation, Drama, Music\", \"Crime, History, Western\", \"Drama, Adventure, Horror\", \"Western, Family\", \"Western, Horror\", \"Fantasy, Mystery, Drama\", \"Adventure, Fantasy, Comedy\", \"Fantasy, Romance, Action\", \"Family, Sci-Fi, Comedy\", \"Musical, Mystery, Drama\", \"Comedy, Sci-Fi, Family\", \"Mystery, Western, Horror\", \"Family, Fantasy, Drama\", \"Action, Horror, Adventure\", \"Family, Mystery, Fantasy\", \"Animation, History, War\", \"Musical, War, Fantasy\", \"Comedy, Fantasy, Drama\", \"Film-Noir, Horror, Thriller\", \"Romance, Fantasy, Drama\", \"Sci-Fi, Music\", \"Biography, Crime, Western\", \"Action, War, Adventure\", \"Action, Biography, Western\", \"Crime, Musical, Mystery\", \"Action, Thriller, Sci-Fi\", \"Horror, Reality-TV, Thriller\", \"War, Action\", \"Biography, Thriller, Western\", \"Western, Comedy, Drama\", \"Mystery, Thriller, Action\", \"Fantasy, Drama, Horror\", \"Action, Thriller, Comedy\", \"Crime, History, Musical\", \"Biography, Comedy, Family\", \"Horror, Western, Thriller\", \"Action, Western, Fantasy\", \"Animation, Family, Drama\", \"Action, Music, Sci-Fi\", \"Action, Musical, War\", \"Mystery, Crime\", \"Romance, Crime, Thriller\", \"War, Drama, Adventure\", \"Biography, Sci-Fi\", \"Animation, Comedy, Western\", \"Adventure, Crime, War\", \"Mystery, Romance, Musical\", \"Biography, Music, Musical\", \"Animation, Musical, Adventure\", \"Action, Family, Mystery\", \"Horror, Thriller, Crime\", \"Action, Thriller, Mystery\"], \"legendgroup\": \"\", \"name\": \"\", \"showlegend\": true, \"type\": \"pie\", \"values\": [12543, 7693, 4039, 3455, 2508, 2293, 2268, 1348, 1343, 1310, 1245, 1214, 1021, 881, 761, 715, 667, 608, 606, 592, 588, 573, 569, 564, 561, 539, 505, 494, 463, 442, 441, 439, 436, 433, 429, 419, 412, 393, 379, 370, 369, 357, 352, 330, 324, 320, 317, 312, 299, 291, 291, 276, 275, 273, 271, 268, 267, 259, 257, 256, 251, 250, 232, 231, 229, 222, 219, 218, 215, 210, 209, 208, 208, 208, 207, 201, 200, 200, 200, 200, 195, 195, 194, 180, 178, 178, 177, 174, 173, 167, 167, 159, 157, 157, 156, 155, 154, 149, 148, 145, 144, 143, 140, 139, 134, 134, 134, 133, 133, 127, 126, 126, 126, 124, 123, 120, 116, 116, 112, 112, 111, 110, 110, 110, 106, 104, 103, 103, 102, 101, 100, 100, 97, 95, 94, 94, 93, 90, 90, 88, 86, 86, 86, 86, 85, 85, 84, 84, 84, 84, 83, 83, 81, 80, 79, 78, 78, 77, 77, 76, 76, 75, 74, 74, 73, 73, 72, 70, 69, 69, 68, 67, 67, 67, 66, 65, 65, 63, 63, 63, 62, 62, 62, 61, 61, 60, 59, 59, 58, 57, 55, 54, 54, 53, 53, 52, 52, 51, 51, 50, 49, 49, 48, 47, 47, 46, 46, 46, 45, 45, 45, 43, 43, 42, 42, 42, 42, 41, 41, 41, 40, 40, 39, 38, 36, 36, 36, 36, 36, 36, 35, 35, 35, 35, 35, 35, 34, 34, 34, 33, 33, 33, 32, 32, 32, 31, 31, 31, 31, 31, 30, 30, 30, 29, 29, 29, 29, 28, 28, 28, 28, 28, 27, 27, 27, 27, 27, 27, 26, 26, 25, 25, 25, 25, 25, 24, 24, 24, 23, 23, 23, 22, 22, 22, 22, 21, 21, 21, 21, 21, 21, 21, 21, 21, 21, 21, 20, 20, 20, 20, 20, 20, 20, 20, 20, 19, 19, 19, 19, 19, 19, 18, 18, 18, 18, 18, 18, 17, 17, 17, 17, 17, 17, 17, 17, 17, 17, 16, 16, 16, 16, 16, 16, 16, 16, 16, 16, 16, 15, 15, 15, 15, 15, 15, 15, 15, 15, 15, 15, 14, 14, 14, 14, 14, 14, 14, 14, 14, 14, 14, 14, 13, 13, 13, 13, 13, 13, 13, 12, 12, 12, 12, 12, 12, 12, 12, 12, 12, 12, 12, 12, 12, 12, 11, 11, 11, 11, 11, 11, 11, 11, 11, 11, 11, 11, 11, 11, 11, 11, 10, 10, 10, 10, 10, 10, 10, 10, 10, 10, 10, 9, 9, 9, 9, 9, 9, 9, 9, 9, 9, 9, 9, 9, 9, 9, 9, 9, 9, 9, 9, 9, 9, 9, 9, 9, 8, 8, 8, 8, 8, 8, 8, 8, 8, 8, 8, 8, 8, 8, 8, 8, 8, 8, 8, 8, 7, 7, 7, 7, 7, 7, 7, 7, 7, 7, 7, 7, 7, 7, 7, 7, 7, 7, 7, 7, 7, 7, 7, 7, 7, 7, 7, 7, 6, 6, 6, 6, 6, 6, 6, 6, 6, 6, 6, 6, 6, 6, 6, 6, 6, 6, 6, 6, 6, 6, 6, 6, 6, 6, 6, 6, 6, 6, 5, 5, 5, 5, 5, 5, 5, 5, 5, 5, 5, 5, 5, 5, 5, 5, 5, 5, 5, 5, 5, 5, 5, 5, 5, 5, 5, 5, 5, 5, 5, 5, 5, 5, 5, 5, 5, 5, 5, 5, 5, 5, 5, 5, 5, 5, 5, 5, 5, 5, 5, 5, 5, 5, 5, 5, 5, 5, 5, 5, 5, 4, 4, 4, 4, 4, 4, 4, 4, 4, 4, 4, 4, 4, 4, 4, 4, 4, 4, 4, 4, 4, 4, 4, 4, 4, 4, 4, 4, 4, 4, 4, 4, 4, 4, 4, 4, 4, 4, 4, 4, 4, 4, 4, 4, 4, 4, 4, 4, 4, 4, 4, 3, 3, 3, 3, 3, 3, 3, 3, 3, 3, 3, 3, 3, 3, 3, 3, 3, 3, 3, 3, 3, 3, 3, 3, 3, 3, 3, 3, 3, 3, 3, 3, 3, 3, 3, 3, 3, 3, 3, 3, 3, 3, 3, 3, 3, 3, 3, 3, 3, 3, 3, 3, 3, 3, 3, 3, 3, 3, 3, 3, 3, 3, 3, 3, 3, 3, 3, 3, 3, 3, 3, 3, 3, 3, 3, 3, 3, 3, 3, 3, 3, 3, 3, 3, 3, 3, 3, 3, 3, 2, 2, 2, 2, 2, 2, 2, 2, 2, 2, 2, 2, 2, 2, 2, 2, 2, 2, 2, 2, 2, 2, 2, 2, 2, 2, 2, 2, 2, 2, 2, 2, 2, 2, 2, 2, 2, 2, 2, 2, 2, 2, 2, 2, 2, 2, 2, 2, 2, 2, 2, 2, 2, 2, 2, 2, 2, 2, 2, 2, 2, 2, 2, 2, 2, 2, 2, 2, 2, 2, 2, 2, 2, 2, 2, 2, 2, 2, 2, 2, 2, 2, 2, 2, 2, 2, 2, 2, 2, 2, 2, 2, 2, 2, 2, 2, 2, 2, 2, 2, 2, 2, 2, 2, 2, 2, 2, 2, 2, 2, 2, 2, 2, 2, 2, 2, 2, 2, 2, 2, 2, 2, 2, 2, 2, 2, 2, 2, 2, 2, 2, 2, 2, 2, 2, 2, 2, 2, 2, 2, 2, 2, 2, 2, 2, 2, 2, 2, 2, 2, 2, 2, 2, 2, 2, 2, 2, 2, 1, 1, 1, 1, 1, 1, 1, 1, 1, 1, 1, 1, 1, 1, 1, 1, 1, 1, 1, 1, 1, 1, 1, 1, 1, 1, 1, 1, 1, 1, 1, 1, 1, 1, 1, 1, 1, 1, 1, 1, 1, 1, 1, 1, 1, 1, 1, 1, 1, 1, 1, 1, 1, 1, 1, 1, 1, 1, 1, 1, 1, 1, 1, 1, 1, 1, 1, 1, 1, 1, 1, 1, 1, 1, 1, 1, 1, 1, 1, 1, 1, 1, 1, 1, 1, 1, 1, 1, 1, 1, 1, 1, 1, 1, 1, 1, 1, 1, 1, 1, 1, 1, 1, 1, 1, 1, 1, 1, 1, 1, 1, 1, 1, 1, 1, 1, 1, 1, 1, 1, 1, 1, 1, 1, 1, 1, 1, 1, 1, 1, 1, 1, 1, 1, 1, 1, 1, 1, 1, 1, 1, 1, 1, 1, 1, 1, 1, 1, 1, 1, 1, 1, 1, 1, 1, 1, 1, 1, 1, 1, 1, 1, 1, 1, 1, 1, 1, 1, 1, 1, 1, 1, 1, 1, 1, 1, 1, 1, 1, 1, 1, 1, 1, 1, 1, 1, 1, 1, 1, 1, 1, 1, 1, 1, 1, 1, 1, 1, 1, 1, 1, 1, 1, 1, 1, 1, 1, 1, 1, 1, 1, 1, 1, 1, 1, 1, 1, 1, 1, 1, 1, 1, 1, 1, 1, 1, 1, 1, 1, 1, 1, 1, 1, 1, 1, 1, 1, 1, 1, 1, 1, 1, 1, 1, 1, 1, 1, 1, 1, 1, 1, 1, 1, 1, 1, 1, 1, 1, 1, 1, 1, 1, 1, 1, 1, 1, 1, 1, 1, 1, 1, 1, 1, 1, 1, 1, 1, 1, 1, 1, 1, 1, 1, 1, 1, 1, 1, 1, 1, 1, 1, 1, 1, 1, 1, 1, 1, 1, 1, 1, 1, 1, 1, 1, 1, 1, 1, 1, 1, 1, 1, 1, 1, 1, 1, 1, 1, 1, 1, 1, 1, 1, 1, 1, 1, 1, 1, 1, 1, 1, 1, 1, 1, 1, 1, 1, 1, 1, 1, 1, 1, 1, 1, 1, 1, 1, 1, 1, 1, 1, 1, 1, 1, 1, 1, 1, 1, 1, 1, 1, 1, 1, 1, 1, 1, 1, 1, 1, 1, 1, 1, 1, 1, 1, 1, 1, 1, 1, 1, 1, 1, 1, 1, 1, 1]}],\n",
              "                        {\"legend\": {\"tracegroupgap\": 0}, \"template\": {\"data\": {\"bar\": [{\"error_x\": {\"color\": \"#2a3f5f\"}, \"error_y\": {\"color\": \"#2a3f5f\"}, \"marker\": {\"line\": {\"color\": \"#E5ECF6\", \"width\": 0.5}}, \"type\": \"bar\"}], \"barpolar\": [{\"marker\": {\"line\": {\"color\": \"#E5ECF6\", \"width\": 0.5}}, \"type\": \"barpolar\"}], \"carpet\": [{\"aaxis\": {\"endlinecolor\": \"#2a3f5f\", \"gridcolor\": \"white\", \"linecolor\": \"white\", \"minorgridcolor\": \"white\", \"startlinecolor\": \"#2a3f5f\"}, \"baxis\": {\"endlinecolor\": \"#2a3f5f\", \"gridcolor\": \"white\", \"linecolor\": \"white\", \"minorgridcolor\": \"white\", \"startlinecolor\": \"#2a3f5f\"}, \"type\": \"carpet\"}], \"choropleth\": [{\"colorbar\": {\"outlinewidth\": 0, \"ticks\": \"\"}, \"type\": \"choropleth\"}], \"contour\": [{\"colorbar\": {\"outlinewidth\": 0, \"ticks\": \"\"}, \"colorscale\": [[0.0, \"#0d0887\"], [0.1111111111111111, \"#46039f\"], [0.2222222222222222, \"#7201a8\"], [0.3333333333333333, \"#9c179e\"], [0.4444444444444444, \"#bd3786\"], [0.5555555555555556, \"#d8576b\"], [0.6666666666666666, \"#ed7953\"], [0.7777777777777778, \"#fb9f3a\"], [0.8888888888888888, \"#fdca26\"], [1.0, \"#f0f921\"]], \"type\": \"contour\"}], \"contourcarpet\": [{\"colorbar\": {\"outlinewidth\": 0, \"ticks\": \"\"}, \"type\": \"contourcarpet\"}], \"heatmap\": [{\"colorbar\": {\"outlinewidth\": 0, \"ticks\": \"\"}, \"colorscale\": [[0.0, \"#0d0887\"], [0.1111111111111111, \"#46039f\"], [0.2222222222222222, \"#7201a8\"], [0.3333333333333333, \"#9c179e\"], [0.4444444444444444, \"#bd3786\"], [0.5555555555555556, \"#d8576b\"], [0.6666666666666666, \"#ed7953\"], [0.7777777777777778, \"#fb9f3a\"], [0.8888888888888888, \"#fdca26\"], [1.0, \"#f0f921\"]], \"type\": \"heatmap\"}], \"heatmapgl\": [{\"colorbar\": {\"outlinewidth\": 0, \"ticks\": \"\"}, \"colorscale\": [[0.0, \"#0d0887\"], [0.1111111111111111, \"#46039f\"], [0.2222222222222222, \"#7201a8\"], [0.3333333333333333, \"#9c179e\"], [0.4444444444444444, \"#bd3786\"], [0.5555555555555556, \"#d8576b\"], [0.6666666666666666, \"#ed7953\"], [0.7777777777777778, \"#fb9f3a\"], [0.8888888888888888, \"#fdca26\"], [1.0, \"#f0f921\"]], \"type\": \"heatmapgl\"}], \"histogram\": [{\"marker\": {\"colorbar\": {\"outlinewidth\": 0, \"ticks\": \"\"}}, \"type\": \"histogram\"}], \"histogram2d\": [{\"colorbar\": {\"outlinewidth\": 0, \"ticks\": \"\"}, \"colorscale\": [[0.0, \"#0d0887\"], [0.1111111111111111, \"#46039f\"], [0.2222222222222222, \"#7201a8\"], [0.3333333333333333, \"#9c179e\"], [0.4444444444444444, \"#bd3786\"], [0.5555555555555556, \"#d8576b\"], [0.6666666666666666, \"#ed7953\"], [0.7777777777777778, \"#fb9f3a\"], [0.8888888888888888, \"#fdca26\"], [1.0, \"#f0f921\"]], \"type\": \"histogram2d\"}], \"histogram2dcontour\": [{\"colorbar\": {\"outlinewidth\": 0, \"ticks\": \"\"}, \"colorscale\": [[0.0, \"#0d0887\"], [0.1111111111111111, \"#46039f\"], [0.2222222222222222, \"#7201a8\"], [0.3333333333333333, \"#9c179e\"], [0.4444444444444444, \"#bd3786\"], [0.5555555555555556, \"#d8576b\"], [0.6666666666666666, \"#ed7953\"], [0.7777777777777778, \"#fb9f3a\"], [0.8888888888888888, \"#fdca26\"], [1.0, \"#f0f921\"]], \"type\": \"histogram2dcontour\"}], \"mesh3d\": [{\"colorbar\": {\"outlinewidth\": 0, \"ticks\": \"\"}, \"type\": \"mesh3d\"}], \"parcoords\": [{\"line\": {\"colorbar\": {\"outlinewidth\": 0, \"ticks\": \"\"}}, \"type\": \"parcoords\"}], \"pie\": [{\"automargin\": true, \"type\": \"pie\"}], \"scatter\": [{\"marker\": {\"colorbar\": {\"outlinewidth\": 0, \"ticks\": \"\"}}, \"type\": \"scatter\"}], \"scatter3d\": [{\"line\": {\"colorbar\": {\"outlinewidth\": 0, \"ticks\": \"\"}}, \"marker\": {\"colorbar\": {\"outlinewidth\": 0, \"ticks\": \"\"}}, \"type\": \"scatter3d\"}], \"scattercarpet\": [{\"marker\": {\"colorbar\": {\"outlinewidth\": 0, \"ticks\": \"\"}}, \"type\": \"scattercarpet\"}], \"scattergeo\": [{\"marker\": {\"colorbar\": {\"outlinewidth\": 0, \"ticks\": \"\"}}, \"type\": \"scattergeo\"}], \"scattergl\": [{\"marker\": {\"colorbar\": {\"outlinewidth\": 0, \"ticks\": \"\"}}, \"type\": \"scattergl\"}], \"scattermapbox\": [{\"marker\": {\"colorbar\": {\"outlinewidth\": 0, \"ticks\": \"\"}}, \"type\": \"scattermapbox\"}], \"scatterpolar\": [{\"marker\": {\"colorbar\": {\"outlinewidth\": 0, \"ticks\": \"\"}}, \"type\": \"scatterpolar\"}], \"scatterpolargl\": [{\"marker\": {\"colorbar\": {\"outlinewidth\": 0, \"ticks\": \"\"}}, \"type\": \"scatterpolargl\"}], \"scatterternary\": [{\"marker\": {\"colorbar\": {\"outlinewidth\": 0, \"ticks\": \"\"}}, \"type\": \"scatterternary\"}], \"surface\": [{\"colorbar\": {\"outlinewidth\": 0, \"ticks\": \"\"}, \"colorscale\": [[0.0, \"#0d0887\"], [0.1111111111111111, \"#46039f\"], [0.2222222222222222, \"#7201a8\"], [0.3333333333333333, \"#9c179e\"], [0.4444444444444444, \"#bd3786\"], [0.5555555555555556, \"#d8576b\"], [0.6666666666666666, \"#ed7953\"], [0.7777777777777778, \"#fb9f3a\"], [0.8888888888888888, \"#fdca26\"], [1.0, \"#f0f921\"]], \"type\": \"surface\"}], \"table\": [{\"cells\": {\"fill\": {\"color\": \"#EBF0F8\"}, \"line\": {\"color\": \"white\"}}, \"header\": {\"fill\": {\"color\": \"#C8D4E3\"}, \"line\": {\"color\": \"white\"}}, \"type\": \"table\"}]}, \"layout\": {\"annotationdefaults\": {\"arrowcolor\": \"#2a3f5f\", \"arrowhead\": 0, \"arrowwidth\": 1}, \"coloraxis\": {\"colorbar\": {\"outlinewidth\": 0, \"ticks\": \"\"}}, \"colorscale\": {\"diverging\": [[0, \"#8e0152\"], [0.1, \"#c51b7d\"], [0.2, \"#de77ae\"], [0.3, \"#f1b6da\"], [0.4, \"#fde0ef\"], [0.5, \"#f7f7f7\"], [0.6, \"#e6f5d0\"], [0.7, \"#b8e186\"], [0.8, \"#7fbc41\"], [0.9, \"#4d9221\"], [1, \"#276419\"]], \"sequential\": [[0.0, \"#0d0887\"], [0.1111111111111111, \"#46039f\"], [0.2222222222222222, \"#7201a8\"], [0.3333333333333333, \"#9c179e\"], [0.4444444444444444, \"#bd3786\"], [0.5555555555555556, \"#d8576b\"], [0.6666666666666666, \"#ed7953\"], [0.7777777777777778, \"#fb9f3a\"], [0.8888888888888888, \"#fdca26\"], [1.0, \"#f0f921\"]], \"sequentialminus\": [[0.0, \"#0d0887\"], [0.1111111111111111, \"#46039f\"], [0.2222222222222222, \"#7201a8\"], [0.3333333333333333, \"#9c179e\"], [0.4444444444444444, \"#bd3786\"], [0.5555555555555556, \"#d8576b\"], [0.6666666666666666, \"#ed7953\"], [0.7777777777777778, \"#fb9f3a\"], [0.8888888888888888, \"#fdca26\"], [1.0, \"#f0f921\"]]}, \"colorway\": [\"#636efa\", \"#EF553B\", \"#00cc96\", \"#ab63fa\", \"#FFA15A\", \"#19d3f3\", \"#FF6692\", \"#B6E880\", \"#FF97FF\", \"#FECB52\"], \"font\": {\"color\": \"#2a3f5f\"}, \"geo\": {\"bgcolor\": \"white\", \"lakecolor\": \"white\", \"landcolor\": \"#E5ECF6\", \"showlakes\": true, \"showland\": true, \"subunitcolor\": \"white\"}, \"hoverlabel\": {\"align\": \"left\"}, \"hovermode\": \"closest\", \"mapbox\": {\"style\": \"light\"}, \"paper_bgcolor\": \"white\", \"plot_bgcolor\": \"#E5ECF6\", \"polar\": {\"angularaxis\": {\"gridcolor\": \"white\", \"linecolor\": \"white\", \"ticks\": \"\"}, \"bgcolor\": \"#E5ECF6\", \"radialaxis\": {\"gridcolor\": \"white\", \"linecolor\": \"white\", \"ticks\": \"\"}}, \"scene\": {\"xaxis\": {\"backgroundcolor\": \"#E5ECF6\", \"gridcolor\": \"white\", \"gridwidth\": 2, \"linecolor\": \"white\", \"showbackground\": true, \"ticks\": \"\", \"zerolinecolor\": \"white\"}, \"yaxis\": {\"backgroundcolor\": \"#E5ECF6\", \"gridcolor\": \"white\", \"gridwidth\": 2, \"linecolor\": \"white\", \"showbackground\": true, \"ticks\": \"\", \"zerolinecolor\": \"white\"}, \"zaxis\": {\"backgroundcolor\": \"#E5ECF6\", \"gridcolor\": \"white\", \"gridwidth\": 2, \"linecolor\": \"white\", \"showbackground\": true, \"ticks\": \"\", \"zerolinecolor\": \"white\"}}, \"shapedefaults\": {\"line\": {\"color\": \"#2a3f5f\"}}, \"ternary\": {\"aaxis\": {\"gridcolor\": \"white\", \"linecolor\": \"white\", \"ticks\": \"\"}, \"baxis\": {\"gridcolor\": \"white\", \"linecolor\": \"white\", \"ticks\": \"\"}, \"bgcolor\": \"#E5ECF6\", \"caxis\": {\"gridcolor\": \"white\", \"linecolor\": \"white\", \"ticks\": \"\"}}, \"title\": {\"x\": 0.05}, \"xaxis\": {\"automargin\": true, \"gridcolor\": \"white\", \"linecolor\": \"white\", \"ticks\": \"\", \"title\": {\"standoff\": 15}, \"zerolinecolor\": \"white\", \"zerolinewidth\": 2}, \"yaxis\": {\"automargin\": true, \"gridcolor\": \"white\", \"linecolor\": \"white\", \"ticks\": \"\", \"title\": {\"standoff\": 15}, \"zerolinecolor\": \"white\", \"zerolinewidth\": 2}}}, \"title\": {\"text\": \"Genre s\\u00fctununun i\\u00e7eri\\u011fi\"}},\n",
              "                        {\"responsive\": true}\n",
              "                    ).then(function(){\n",
              "                            \n",
              "var gd = document.getElementById('a897c892-c8af-4546-8179-b72681ea2e17');\n",
              "var x = new MutationObserver(function (mutations, observer) {{\n",
              "        var display = window.getComputedStyle(gd).display;\n",
              "        if (!display || display === 'none') {{\n",
              "            console.log([gd, 'removed!']);\n",
              "            Plotly.purge(gd);\n",
              "            observer.disconnect();\n",
              "        }}\n",
              "}});\n",
              "\n",
              "// Listen for the removal of the full notebook cells\n",
              "var notebookContainer = gd.closest('#notebook-container');\n",
              "if (notebookContainer) {{\n",
              "    x.observe(notebookContainer, {childList: true});\n",
              "}}\n",
              "\n",
              "// Listen for the clearing of the current output cell\n",
              "var outputEl = gd.closest('.output');\n",
              "if (outputEl) {{\n",
              "    x.observe(outputEl, {childList: true});\n",
              "}}\n",
              "\n",
              "                        })\n",
              "                };\n",
              "                \n",
              "            </script>\n",
              "        </div>\n",
              "</body>\n",
              "</html>"
            ]
          },
          "metadata": {
            "tags": []
          }
        }
      ]
    },
    {
      "cell_type": "code",
      "metadata": {
        "colab": {
          "base_uri": "https://localhost:8080/"
        },
        "id": "ktWVua3DmXke",
        "outputId": "5e5b528d-4da4-4758-a7aa-d93ec87ced37"
      },
      "source": [
        "imdb_verisi_2.nunique()#Her satırda benzersiz içerik bulmak için kullanılır."
      ],
      "execution_count": 54,
      "outputs": [
        {
          "output_type": "execute_result",
          "data": {
            "text/plain": [
              "imdb_title_id            85855\n",
              "title                    82094\n",
              "original_title           80852\n",
              "year                       113\n",
              "date_published           22012\n",
              "genre                     1257\n",
              "duration                   266\n",
              "country                   4907\n",
              "language                  4377\n",
              "director                 34733\n",
              "writer                   66859\n",
              "production_company       32050\n",
              "actors                   85729\n",
              "description              83611\n",
              "avg_vote                    89\n",
              "votes                    14933\n",
              "budget                    4642\n",
              "usa_gross_income         14857\n",
              "worlwide_gross_income    30414\n",
              "metascore                   99\n",
              "reviews_from_users        1213\n",
              "reviews_from_critics       595\n",
              "dtype: int64"
            ]
          },
          "metadata": {
            "tags": []
          },
          "execution_count": 54
        }
      ]
    },
    {
      "cell_type": "code",
      "metadata": {
        "colab": {
          "base_uri": "https://localhost:8080/"
        },
        "id": "sU_SK-J6mn2T",
        "outputId": "b8f931f6-c35b-44db-c8d4-28ebedeee9e7"
      },
      "source": [
        "imdb_verisi_2.isnull().sum()#NaN mevcut olan her sütunun sayısını verecektir."
      ],
      "execution_count": 55,
      "outputs": [
        {
          "output_type": "execute_result",
          "data": {
            "text/plain": [
              "imdb_title_id                0\n",
              "title                        0\n",
              "original_title               0\n",
              "year                         0\n",
              "date_published               0\n",
              "genre                        0\n",
              "duration                     0\n",
              "country                     64\n",
              "language                   833\n",
              "director                    87\n",
              "writer                    1572\n",
              "production_company        4455\n",
              "actors                      69\n",
              "description               2115\n",
              "avg_vote                     0\n",
              "votes                        0\n",
              "budget                   62145\n",
              "usa_gross_income         70529\n",
              "worlwide_gross_income    54839\n",
              "metascore                72550\n",
              "reviews_from_users        7597\n",
              "reviews_from_critics     11797\n",
              "dtype: int64"
            ]
          },
          "metadata": {
            "tags": []
          },
          "execution_count": 55
        }
      ]
    },
    {
      "cell_type": "code",
      "metadata": {
        "id": "JQvSClMDn_3l"
      },
      "source": [
        "imdb_verisi_2.country.fillna(\"Country Unvailable\",inplace=True)"
      ],
      "execution_count": 56,
      "outputs": []
    },
    {
      "cell_type": "code",
      "metadata": {
        "colab": {
          "base_uri": "https://localhost:8080/"
        },
        "id": "XZgWFdu5rMQP",
        "outputId": "04ddfe82-ba64-490b-e065-144137bc9528"
      },
      "source": [
        "imdb_verisi_2.isnull().sum()"
      ],
      "execution_count": 57,
      "outputs": [
        {
          "output_type": "execute_result",
          "data": {
            "text/plain": [
              "imdb_title_id                0\n",
              "title                        0\n",
              "original_title               0\n",
              "year                         0\n",
              "date_published               0\n",
              "genre                        0\n",
              "duration                     0\n",
              "country                      0\n",
              "language                   833\n",
              "director                    87\n",
              "writer                    1572\n",
              "production_company        4455\n",
              "actors                      69\n",
              "description               2115\n",
              "avg_vote                     0\n",
              "votes                        0\n",
              "budget                   62145\n",
              "usa_gross_income         70529\n",
              "worlwide_gross_income    54839\n",
              "metascore                72550\n",
              "reviews_from_users        7597\n",
              "reviews_from_critics     11797\n",
              "dtype: int64"
            ]
          },
          "metadata": {
            "tags": []
          },
          "execution_count": 57
        }
      ]
    },
    {
      "cell_type": "code",
      "metadata": {
        "id": "_wlsjmd8rSCS"
      },
      "source": [
        ""
      ],
      "execution_count": 57,
      "outputs": []
    },
    {
      "cell_type": "markdown",
      "metadata": {
        "id": "tLPXJ3XKmeCC"
      },
      "source": [
        "**Üçüncü veri seti**"
      ]
    },
    {
      "cell_type": "code",
      "metadata": {
        "colab": {
          "base_uri": "https://localhost:8080/",
          "height": 296
        },
        "id": "Bqo914xpe62b",
        "outputId": "85dbd76b-1bd2-4961-ef01-1dc9a01dd428"
      },
      "source": [
        "veri_seti_3 = pd.read_csv('My Drive/COLABS/veri_seti_3.csv')\n",
        "print(veri_seti_3.shape)\n",
        "veri_seti_3.head()"
      ],
      "execution_count": 58,
      "outputs": [
        {
          "output_type": "stream",
          "text": [
            "(7787, 12)\n"
          ],
          "name": "stdout"
        },
        {
          "output_type": "execute_result",
          "data": {
            "text/html": [
              "<div>\n",
              "<style scoped>\n",
              "    .dataframe tbody tr th:only-of-type {\n",
              "        vertical-align: middle;\n",
              "    }\n",
              "\n",
              "    .dataframe tbody tr th {\n",
              "        vertical-align: top;\n",
              "    }\n",
              "\n",
              "    .dataframe thead th {\n",
              "        text-align: right;\n",
              "    }\n",
              "</style>\n",
              "<table border=\"1\" class=\"dataframe\">\n",
              "  <thead>\n",
              "    <tr style=\"text-align: right;\">\n",
              "      <th></th>\n",
              "      <th>show_id</th>\n",
              "      <th>type</th>\n",
              "      <th>title</th>\n",
              "      <th>director</th>\n",
              "      <th>cast</th>\n",
              "      <th>country</th>\n",
              "      <th>date_added</th>\n",
              "      <th>release_year</th>\n",
              "      <th>rating</th>\n",
              "      <th>duration</th>\n",
              "      <th>listed_in</th>\n",
              "      <th>description</th>\n",
              "    </tr>\n",
              "  </thead>\n",
              "  <tbody>\n",
              "    <tr>\n",
              "      <th>0</th>\n",
              "      <td>s1</td>\n",
              "      <td>TV Show</td>\n",
              "      <td>3%</td>\n",
              "      <td>NaN</td>\n",
              "      <td>João Miguel, Bianca Comparato, Michel Gomes, R...</td>\n",
              "      <td>Brazil</td>\n",
              "      <td>August 14, 2020</td>\n",
              "      <td>2020</td>\n",
              "      <td>TV-MA</td>\n",
              "      <td>4 Seasons</td>\n",
              "      <td>International TV Shows, TV Dramas, TV Sci-Fi &amp;...</td>\n",
              "      <td>In a future where the elite inhabit an island ...</td>\n",
              "    </tr>\n",
              "    <tr>\n",
              "      <th>1</th>\n",
              "      <td>s2</td>\n",
              "      <td>Movie</td>\n",
              "      <td>7:19</td>\n",
              "      <td>Jorge Michel Grau</td>\n",
              "      <td>Demián Bichir, Héctor Bonilla, Oscar Serrano, ...</td>\n",
              "      <td>Mexico</td>\n",
              "      <td>December 23, 2016</td>\n",
              "      <td>2016</td>\n",
              "      <td>TV-MA</td>\n",
              "      <td>93 min</td>\n",
              "      <td>Dramas, International Movies</td>\n",
              "      <td>After a devastating earthquake hits Mexico Cit...</td>\n",
              "    </tr>\n",
              "    <tr>\n",
              "      <th>2</th>\n",
              "      <td>s3</td>\n",
              "      <td>Movie</td>\n",
              "      <td>23:59</td>\n",
              "      <td>Gilbert Chan</td>\n",
              "      <td>Tedd Chan, Stella Chung, Henley Hii, Lawrence ...</td>\n",
              "      <td>Singapore</td>\n",
              "      <td>December 20, 2018</td>\n",
              "      <td>2011</td>\n",
              "      <td>R</td>\n",
              "      <td>78 min</td>\n",
              "      <td>Horror Movies, International Movies</td>\n",
              "      <td>When an army recruit is found dead, his fellow...</td>\n",
              "    </tr>\n",
              "    <tr>\n",
              "      <th>3</th>\n",
              "      <td>s4</td>\n",
              "      <td>Movie</td>\n",
              "      <td>9</td>\n",
              "      <td>Shane Acker</td>\n",
              "      <td>Elijah Wood, John C. Reilly, Jennifer Connelly...</td>\n",
              "      <td>United States</td>\n",
              "      <td>November 16, 2017</td>\n",
              "      <td>2009</td>\n",
              "      <td>PG-13</td>\n",
              "      <td>80 min</td>\n",
              "      <td>Action &amp; Adventure, Independent Movies, Sci-Fi...</td>\n",
              "      <td>In a postapocalyptic world, rag-doll robots hi...</td>\n",
              "    </tr>\n",
              "    <tr>\n",
              "      <th>4</th>\n",
              "      <td>s5</td>\n",
              "      <td>Movie</td>\n",
              "      <td>21</td>\n",
              "      <td>Robert Luketic</td>\n",
              "      <td>Jim Sturgess, Kevin Spacey, Kate Bosworth, Aar...</td>\n",
              "      <td>United States</td>\n",
              "      <td>January 1, 2020</td>\n",
              "      <td>2008</td>\n",
              "      <td>PG-13</td>\n",
              "      <td>123 min</td>\n",
              "      <td>Dramas</td>\n",
              "      <td>A brilliant group of students become card-coun...</td>\n",
              "    </tr>\n",
              "  </tbody>\n",
              "</table>\n",
              "</div>"
            ],
            "text/plain": [
              "  show_id  ...                                        description\n",
              "0      s1  ...  In a future where the elite inhabit an island ...\n",
              "1      s2  ...  After a devastating earthquake hits Mexico Cit...\n",
              "2      s3  ...  When an army recruit is found dead, his fellow...\n",
              "3      s4  ...  In a postapocalyptic world, rag-doll robots hi...\n",
              "4      s5  ...  A brilliant group of students become card-coun...\n",
              "\n",
              "[5 rows x 12 columns]"
            ]
          },
          "metadata": {
            "tags": []
          },
          "execution_count": 58
        }
      ]
    },
    {
      "cell_type": "code",
      "metadata": {
        "colab": {
          "base_uri": "https://localhost:8080/"
        },
        "id": "dlikB4z7hUro",
        "outputId": "f6a2d3b2-3b8d-4e48-8ba8-d2661e3f3a59"
      },
      "source": [
        "veri_seti_3.nunique()#Her satırda benzersiz içerik bulmak için kullanılır."
      ],
      "execution_count": 59,
      "outputs": [
        {
          "output_type": "execute_result",
          "data": {
            "text/plain": [
              "show_id         7787\n",
              "type               2\n",
              "title           7787\n",
              "director        4049\n",
              "cast            6831\n",
              "country          681\n",
              "date_added      1565\n",
              "release_year      73\n",
              "rating            14\n",
              "duration         216\n",
              "listed_in        492\n",
              "description     7769\n",
              "dtype: int64"
            ]
          },
          "metadata": {
            "tags": []
          },
          "execution_count": 59
        }
      ]
    },
    {
      "cell_type": "code",
      "metadata": {
        "colab": {
          "base_uri": "https://localhost:8080/"
        },
        "id": "on0NBDWKhdUD",
        "outputId": "bba41c9e-7e5b-4d5a-e25d-5c8058483388"
      },
      "source": [
        "veri_seti_3.isnull().sum()#NaN mevcut olan her sütunun sayısını verecektir."
      ],
      "execution_count": 60,
      "outputs": [
        {
          "output_type": "execute_result",
          "data": {
            "text/plain": [
              "show_id            0\n",
              "type               0\n",
              "title              0\n",
              "director        2389\n",
              "cast             718\n",
              "country          507\n",
              "date_added        10\n",
              "release_year       0\n",
              "rating             7\n",
              "duration           0\n",
              "listed_in          0\n",
              "description        0\n",
              "dtype: int64"
            ]
          },
          "metadata": {
            "tags": []
          },
          "execution_count": 60
        }
      ]
    },
    {
      "cell_type": "markdown",
      "metadata": {
        "id": "a1o6mbNAjanx"
      },
      "source": [
        "**3.veri setimizdeki verileri temizleyeceğiz**\n",
        "\n",
        "**Yukarıdaki sonuçlardan; director,cast,country,date_added ve rating sütunlarının eksik değerlere sahip olduğunu görebiliriz.İlk olarak,bu eksik değerleri ele alıyorum.**\n",
        "\n"
      ]
    },
    {
      "cell_type": "code",
      "metadata": {
        "id": "45ZJI7rJjSiY"
      },
      "source": [
        "veri_seti_3.director.fillna(\"No Director\",inplace=True)\n",
        "veri_seti_3.cast.fillna(\"No Cast\",inplace=True)\n",
        "veri_seti_3.country.fillna(\"Country Unvailable\",inplace=True)\n",
        "veri_seti_3.dropna(subset=[\"date_added\",\"rating\"],inplace=True)"
      ],
      "execution_count": 61,
      "outputs": []
    },
    {
      "cell_type": "code",
      "metadata": {
        "colab": {
          "base_uri": "https://localhost:8080/"
        },
        "id": "k-zCHLVXlpXd",
        "outputId": "9f6d7ff0-8f5b-4617-faa1-73a677fd0b05"
      },
      "source": [
        "veri_seti_3.isnull().sum()"
      ],
      "execution_count": 62,
      "outputs": [
        {
          "output_type": "execute_result",
          "data": {
            "text/plain": [
              "show_id         0\n",
              "type            0\n",
              "title           0\n",
              "director        0\n",
              "cast            0\n",
              "country         0\n",
              "date_added      0\n",
              "release_year    0\n",
              "rating          0\n",
              "duration        0\n",
              "listed_in       0\n",
              "description     0\n",
              "dtype: int64"
            ]
          },
          "metadata": {
            "tags": []
          },
          "execution_count": 62
        }
      ]
    },
    {
      "cell_type": "markdown",
      "metadata": {
        "id": "nbJaEuzHcDY4"
      },
      "source": [
        "**İkinci veri setimizdeki ilk 5 satırımızdaki title ve ratings sütunlarını listeledik**"
      ]
    },
    {
      "cell_type": "code",
      "metadata": {
        "colab": {
          "base_uri": "https://localhost:8080/",
          "height": 212
        },
        "id": "cGyqxxwFW2B1",
        "outputId": "b69b6c2c-1331-4ad8-c07b-65024be45af6"
      },
      "source": [
        "\n",
        "yeni_ratings = pd.DataFrame({'Title':imdb_verisi_2.title,\n",
        "                             'Rating':imdb_verisi_2.avg_vote})\n",
        "yeni_ratings.drop_duplicates(subset=['Title','Rating'],inplace=True)\n",
        "\n",
        "print(yeni_ratings.shape)\n",
        "yeni_ratings.head(5)"
      ],
      "execution_count": 63,
      "outputs": [
        {
          "output_type": "stream",
          "text": [
            "(85733, 2)\n"
          ],
          "name": "stdout"
        },
        {
          "output_type": "execute_result",
          "data": {
            "text/html": [
              "<div>\n",
              "<style scoped>\n",
              "    .dataframe tbody tr th:only-of-type {\n",
              "        vertical-align: middle;\n",
              "    }\n",
              "\n",
              "    .dataframe tbody tr th {\n",
              "        vertical-align: top;\n",
              "    }\n",
              "\n",
              "    .dataframe thead th {\n",
              "        text-align: right;\n",
              "    }\n",
              "</style>\n",
              "<table border=\"1\" class=\"dataframe\">\n",
              "  <thead>\n",
              "    <tr style=\"text-align: right;\">\n",
              "      <th></th>\n",
              "      <th>Title</th>\n",
              "      <th>Rating</th>\n",
              "    </tr>\n",
              "  </thead>\n",
              "  <tbody>\n",
              "    <tr>\n",
              "      <th>0</th>\n",
              "      <td>Miss Jerry</td>\n",
              "      <td>5.9</td>\n",
              "    </tr>\n",
              "    <tr>\n",
              "      <th>1</th>\n",
              "      <td>The Story of the Kelly Gang</td>\n",
              "      <td>6.1</td>\n",
              "    </tr>\n",
              "    <tr>\n",
              "      <th>2</th>\n",
              "      <td>Den sorte drøm</td>\n",
              "      <td>5.8</td>\n",
              "    </tr>\n",
              "    <tr>\n",
              "      <th>3</th>\n",
              "      <td>Cleopatra</td>\n",
              "      <td>5.2</td>\n",
              "    </tr>\n",
              "    <tr>\n",
              "      <th>4</th>\n",
              "      <td>L'Inferno</td>\n",
              "      <td>7.0</td>\n",
              "    </tr>\n",
              "  </tbody>\n",
              "</table>\n",
              "</div>"
            ],
            "text/plain": [
              "                         Title  Rating\n",
              "0                   Miss Jerry     5.9\n",
              "1  The Story of the Kelly Gang     6.1\n",
              "2               Den sorte drøm     5.8\n",
              "3                    Cleopatra     5.2\n",
              "4                    L'Inferno     7.0"
            ]
          },
          "metadata": {
            "tags": []
          },
          "execution_count": 63
        }
      ]
    },
    {
      "cell_type": "code",
      "metadata": {
        "colab": {
          "base_uri": "https://localhost:8080/",
          "height": 397
        },
        "id": "ZfEhcF5WaueT",
        "outputId": "aa1f170b-3607-49cf-e391-ed7de5cefec2"
      },
      "source": [
        "ınner_verisi = yeni_ratings.merge(veri_seti_3,left_on='Title',right_on='title',how='inner')\n",
        "ınner_verisi = ınner_verisi.sort_values(by='Rating',ascending=False)\n",
        "\n",
        "print(ınner_verisi.shape)\n",
        "ınner_verisi.head(5)"
      ],
      "execution_count": 64,
      "outputs": [
        {
          "output_type": "stream",
          "text": [
            "(2719, 14)\n"
          ],
          "name": "stdout"
        },
        {
          "output_type": "execute_result",
          "data": {
            "text/html": [
              "<div>\n",
              "<style scoped>\n",
              "    .dataframe tbody tr th:only-of-type {\n",
              "        vertical-align: middle;\n",
              "    }\n",
              "\n",
              "    .dataframe tbody tr th {\n",
              "        vertical-align: top;\n",
              "    }\n",
              "\n",
              "    .dataframe thead th {\n",
              "        text-align: right;\n",
              "    }\n",
              "</style>\n",
              "<table border=\"1\" class=\"dataframe\">\n",
              "  <thead>\n",
              "    <tr style=\"text-align: right;\">\n",
              "      <th></th>\n",
              "      <th>Title</th>\n",
              "      <th>Rating</th>\n",
              "      <th>show_id</th>\n",
              "      <th>type</th>\n",
              "      <th>title</th>\n",
              "      <th>director</th>\n",
              "      <th>cast</th>\n",
              "      <th>country</th>\n",
              "      <th>date_added</th>\n",
              "      <th>release_year</th>\n",
              "      <th>rating</th>\n",
              "      <th>duration</th>\n",
              "      <th>listed_in</th>\n",
              "      <th>description</th>\n",
              "    </tr>\n",
              "  </thead>\n",
              "  <tbody>\n",
              "    <tr>\n",
              "      <th>987</th>\n",
              "      <td>Breakout</td>\n",
              "      <td>9.0</td>\n",
              "      <td>s1093</td>\n",
              "      <td>TV Show</td>\n",
              "      <td>Breakout</td>\n",
              "      <td>No Director</td>\n",
              "      <td>Jeanette Aw, Elvin Ng, Zhou Ying, Christopher ...</td>\n",
              "      <td>Country Unvailable</td>\n",
              "      <td>July 1, 2017</td>\n",
              "      <td>2010</td>\n",
              "      <td>TV-14</td>\n",
              "      <td>1 Season</td>\n",
              "      <td>International TV Shows, TV Dramas</td>\n",
              "      <td>After losing her family in a suspicious car cr...</td>\n",
              "    </tr>\n",
              "    <tr>\n",
              "      <th>976</th>\n",
              "      <td>Innocent</td>\n",
              "      <td>9.0</td>\n",
              "      <td>s3009</td>\n",
              "      <td>TV Show</td>\n",
              "      <td>Innocent</td>\n",
              "      <td>Seren Yüce</td>\n",
              "      <td>Ali Atay, Haluk Bilginer, Nur Sürer, Okan Yala...</td>\n",
              "      <td>Turkey</td>\n",
              "      <td>January 23, 2019</td>\n",
              "      <td>2017</td>\n",
              "      <td>TV-MA</td>\n",
              "      <td>1 Season</td>\n",
              "      <td>Crime TV Shows, International TV Shows, TV Dramas</td>\n",
              "      <td>In a peaceful, rustic town, a retired officer ...</td>\n",
              "    </tr>\n",
              "    <tr>\n",
              "      <th>371</th>\n",
              "      <td>Schindler's List</td>\n",
              "      <td>8.9</td>\n",
              "      <td>s5431</td>\n",
              "      <td>Movie</td>\n",
              "      <td>Schindler's List</td>\n",
              "      <td>Steven Spielberg</td>\n",
              "      <td>Liam Neeson, Ben Kingsley, Ralph Fiennes, Caro...</td>\n",
              "      <td>United States</td>\n",
              "      <td>April 1, 2018</td>\n",
              "      <td>1993</td>\n",
              "      <td>R</td>\n",
              "      <td>195 min</td>\n",
              "      <td>Classic Movies, Dramas</td>\n",
              "      <td>Oskar Schindler becomes an unlikely humanitari...</td>\n",
              "    </tr>\n",
              "    <tr>\n",
              "      <th>389</th>\n",
              "      <td>Pulp Fiction</td>\n",
              "      <td>8.9</td>\n",
              "      <td>s5003</td>\n",
              "      <td>Movie</td>\n",
              "      <td>Pulp Fiction</td>\n",
              "      <td>Quentin Tarantino</td>\n",
              "      <td>John Travolta, Samuel L. Jackson, Uma Thurman,...</td>\n",
              "      <td>United States</td>\n",
              "      <td>January 1, 2019</td>\n",
              "      <td>1994</td>\n",
              "      <td>R</td>\n",
              "      <td>154 min</td>\n",
              "      <td>Classic Movies, Cult Movies, Dramas</td>\n",
              "      <td>This stylized crime caper weaves together stor...</td>\n",
              "    </tr>\n",
              "    <tr>\n",
              "      <th>1284</th>\n",
              "      <td>Inception</td>\n",
              "      <td>8.8</td>\n",
              "      <td>s2980</td>\n",
              "      <td>Movie</td>\n",
              "      <td>Inception</td>\n",
              "      <td>Christopher Nolan</td>\n",
              "      <td>Leonardo DiCaprio, Joseph Gordon-Levitt, Ellen...</td>\n",
              "      <td>United States, United Kingdom</td>\n",
              "      <td>January 1, 2020</td>\n",
              "      <td>2010</td>\n",
              "      <td>PG-13</td>\n",
              "      <td>148 min</td>\n",
              "      <td>Action &amp; Adventure, Sci-Fi &amp; Fantasy, Thrillers</td>\n",
              "      <td>In this mind-bending sci-fi thriller, a man ru...</td>\n",
              "    </tr>\n",
              "  </tbody>\n",
              "</table>\n",
              "</div>"
            ],
            "text/plain": [
              "                 Title  ...                                        description\n",
              "987           Breakout  ...  After losing her family in a suspicious car cr...\n",
              "976           Innocent  ...  In a peaceful, rustic town, a retired officer ...\n",
              "371   Schindler's List  ...  Oskar Schindler becomes an unlikely humanitari...\n",
              "389       Pulp Fiction  ...  This stylized crime caper weaves together stor...\n",
              "1284         Inception  ...  In this mind-bending sci-fi thriller, a man ru...\n",
              "\n",
              "[5 rows x 14 columns]"
            ]
          },
          "metadata": {
            "tags": []
          },
          "execution_count": 64
        }
      ]
    },
    {
      "cell_type": "code",
      "metadata": {
        "colab": {
          "base_uri": "https://localhost:8080/",
          "height": 330
        },
        "id": "SAR4q6MwmO68",
        "outputId": "9480724f-ff60-4cdf-fc4d-ff9901a9d6ee"
      },
      "source": [
        "Yeni_Data=ınner_verisi[['Title','Rating','type']]\n",
        "\n",
        "Yeni_Data.drop_duplicates(subset=['Title','Rating','type'],inplace=True)\n",
        "print(Yeni_Data.shape)\n",
        "Yeni_Data.head(5)"
      ],
      "execution_count": 65,
      "outputs": [
        {
          "output_type": "stream",
          "text": [
            "(2719, 3)\n"
          ],
          "name": "stdout"
        },
        {
          "output_type": "stream",
          "text": [
            "/usr/local/lib/python3.7/dist-packages/ipykernel_launcher.py:3: SettingWithCopyWarning:\n",
            "\n",
            "\n",
            "A value is trying to be set on a copy of a slice from a DataFrame\n",
            "\n",
            "See the caveats in the documentation: https://pandas.pydata.org/pandas-docs/stable/user_guide/indexing.html#returning-a-view-versus-a-copy\n",
            "\n"
          ],
          "name": "stderr"
        },
        {
          "output_type": "execute_result",
          "data": {
            "text/html": [
              "<div>\n",
              "<style scoped>\n",
              "    .dataframe tbody tr th:only-of-type {\n",
              "        vertical-align: middle;\n",
              "    }\n",
              "\n",
              "    .dataframe tbody tr th {\n",
              "        vertical-align: top;\n",
              "    }\n",
              "\n",
              "    .dataframe thead th {\n",
              "        text-align: right;\n",
              "    }\n",
              "</style>\n",
              "<table border=\"1\" class=\"dataframe\">\n",
              "  <thead>\n",
              "    <tr style=\"text-align: right;\">\n",
              "      <th></th>\n",
              "      <th>Title</th>\n",
              "      <th>Rating</th>\n",
              "      <th>type</th>\n",
              "    </tr>\n",
              "  </thead>\n",
              "  <tbody>\n",
              "    <tr>\n",
              "      <th>987</th>\n",
              "      <td>Breakout</td>\n",
              "      <td>9.0</td>\n",
              "      <td>TV Show</td>\n",
              "    </tr>\n",
              "    <tr>\n",
              "      <th>976</th>\n",
              "      <td>Innocent</td>\n",
              "      <td>9.0</td>\n",
              "      <td>TV Show</td>\n",
              "    </tr>\n",
              "    <tr>\n",
              "      <th>371</th>\n",
              "      <td>Schindler's List</td>\n",
              "      <td>8.9</td>\n",
              "      <td>Movie</td>\n",
              "    </tr>\n",
              "    <tr>\n",
              "      <th>389</th>\n",
              "      <td>Pulp Fiction</td>\n",
              "      <td>8.9</td>\n",
              "      <td>Movie</td>\n",
              "    </tr>\n",
              "    <tr>\n",
              "      <th>1284</th>\n",
              "      <td>Inception</td>\n",
              "      <td>8.8</td>\n",
              "      <td>Movie</td>\n",
              "    </tr>\n",
              "  </tbody>\n",
              "</table>\n",
              "</div>"
            ],
            "text/plain": [
              "                 Title  Rating     type\n",
              "987           Breakout     9.0  TV Show\n",
              "976           Innocent     9.0  TV Show\n",
              "371   Schindler's List     8.9    Movie\n",
              "389       Pulp Fiction     8.9    Movie\n",
              "1284         Inception     8.8    Movie"
            ]
          },
          "metadata": {
            "tags": []
          },
          "execution_count": 65
        }
      ]
    },
    {
      "cell_type": "code",
      "metadata": {
        "colab": {
          "base_uri": "https://localhost:8080/"
        },
        "id": "kVwwd_EbgRlG",
        "outputId": "f2022e08-321c-4622-be59-cb187916a048"
      },
      "source": [
        "Filmler_Data = Yeni_Data[Yeni_Data.type == 'Movie']\n",
        "TVS_Data =  Yeni_Data[Yeni_Data.type == 'TV Show']\n",
        "print(Filmler_Data.shape)\n",
        "print(TVS_Data.shape)"
      ],
      "execution_count": 66,
      "outputs": [
        {
          "output_type": "stream",
          "text": [
            "(2383, 3)\n",
            "(336, 3)\n"
          ],
          "name": "stdout"
        }
      ]
    },
    {
      "cell_type": "code",
      "metadata": {
        "colab": {
          "base_uri": "https://localhost:8080/",
          "height": 402
        },
        "id": "Hd8E-wN3HU9l",
        "outputId": "3be90b72-89f1-471f-fa05-171d28299f6b"
      },
      "source": [
        "Filmler_Data = Filmler_Data.drop(['type'], axis = 1)\n",
        "\n",
        "Filmler_Data"
      ],
      "execution_count": 67,
      "outputs": [
        {
          "output_type": "execute_result",
          "data": {
            "text/html": [
              "<div>\n",
              "<style scoped>\n",
              "    .dataframe tbody tr th:only-of-type {\n",
              "        vertical-align: middle;\n",
              "    }\n",
              "\n",
              "    .dataframe tbody tr th {\n",
              "        vertical-align: top;\n",
              "    }\n",
              "\n",
              "    .dataframe thead th {\n",
              "        text-align: right;\n",
              "    }\n",
              "</style>\n",
              "<table border=\"1\" class=\"dataframe\">\n",
              "  <thead>\n",
              "    <tr style=\"text-align: right;\">\n",
              "      <th></th>\n",
              "      <th>Title</th>\n",
              "      <th>Rating</th>\n",
              "    </tr>\n",
              "  </thead>\n",
              "  <tbody>\n",
              "    <tr>\n",
              "      <th>371</th>\n",
              "      <td>Schindler's List</td>\n",
              "      <td>8.9</td>\n",
              "    </tr>\n",
              "    <tr>\n",
              "      <th>389</th>\n",
              "      <td>Pulp Fiction</td>\n",
              "      <td>8.9</td>\n",
              "    </tr>\n",
              "    <tr>\n",
              "      <th>1284</th>\n",
              "      <td>Inception</td>\n",
              "      <td>8.8</td>\n",
              "    </tr>\n",
              "    <tr>\n",
              "      <th>1651</th>\n",
              "      <td>Much Ado About Nothing</td>\n",
              "      <td>8.6</td>\n",
              "    </tr>\n",
              "    <tr>\n",
              "      <th>598</th>\n",
              "      <td>Koshish</td>\n",
              "      <td>8.6</td>\n",
              "    </tr>\n",
              "    <tr>\n",
              "      <th>...</th>\n",
              "      <td>...</td>\n",
              "      <td>...</td>\n",
              "    </tr>\n",
              "    <tr>\n",
              "      <th>831</th>\n",
              "      <td>The Vault</td>\n",
              "      <td>1.9</td>\n",
              "    </tr>\n",
              "    <tr>\n",
              "      <th>571</th>\n",
              "      <td>Himmatwala</td>\n",
              "      <td>1.7</td>\n",
              "    </tr>\n",
              "    <tr>\n",
              "      <th>1188</th>\n",
              "      <td>Pink</td>\n",
              "      <td>1.6</td>\n",
              "    </tr>\n",
              "    <tr>\n",
              "      <th>1672</th>\n",
              "      <td>Welcome to New York</td>\n",
              "      <td>1.6</td>\n",
              "    </tr>\n",
              "    <tr>\n",
              "      <th>2173</th>\n",
              "      <td>Aerials</td>\n",
              "      <td>1.6</td>\n",
              "    </tr>\n",
              "  </tbody>\n",
              "</table>\n",
              "<p>2383 rows × 2 columns</p>\n",
              "</div>"
            ],
            "text/plain": [
              "                       Title  Rating\n",
              "371         Schindler's List     8.9\n",
              "389             Pulp Fiction     8.9\n",
              "1284               Inception     8.8\n",
              "1651  Much Ado About Nothing     8.6\n",
              "598                  Koshish     8.6\n",
              "...                      ...     ...\n",
              "831                The Vault     1.9\n",
              "571               Himmatwala     1.7\n",
              "1188                    Pink     1.6\n",
              "1672     Welcome to New York     1.6\n",
              "2173                 Aerials     1.6\n",
              "\n",
              "[2383 rows x 2 columns]"
            ]
          },
          "metadata": {
            "tags": []
          },
          "execution_count": 67
        }
      ]
    },
    {
      "cell_type": "code",
      "metadata": {
        "colab": {
          "base_uri": "https://localhost:8080/",
          "height": 402
        },
        "id": "2MxMgZtLHxKi",
        "outputId": "0aaff460-e4dc-4e70-eba0-c70d722a1ade"
      },
      "source": [
        "Filmler_Data['Polarity_Rating'] = Filmler_Data['Rating'].apply(lambda x:'Positive' if x > 6 else 'Negative')\n",
        "Filmler_Data"
      ],
      "execution_count": 68,
      "outputs": [
        {
          "output_type": "execute_result",
          "data": {
            "text/html": [
              "<div>\n",
              "<style scoped>\n",
              "    .dataframe tbody tr th:only-of-type {\n",
              "        vertical-align: middle;\n",
              "    }\n",
              "\n",
              "    .dataframe tbody tr th {\n",
              "        vertical-align: top;\n",
              "    }\n",
              "\n",
              "    .dataframe thead th {\n",
              "        text-align: right;\n",
              "    }\n",
              "</style>\n",
              "<table border=\"1\" class=\"dataframe\">\n",
              "  <thead>\n",
              "    <tr style=\"text-align: right;\">\n",
              "      <th></th>\n",
              "      <th>Title</th>\n",
              "      <th>Rating</th>\n",
              "      <th>Polarity_Rating</th>\n",
              "    </tr>\n",
              "  </thead>\n",
              "  <tbody>\n",
              "    <tr>\n",
              "      <th>371</th>\n",
              "      <td>Schindler's List</td>\n",
              "      <td>8.9</td>\n",
              "      <td>Positive</td>\n",
              "    </tr>\n",
              "    <tr>\n",
              "      <th>389</th>\n",
              "      <td>Pulp Fiction</td>\n",
              "      <td>8.9</td>\n",
              "      <td>Positive</td>\n",
              "    </tr>\n",
              "    <tr>\n",
              "      <th>1284</th>\n",
              "      <td>Inception</td>\n",
              "      <td>8.8</td>\n",
              "      <td>Positive</td>\n",
              "    </tr>\n",
              "    <tr>\n",
              "      <th>1651</th>\n",
              "      <td>Much Ado About Nothing</td>\n",
              "      <td>8.6</td>\n",
              "      <td>Positive</td>\n",
              "    </tr>\n",
              "    <tr>\n",
              "      <th>598</th>\n",
              "      <td>Koshish</td>\n",
              "      <td>8.6</td>\n",
              "      <td>Positive</td>\n",
              "    </tr>\n",
              "    <tr>\n",
              "      <th>...</th>\n",
              "      <td>...</td>\n",
              "      <td>...</td>\n",
              "      <td>...</td>\n",
              "    </tr>\n",
              "    <tr>\n",
              "      <th>831</th>\n",
              "      <td>The Vault</td>\n",
              "      <td>1.9</td>\n",
              "      <td>Negative</td>\n",
              "    </tr>\n",
              "    <tr>\n",
              "      <th>571</th>\n",
              "      <td>Himmatwala</td>\n",
              "      <td>1.7</td>\n",
              "      <td>Negative</td>\n",
              "    </tr>\n",
              "    <tr>\n",
              "      <th>1188</th>\n",
              "      <td>Pink</td>\n",
              "      <td>1.6</td>\n",
              "      <td>Negative</td>\n",
              "    </tr>\n",
              "    <tr>\n",
              "      <th>1672</th>\n",
              "      <td>Welcome to New York</td>\n",
              "      <td>1.6</td>\n",
              "      <td>Negative</td>\n",
              "    </tr>\n",
              "    <tr>\n",
              "      <th>2173</th>\n",
              "      <td>Aerials</td>\n",
              "      <td>1.6</td>\n",
              "      <td>Negative</td>\n",
              "    </tr>\n",
              "  </tbody>\n",
              "</table>\n",
              "<p>2383 rows × 3 columns</p>\n",
              "</div>"
            ],
            "text/plain": [
              "                       Title  Rating Polarity_Rating\n",
              "371         Schindler's List     8.9        Positive\n",
              "389             Pulp Fiction     8.9        Positive\n",
              "1284               Inception     8.8        Positive\n",
              "1651  Much Ado About Nothing     8.6        Positive\n",
              "598                  Koshish     8.6        Positive\n",
              "...                      ...     ...             ...\n",
              "831                The Vault     1.9        Negative\n",
              "571               Himmatwala     1.7        Negative\n",
              "1188                    Pink     1.6        Negative\n",
              "1672     Welcome to New York     1.6        Negative\n",
              "2173                 Aerials     1.6        Negative\n",
              "\n",
              "[2383 rows x 3 columns]"
            ]
          },
          "metadata": {
            "tags": []
          },
          "execution_count": 68
        }
      ]
    },
    {
      "cell_type": "code",
      "metadata": {
        "colab": {
          "base_uri": "https://localhost:8080/",
          "height": 542
        },
        "id": "yH8gmRCUIh-W",
        "outputId": "84feea27-3fc8-48e1-f65d-5870eb2139cc"
      },
      "source": [
        "sekil = px.pie(values=Filmler_Data['Polarity_Rating'].value_counts(),\n",
        "               names=Filmler_Data['Polarity_Rating'].value_counts().index)\n",
        "sekil.show()"
      ],
      "execution_count": 69,
      "outputs": [
        {
          "output_type": "display_data",
          "data": {
            "text/html": [
              "<html>\n",
              "<head><meta charset=\"utf-8\" /></head>\n",
              "<body>\n",
              "    <div>\n",
              "            <script src=\"https://cdnjs.cloudflare.com/ajax/libs/mathjax/2.7.5/MathJax.js?config=TeX-AMS-MML_SVG\"></script><script type=\"text/javascript\">if (window.MathJax) {MathJax.Hub.Config({SVG: {font: \"STIX-Web\"}});}</script>\n",
              "                <script type=\"text/javascript\">window.PlotlyConfig = {MathJaxConfig: 'local'};</script>\n",
              "        <script src=\"https://cdn.plot.ly/plotly-latest.min.js\"></script>    \n",
              "            <div id=\"b1e5bf46-27d5-4a16-b763-6a494ce28c4b\" class=\"plotly-graph-div\" style=\"height:525px; width:100%;\"></div>\n",
              "            <script type=\"text/javascript\">\n",
              "                \n",
              "                    window.PLOTLYENV=window.PLOTLYENV || {};\n",
              "                    \n",
              "                if (document.getElementById(\"b1e5bf46-27d5-4a16-b763-6a494ce28c4b\")) {\n",
              "                    Plotly.newPlot(\n",
              "                        'b1e5bf46-27d5-4a16-b763-6a494ce28c4b',\n",
              "                        [{\"domain\": {\"x\": [0.0, 1.0], \"y\": [0.0, 1.0]}, \"hoverlabel\": {\"namelength\": 0}, \"hovertemplate\": \"label=%{label}<br>value=%{value}\", \"labels\": [\"Positive\", \"Negative\"], \"legendgroup\": \"\", \"name\": \"\", \"showlegend\": true, \"type\": \"pie\", \"values\": [1206, 1177]}],\n",
              "                        {\"legend\": {\"tracegroupgap\": 0}, \"margin\": {\"t\": 60}, \"template\": {\"data\": {\"bar\": [{\"error_x\": {\"color\": \"#2a3f5f\"}, \"error_y\": {\"color\": \"#2a3f5f\"}, \"marker\": {\"line\": {\"color\": \"#E5ECF6\", \"width\": 0.5}}, \"type\": \"bar\"}], \"barpolar\": [{\"marker\": {\"line\": {\"color\": \"#E5ECF6\", \"width\": 0.5}}, \"type\": \"barpolar\"}], \"carpet\": [{\"aaxis\": {\"endlinecolor\": \"#2a3f5f\", \"gridcolor\": \"white\", \"linecolor\": \"white\", \"minorgridcolor\": \"white\", \"startlinecolor\": \"#2a3f5f\"}, \"baxis\": {\"endlinecolor\": \"#2a3f5f\", \"gridcolor\": \"white\", \"linecolor\": \"white\", \"minorgridcolor\": \"white\", \"startlinecolor\": \"#2a3f5f\"}, \"type\": \"carpet\"}], \"choropleth\": [{\"colorbar\": {\"outlinewidth\": 0, \"ticks\": \"\"}, \"type\": \"choropleth\"}], \"contour\": [{\"colorbar\": {\"outlinewidth\": 0, \"ticks\": \"\"}, \"colorscale\": [[0.0, \"#0d0887\"], [0.1111111111111111, \"#46039f\"], [0.2222222222222222, \"#7201a8\"], [0.3333333333333333, \"#9c179e\"], [0.4444444444444444, \"#bd3786\"], [0.5555555555555556, \"#d8576b\"], [0.6666666666666666, \"#ed7953\"], [0.7777777777777778, \"#fb9f3a\"], [0.8888888888888888, \"#fdca26\"], [1.0, \"#f0f921\"]], \"type\": \"contour\"}], \"contourcarpet\": [{\"colorbar\": {\"outlinewidth\": 0, \"ticks\": \"\"}, \"type\": \"contourcarpet\"}], \"heatmap\": [{\"colorbar\": {\"outlinewidth\": 0, \"ticks\": \"\"}, \"colorscale\": [[0.0, \"#0d0887\"], [0.1111111111111111, \"#46039f\"], [0.2222222222222222, \"#7201a8\"], [0.3333333333333333, \"#9c179e\"], [0.4444444444444444, \"#bd3786\"], [0.5555555555555556, \"#d8576b\"], [0.6666666666666666, \"#ed7953\"], [0.7777777777777778, \"#fb9f3a\"], [0.8888888888888888, \"#fdca26\"], [1.0, \"#f0f921\"]], \"type\": \"heatmap\"}], \"heatmapgl\": [{\"colorbar\": {\"outlinewidth\": 0, \"ticks\": \"\"}, \"colorscale\": [[0.0, \"#0d0887\"], [0.1111111111111111, \"#46039f\"], [0.2222222222222222, \"#7201a8\"], [0.3333333333333333, \"#9c179e\"], [0.4444444444444444, \"#bd3786\"], [0.5555555555555556, \"#d8576b\"], [0.6666666666666666, \"#ed7953\"], [0.7777777777777778, \"#fb9f3a\"], [0.8888888888888888, \"#fdca26\"], [1.0, \"#f0f921\"]], \"type\": \"heatmapgl\"}], \"histogram\": [{\"marker\": {\"colorbar\": {\"outlinewidth\": 0, \"ticks\": \"\"}}, \"type\": \"histogram\"}], \"histogram2d\": [{\"colorbar\": {\"outlinewidth\": 0, \"ticks\": \"\"}, \"colorscale\": [[0.0, \"#0d0887\"], [0.1111111111111111, \"#46039f\"], [0.2222222222222222, \"#7201a8\"], [0.3333333333333333, \"#9c179e\"], [0.4444444444444444, \"#bd3786\"], [0.5555555555555556, \"#d8576b\"], [0.6666666666666666, \"#ed7953\"], [0.7777777777777778, \"#fb9f3a\"], [0.8888888888888888, \"#fdca26\"], [1.0, \"#f0f921\"]], \"type\": \"histogram2d\"}], \"histogram2dcontour\": [{\"colorbar\": {\"outlinewidth\": 0, \"ticks\": \"\"}, \"colorscale\": [[0.0, \"#0d0887\"], [0.1111111111111111, \"#46039f\"], [0.2222222222222222, \"#7201a8\"], [0.3333333333333333, \"#9c179e\"], [0.4444444444444444, \"#bd3786\"], [0.5555555555555556, \"#d8576b\"], [0.6666666666666666, \"#ed7953\"], [0.7777777777777778, \"#fb9f3a\"], [0.8888888888888888, \"#fdca26\"], [1.0, \"#f0f921\"]], \"type\": \"histogram2dcontour\"}], \"mesh3d\": [{\"colorbar\": {\"outlinewidth\": 0, \"ticks\": \"\"}, \"type\": \"mesh3d\"}], \"parcoords\": [{\"line\": {\"colorbar\": {\"outlinewidth\": 0, \"ticks\": \"\"}}, \"type\": \"parcoords\"}], \"pie\": [{\"automargin\": true, \"type\": \"pie\"}], \"scatter\": [{\"marker\": {\"colorbar\": {\"outlinewidth\": 0, \"ticks\": \"\"}}, \"type\": \"scatter\"}], \"scatter3d\": [{\"line\": {\"colorbar\": {\"outlinewidth\": 0, \"ticks\": \"\"}}, \"marker\": {\"colorbar\": {\"outlinewidth\": 0, \"ticks\": \"\"}}, \"type\": \"scatter3d\"}], \"scattercarpet\": [{\"marker\": {\"colorbar\": {\"outlinewidth\": 0, \"ticks\": \"\"}}, \"type\": \"scattercarpet\"}], \"scattergeo\": [{\"marker\": {\"colorbar\": {\"outlinewidth\": 0, \"ticks\": \"\"}}, \"type\": \"scattergeo\"}], \"scattergl\": [{\"marker\": {\"colorbar\": {\"outlinewidth\": 0, \"ticks\": \"\"}}, \"type\": \"scattergl\"}], \"scattermapbox\": [{\"marker\": {\"colorbar\": {\"outlinewidth\": 0, \"ticks\": \"\"}}, \"type\": \"scattermapbox\"}], \"scatterpolar\": [{\"marker\": {\"colorbar\": {\"outlinewidth\": 0, \"ticks\": \"\"}}, \"type\": \"scatterpolar\"}], \"scatterpolargl\": [{\"marker\": {\"colorbar\": {\"outlinewidth\": 0, \"ticks\": \"\"}}, \"type\": \"scatterpolargl\"}], \"scatterternary\": [{\"marker\": {\"colorbar\": {\"outlinewidth\": 0, \"ticks\": \"\"}}, \"type\": \"scatterternary\"}], \"surface\": [{\"colorbar\": {\"outlinewidth\": 0, \"ticks\": \"\"}, \"colorscale\": [[0.0, \"#0d0887\"], [0.1111111111111111, \"#46039f\"], [0.2222222222222222, \"#7201a8\"], [0.3333333333333333, \"#9c179e\"], [0.4444444444444444, \"#bd3786\"], [0.5555555555555556, \"#d8576b\"], [0.6666666666666666, \"#ed7953\"], [0.7777777777777778, \"#fb9f3a\"], [0.8888888888888888, \"#fdca26\"], [1.0, \"#f0f921\"]], \"type\": \"surface\"}], \"table\": [{\"cells\": {\"fill\": {\"color\": \"#EBF0F8\"}, \"line\": {\"color\": \"white\"}}, \"header\": {\"fill\": {\"color\": \"#C8D4E3\"}, \"line\": {\"color\": \"white\"}}, \"type\": \"table\"}]}, \"layout\": {\"annotationdefaults\": {\"arrowcolor\": \"#2a3f5f\", \"arrowhead\": 0, \"arrowwidth\": 1}, \"coloraxis\": {\"colorbar\": {\"outlinewidth\": 0, \"ticks\": \"\"}}, \"colorscale\": {\"diverging\": [[0, \"#8e0152\"], [0.1, \"#c51b7d\"], [0.2, \"#de77ae\"], [0.3, \"#f1b6da\"], [0.4, \"#fde0ef\"], [0.5, \"#f7f7f7\"], [0.6, \"#e6f5d0\"], [0.7, \"#b8e186\"], [0.8, \"#7fbc41\"], [0.9, \"#4d9221\"], [1, \"#276419\"]], \"sequential\": [[0.0, \"#0d0887\"], [0.1111111111111111, \"#46039f\"], [0.2222222222222222, \"#7201a8\"], [0.3333333333333333, \"#9c179e\"], [0.4444444444444444, \"#bd3786\"], [0.5555555555555556, \"#d8576b\"], [0.6666666666666666, \"#ed7953\"], [0.7777777777777778, \"#fb9f3a\"], [0.8888888888888888, \"#fdca26\"], [1.0, \"#f0f921\"]], \"sequentialminus\": [[0.0, \"#0d0887\"], [0.1111111111111111, \"#46039f\"], [0.2222222222222222, \"#7201a8\"], [0.3333333333333333, \"#9c179e\"], [0.4444444444444444, \"#bd3786\"], [0.5555555555555556, \"#d8576b\"], [0.6666666666666666, \"#ed7953\"], [0.7777777777777778, \"#fb9f3a\"], [0.8888888888888888, \"#fdca26\"], [1.0, \"#f0f921\"]]}, \"colorway\": [\"#636efa\", \"#EF553B\", \"#00cc96\", \"#ab63fa\", \"#FFA15A\", \"#19d3f3\", \"#FF6692\", \"#B6E880\", \"#FF97FF\", \"#FECB52\"], \"font\": {\"color\": \"#2a3f5f\"}, \"geo\": {\"bgcolor\": \"white\", \"lakecolor\": \"white\", \"landcolor\": \"#E5ECF6\", \"showlakes\": true, \"showland\": true, \"subunitcolor\": \"white\"}, \"hoverlabel\": {\"align\": \"left\"}, \"hovermode\": \"closest\", \"mapbox\": {\"style\": \"light\"}, \"paper_bgcolor\": \"white\", \"plot_bgcolor\": \"#E5ECF6\", \"polar\": {\"angularaxis\": {\"gridcolor\": \"white\", \"linecolor\": \"white\", \"ticks\": \"\"}, \"bgcolor\": \"#E5ECF6\", \"radialaxis\": {\"gridcolor\": \"white\", \"linecolor\": \"white\", \"ticks\": \"\"}}, \"scene\": {\"xaxis\": {\"backgroundcolor\": \"#E5ECF6\", \"gridcolor\": \"white\", \"gridwidth\": 2, \"linecolor\": \"white\", \"showbackground\": true, \"ticks\": \"\", \"zerolinecolor\": \"white\"}, \"yaxis\": {\"backgroundcolor\": \"#E5ECF6\", \"gridcolor\": \"white\", \"gridwidth\": 2, \"linecolor\": \"white\", \"showbackground\": true, \"ticks\": \"\", \"zerolinecolor\": \"white\"}, \"zaxis\": {\"backgroundcolor\": \"#E5ECF6\", \"gridcolor\": \"white\", \"gridwidth\": 2, \"linecolor\": \"white\", \"showbackground\": true, \"ticks\": \"\", \"zerolinecolor\": \"white\"}}, \"shapedefaults\": {\"line\": {\"color\": \"#2a3f5f\"}}, \"ternary\": {\"aaxis\": {\"gridcolor\": \"white\", \"linecolor\": \"white\", \"ticks\": \"\"}, \"baxis\": {\"gridcolor\": \"white\", \"linecolor\": \"white\", \"ticks\": \"\"}, \"bgcolor\": \"#E5ECF6\", \"caxis\": {\"gridcolor\": \"white\", \"linecolor\": \"white\", \"ticks\": \"\"}}, \"title\": {\"x\": 0.05}, \"xaxis\": {\"automargin\": true, \"gridcolor\": \"white\", \"linecolor\": \"white\", \"ticks\": \"\", \"title\": {\"standoff\": 15}, \"zerolinecolor\": \"white\", \"zerolinewidth\": 2}, \"yaxis\": {\"automargin\": true, \"gridcolor\": \"white\", \"linecolor\": \"white\", \"ticks\": \"\", \"title\": {\"standoff\": 15}, \"zerolinecolor\": \"white\", \"zerolinewidth\": 2}}}},\n",
              "                        {\"responsive\": true}\n",
              "                    ).then(function(){\n",
              "                            \n",
              "var gd = document.getElementById('b1e5bf46-27d5-4a16-b763-6a494ce28c4b');\n",
              "var x = new MutationObserver(function (mutations, observer) {{\n",
              "        var display = window.getComputedStyle(gd).display;\n",
              "        if (!display || display === 'none') {{\n",
              "            console.log([gd, 'removed!']);\n",
              "            Plotly.purge(gd);\n",
              "            observer.disconnect();\n",
              "        }}\n",
              "}});\n",
              "\n",
              "// Listen for the removal of the full notebook cells\n",
              "var notebookContainer = gd.closest('#notebook-container');\n",
              "if (notebookContainer) {{\n",
              "    x.observe(notebookContainer, {childList: true});\n",
              "}}\n",
              "\n",
              "// Listen for the clearing of the current output cell\n",
              "var outputEl = gd.closest('.output');\n",
              "if (outputEl) {{\n",
              "    x.observe(outputEl, {childList: true});\n",
              "}}\n",
              "\n",
              "                        })\n",
              "                };\n",
              "                \n",
              "            </script>\n",
              "        </div>\n",
              "</body>\n",
              "</html>"
            ]
          },
          "metadata": {
            "tags": []
          }
        }
      ]
    },
    {
      "cell_type": "code",
      "metadata": {
        "colab": {
          "base_uri": "https://localhost:8080/"
        },
        "id": "aRbYDqNHTSTl",
        "outputId": "893a0436-b206-48c0-c812-5c9905231f09"
      },
      "source": [
        "pozitivs = Filmler_Data[Filmler_Data['Polarity_Rating'] == 'Positive']\n",
        "negativs = Filmler_Data[Filmler_Data['Polarity_Rating'] == 'Negative']\n",
        "\n",
        "print(pozitivs.shape)\n",
        "print(negativs.shape)"
      ],
      "execution_count": 70,
      "outputs": [
        {
          "output_type": "stream",
          "text": [
            "(1206, 3)\n",
            "(1177, 3)\n"
          ],
          "name": "stdout"
        }
      ]
    },
    {
      "cell_type": "code",
      "metadata": {
        "colab": {
          "base_uri": "https://localhost:8080/",
          "height": 402
        },
        "id": "dI1OJIk9T4tg",
        "outputId": "a72a8522-658a-477c-baeb-ecb0d3849081"
      },
      "source": [
        "ea = Filmler_Data[['Title','Polarity_Rating']]\n",
        "ea"
      ],
      "execution_count": 71,
      "outputs": [
        {
          "output_type": "execute_result",
          "data": {
            "text/html": [
              "<div>\n",
              "<style scoped>\n",
              "    .dataframe tbody tr th:only-of-type {\n",
              "        vertical-align: middle;\n",
              "    }\n",
              "\n",
              "    .dataframe tbody tr th {\n",
              "        vertical-align: top;\n",
              "    }\n",
              "\n",
              "    .dataframe thead th {\n",
              "        text-align: right;\n",
              "    }\n",
              "</style>\n",
              "<table border=\"1\" class=\"dataframe\">\n",
              "  <thead>\n",
              "    <tr style=\"text-align: right;\">\n",
              "      <th></th>\n",
              "      <th>Title</th>\n",
              "      <th>Polarity_Rating</th>\n",
              "    </tr>\n",
              "  </thead>\n",
              "  <tbody>\n",
              "    <tr>\n",
              "      <th>371</th>\n",
              "      <td>Schindler's List</td>\n",
              "      <td>Positive</td>\n",
              "    </tr>\n",
              "    <tr>\n",
              "      <th>389</th>\n",
              "      <td>Pulp Fiction</td>\n",
              "      <td>Positive</td>\n",
              "    </tr>\n",
              "    <tr>\n",
              "      <th>1284</th>\n",
              "      <td>Inception</td>\n",
              "      <td>Positive</td>\n",
              "    </tr>\n",
              "    <tr>\n",
              "      <th>1651</th>\n",
              "      <td>Much Ado About Nothing</td>\n",
              "      <td>Positive</td>\n",
              "    </tr>\n",
              "    <tr>\n",
              "      <th>598</th>\n",
              "      <td>Koshish</td>\n",
              "      <td>Positive</td>\n",
              "    </tr>\n",
              "    <tr>\n",
              "      <th>...</th>\n",
              "      <td>...</td>\n",
              "      <td>...</td>\n",
              "    </tr>\n",
              "    <tr>\n",
              "      <th>831</th>\n",
              "      <td>The Vault</td>\n",
              "      <td>Negative</td>\n",
              "    </tr>\n",
              "    <tr>\n",
              "      <th>571</th>\n",
              "      <td>Himmatwala</td>\n",
              "      <td>Negative</td>\n",
              "    </tr>\n",
              "    <tr>\n",
              "      <th>1188</th>\n",
              "      <td>Pink</td>\n",
              "      <td>Negative</td>\n",
              "    </tr>\n",
              "    <tr>\n",
              "      <th>1672</th>\n",
              "      <td>Welcome to New York</td>\n",
              "      <td>Negative</td>\n",
              "    </tr>\n",
              "    <tr>\n",
              "      <th>2173</th>\n",
              "      <td>Aerials</td>\n",
              "      <td>Negative</td>\n",
              "    </tr>\n",
              "  </tbody>\n",
              "</table>\n",
              "<p>2383 rows × 2 columns</p>\n",
              "</div>"
            ],
            "text/plain": [
              "                       Title Polarity_Rating\n",
              "371         Schindler's List        Positive\n",
              "389             Pulp Fiction        Positive\n",
              "1284               Inception        Positive\n",
              "1651  Much Ado About Nothing        Positive\n",
              "598                  Koshish        Positive\n",
              "...                      ...             ...\n",
              "831                The Vault        Negative\n",
              "571               Himmatwala        Negative\n",
              "1188                    Pink        Negative\n",
              "1672     Welcome to New York        Negative\n",
              "2173                 Aerials        Negative\n",
              "\n",
              "[2383 rows x 2 columns]"
            ]
          },
          "metadata": {
            "tags": []
          },
          "execution_count": 71
        }
      ]
    },
    {
      "cell_type": "code",
      "metadata": {
        "colab": {
          "base_uri": "https://localhost:8080/",
          "height": 519
        },
        "id": "kJiOCZBLUHw5",
        "outputId": "7849887e-e0be-40d8-e4d3-55dd53132eb8"
      },
      "source": [
        "one_kods = pd.get_dummies(ea[\"Polarity_Rating\"])\n",
        "ea.drop(['Polarity_Rating'],axis=1,inplace=True)\n",
        "ea = pd.concat([ea,one_kods],axis=1)\n",
        "ea"
      ],
      "execution_count": 72,
      "outputs": [
        {
          "output_type": "stream",
          "text": [
            "/usr/local/lib/python3.7/dist-packages/pandas/core/frame.py:4174: SettingWithCopyWarning:\n",
            "\n",
            "\n",
            "A value is trying to be set on a copy of a slice from a DataFrame\n",
            "\n",
            "See the caveats in the documentation: https://pandas.pydata.org/pandas-docs/stable/user_guide/indexing.html#returning-a-view-versus-a-copy\n",
            "\n"
          ],
          "name": "stderr"
        },
        {
          "output_type": "execute_result",
          "data": {
            "text/html": [
              "<div>\n",
              "<style scoped>\n",
              "    .dataframe tbody tr th:only-of-type {\n",
              "        vertical-align: middle;\n",
              "    }\n",
              "\n",
              "    .dataframe tbody tr th {\n",
              "        vertical-align: top;\n",
              "    }\n",
              "\n",
              "    .dataframe thead th {\n",
              "        text-align: right;\n",
              "    }\n",
              "</style>\n",
              "<table border=\"1\" class=\"dataframe\">\n",
              "  <thead>\n",
              "    <tr style=\"text-align: right;\">\n",
              "      <th></th>\n",
              "      <th>Title</th>\n",
              "      <th>Negative</th>\n",
              "      <th>Positive</th>\n",
              "    </tr>\n",
              "  </thead>\n",
              "  <tbody>\n",
              "    <tr>\n",
              "      <th>371</th>\n",
              "      <td>Schindler's List</td>\n",
              "      <td>0</td>\n",
              "      <td>1</td>\n",
              "    </tr>\n",
              "    <tr>\n",
              "      <th>389</th>\n",
              "      <td>Pulp Fiction</td>\n",
              "      <td>0</td>\n",
              "      <td>1</td>\n",
              "    </tr>\n",
              "    <tr>\n",
              "      <th>1284</th>\n",
              "      <td>Inception</td>\n",
              "      <td>0</td>\n",
              "      <td>1</td>\n",
              "    </tr>\n",
              "    <tr>\n",
              "      <th>1651</th>\n",
              "      <td>Much Ado About Nothing</td>\n",
              "      <td>0</td>\n",
              "      <td>1</td>\n",
              "    </tr>\n",
              "    <tr>\n",
              "      <th>598</th>\n",
              "      <td>Koshish</td>\n",
              "      <td>0</td>\n",
              "      <td>1</td>\n",
              "    </tr>\n",
              "    <tr>\n",
              "      <th>...</th>\n",
              "      <td>...</td>\n",
              "      <td>...</td>\n",
              "      <td>...</td>\n",
              "    </tr>\n",
              "    <tr>\n",
              "      <th>831</th>\n",
              "      <td>The Vault</td>\n",
              "      <td>1</td>\n",
              "      <td>0</td>\n",
              "    </tr>\n",
              "    <tr>\n",
              "      <th>571</th>\n",
              "      <td>Himmatwala</td>\n",
              "      <td>1</td>\n",
              "      <td>0</td>\n",
              "    </tr>\n",
              "    <tr>\n",
              "      <th>1188</th>\n",
              "      <td>Pink</td>\n",
              "      <td>1</td>\n",
              "      <td>0</td>\n",
              "    </tr>\n",
              "    <tr>\n",
              "      <th>1672</th>\n",
              "      <td>Welcome to New York</td>\n",
              "      <td>1</td>\n",
              "      <td>0</td>\n",
              "    </tr>\n",
              "    <tr>\n",
              "      <th>2173</th>\n",
              "      <td>Aerials</td>\n",
              "      <td>1</td>\n",
              "      <td>0</td>\n",
              "    </tr>\n",
              "  </tbody>\n",
              "</table>\n",
              "<p>2383 rows × 3 columns</p>\n",
              "</div>"
            ],
            "text/plain": [
              "                       Title  Negative  Positive\n",
              "371         Schindler's List         0         1\n",
              "389             Pulp Fiction         0         1\n",
              "1284               Inception         0         1\n",
              "1651  Much Ado About Nothing         0         1\n",
              "598                  Koshish         0         1\n",
              "...                      ...       ...       ...\n",
              "831                The Vault         1         0\n",
              "571               Himmatwala         1         0\n",
              "1188                    Pink         1         0\n",
              "1672     Welcome to New York         1         0\n",
              "2173                 Aerials         1         0\n",
              "\n",
              "[2383 rows x 3 columns]"
            ]
          },
          "metadata": {
            "tags": []
          },
          "execution_count": 72
        }
      ]
    },
    {
      "cell_type": "code",
      "metadata": {
        "id": "jLtWPQGMWXRg"
      },
      "source": [
        "X= ea['Title'].values\n",
        "y= ea.drop('Title',axis=1).values\n",
        "X_train,X_test,y_train,y_test = train_test_split(X,y,test_size=0.10,random_state=42)"
      ],
      "execution_count": 73,
      "outputs": []
    },
    {
      "cell_type": "code",
      "metadata": {
        "colab": {
          "base_uri": "https://localhost:8080/"
        },
        "id": "AqIw8BZKVz_x",
        "outputId": "ef65fd98-2d64-4e19-a196-b1aa5d0fb199"
      },
      "source": [
        "X_train"
      ],
      "execution_count": 74,
      "outputs": [
        {
          "output_type": "execute_result",
          "data": {
            "text/plain": [
              "array(['Green Room', 'Kate & Leopold', 'Zoom', ..., 'Leap Year',\n",
              "       'The Breaker Upperers', 'Romeo Akbar Walter'], dtype=object)"
            ]
          },
          "metadata": {
            "tags": []
          },
          "execution_count": 74
        }
      ]
    },
    {
      "cell_type": "code",
      "metadata": {
        "colab": {
          "base_uri": "https://localhost:8080/"
        },
        "id": "m_uoC_UnXMkS",
        "outputId": "841dbeaa-d9ef-4b52-fa72-304fb3c997a9"
      },
      "source": [
        "y_train"
      ],
      "execution_count": 75,
      "outputs": [
        {
          "output_type": "execute_result",
          "data": {
            "text/plain": [
              "array([[0, 1],\n",
              "       [0, 1],\n",
              "       [0, 1],\n",
              "       ...,\n",
              "       [0, 1],\n",
              "       [1, 0],\n",
              "       [0, 1]], dtype=uint8)"
            ]
          },
          "metadata": {
            "tags": []
          },
          "execution_count": 75
        }
      ]
    },
    {
      "cell_type": "code",
      "metadata": {
        "id": "ttKQwDQoXhkG"
      },
      "source": [
        "vctr = CountVectorizer()\n",
        "X_train = vctr.fit_transform(X_train)\n",
        "X_test = vctr.transform(X_test)\n",
        "\n",
        "sss = TfidfTransformer()\n",
        "X_train =sss.fit_transform(X_train)\n",
        "X_test = sss.transform(X_test)\n",
        "X_train = X_train.toarray()\n",
        "X_test = X_test.toarray()"
      ],
      "execution_count": 76,
      "outputs": []
    },
    {
      "cell_type": "code",
      "metadata": {
        "id": "v-H_6VouZSPa"
      },
      "source": [
        "model_4 = Sequential()\n",
        "\n",
        "model_4.add(Dense(units=12673,activation ='relu'))\n",
        "model_4.add(Dropout(0.2))\n",
        "\n",
        "model_4.add(Dense(units=4000,activation ='relu'))\n",
        "model_4.add(Dropout(0.2))\n",
        "\n",
        "model_4.add(Dense(units=500,activation ='relu'))\n",
        "model_4.add(Dropout(0.2))\n",
        "\n",
        "model_4.add(Dense(units=2,activation ='sigmoid'))\n",
        "\n",
        "opwt=tf.keras.optimizers.Adam(learning_rate=0.001)\n",
        "model_4.compile(loss='binary_crossentropy',optimizer=opwt,metrics=['binary_accuracy'])\n",
        "\n",
        "erken_durs = EarlyStopping(monitor='val_loss',mode='min',verbose=1,patience=4)\n"
      ],
      "execution_count": 77,
      "outputs": []
    },
    {
      "cell_type": "code",
      "metadata": {
        "colab": {
          "base_uri": "https://localhost:8080/"
        },
        "id": "3fVQ6NXaazFz",
        "outputId": "2c56bf74-e3b3-447c-8756-985799e6e5d1"
      },
      "source": [
        "wxy=model_4.fit(x=X_train, y=y_train, batch_size=50, epochs=80,validation_data=(X_test,y_test),verbose=1,callbacks=erken_durs)\n",
        "wxy"
      ],
      "execution_count": 78,
      "outputs": [
        {
          "output_type": "stream",
          "text": [
            "Epoch 1/80\n",
            "43/43 [==============================] - 52s 1s/step - loss: 0.6938 - binary_accuracy: 0.5196 - val_loss: 0.7140 - val_binary_accuracy: 0.4854\n",
            "Epoch 2/80\n",
            "43/43 [==============================] - 40s 930ms/step - loss: 0.4208 - binary_accuracy: 0.8162 - val_loss: 0.7861 - val_binary_accuracy: 0.5397\n",
            "Epoch 3/80\n",
            "43/43 [==============================] - 40s 927ms/step - loss: 0.2460 - binary_accuracy: 0.8923 - val_loss: 1.1649 - val_binary_accuracy: 0.5272\n",
            "Epoch 4/80\n",
            "43/43 [==============================] - 40s 924ms/step - loss: 0.1695 - binary_accuracy: 0.8976 - val_loss: 1.1704 - val_binary_accuracy: 0.5126\n",
            "Epoch 5/80\n",
            "43/43 [==============================] - 40s 925ms/step - loss: 0.1402 - binary_accuracy: 0.9025 - val_loss: 1.1309 - val_binary_accuracy: 0.5418\n",
            "Epoch 00005: early stopping\n"
          ],
          "name": "stdout"
        },
        {
          "output_type": "execute_result",
          "data": {
            "text/plain": [
              "<tensorflow.python.keras.callbacks.History at 0x7f7a83f0be90>"
            ]
          },
          "metadata": {
            "tags": []
          },
          "execution_count": 78
        }
      ]
    },
    {
      "cell_type": "code",
      "metadata": {
        "colab": {
          "base_uri": "https://localhost:8080/"
        },
        "id": "j6XhsrFAZV4u",
        "outputId": "2e52a105-1543-4002-ceb9-ec91b2555d3c"
      },
      "source": [
        "result_4 = model_4.evaluate(X_test,y_test,batch_size=64,verbose=1)\n",
        "print('Test Accuracy Başarı Oranı:',result_4[1])"
      ],
      "execution_count": 79,
      "outputs": [
        {
          "output_type": "stream",
          "text": [
            "4/4 [==============================] - 1s 249ms/step - loss: 1.1309 - binary_accuracy: 0.5418\n",
            "Test Accuracy Başarı Oranı: 0.5418410301208496\n"
          ],
          "name": "stdout"
        }
      ]
    },
    {
      "cell_type": "code",
      "metadata": {
        "colab": {
          "base_uri": "https://localhost:8080/",
          "height": 546
        },
        "id": "W080DSZ0cC9N",
        "outputId": "558b7924-dce7-4ab7-84b9-6ea0bebc21c5"
      },
      "source": [
        "cıktı = pd.DataFrame(wxy.history)\n",
        "\n",
        "cıktı.loc[1:, ['loss','val_loss']].plot()\n",
        "cıktı.loc[1:, ['binary_accuracy','val_binary_accuracy']].plot()\n",
        "\n",
        "print((\"En iyi Validation Loss: {:0.4f}\"+\\\n",
        "       \"\\n En iyi Validation Accuracy: {:0.4f}\")\\\n",
        "       .format(cıktı['val_loss'].min(),\n",
        "               cıktı['val_binary_accuracy'].max()))"
      ],
      "execution_count": 80,
      "outputs": [
        {
          "output_type": "stream",
          "text": [
            "En iyi Validation Loss: 0.7140\n",
            " En iyi Validation Accuracy: 0.5418\n"
          ],
          "name": "stdout"
        },
        {
          "output_type": "display_data",
          "data": {
            "image/png": "[encoded data removed]",
            "text/plain": [
              "<Figure size 432x288 with 1 Axes>"
            ]
          },
          "metadata": {
            "tags": [],
            "needs_background": "light"
          }
        },
        {
          "output_type": "display_data",
          "data": {
            "image/png": "[encoded data removed]",
            "text/plain": [
              "<Figure size 432x288 with 1 Axes>"
            ]
          },
          "metadata": {
            "tags": [],
            "needs_background": "light"
          }
        }
      ]
    },
    {
      "cell_type": "code",
      "metadata": {
        "id": "6sXox_Wfc_dz"
      },
      "source": [
        "\n",
        "\n",
        "\n"
      ],
      "execution_count": 80,
      "outputs": []
    },
    {
      "cell_type": "code",
      "metadata": {
        "id": "XyZOZcmZL_l7"
      },
      "source": [
        ""
      ],
      "execution_count": 80,
      "outputs": []
    },
    {
      "cell_type": "code",
      "metadata": {
        "id": "SqdfeMDuL_q3"
      },
      "source": [
        ""
      ],
      "execution_count": 80,
      "outputs": []
    }
  ]
}